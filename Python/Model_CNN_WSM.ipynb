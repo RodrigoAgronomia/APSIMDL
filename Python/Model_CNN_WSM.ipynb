{
 "cells": [
  {
   "cell_type": "code",
   "execution_count": 1,
   "metadata": {},
   "outputs": [],
   "source": [
    "import h5py\n",
    "import time\n",
    "import torch\n",
    "import pyreadr\n",
    "import numpy as np\n",
    "import pandas as pd\n",
    "import torch.nn as nn\n",
    "import matplotlib.pyplot as plt\n",
    "import torch.nn.functional as F\n",
    "from pandas.api.types import CategoricalDtype\n",
    "from torch.utils.data import Dataset, DataLoader\n",
    "from sklearn.manifold import TSNE\n",
    "from livelossplot import PlotLosses\n",
    "from pytorch_model_summary import summary\n",
    "from tqdm.notebook import tqdm, trange\n",
    "\n",
    "device = torch.device('cpu')"
   ]
  },
  {
   "cell_type": "code",
   "execution_count": 2,
   "metadata": {},
   "outputs": [],
   "source": [
    "from joblib import dump, load\n",
    "from sklearn import metrics\n",
    "from sklearn.model_selection import train_test_split, GroupShuffleSplit\n",
    "from sklearn.preprocessing import StandardScaler, LabelEncoder"
   ]
  },
  {
   "cell_type": "code",
   "execution_count": 3,
   "metadata": {},
   "outputs": [],
   "source": [
    "class MyDataset(torch.utils.data.Dataset):\n",
    "    '''\n",
    "    Class to load the dataset\n",
    "    '''\n",
    "    def __init__(self, w, s, m, y, df_id, idx):\n",
    "        self.w = w\n",
    "        self.s = s\n",
    "        self.m = m\n",
    "        self.y = y\n",
    "        self.idx = idx\n",
    "        self.df_id = df_id\n",
    "            \n",
    "    def __len__(self):\n",
    "        return len(self.idx)\n",
    "\n",
    "    def __getitem__(self, idx):\n",
    "            \n",
    "        idx = self.idx[idx]\n",
    "        year_id = self.df_id.year_id.values[idx]\n",
    "        dsow_id = self.df_id.dsow_id.values[idx]\n",
    "        loc_id = self.df_id.loc_id.values[idx]\n",
    "        mukey_id = self.df_id.mukey_id.values[idx]\n",
    "        \n",
    "        ww = torch.tensor(self.w[loc_id,:,year_id, (dsow_id - 90):(dsow_id + 210)], dtype=torch.float, device = device)\n",
    "        dd = torch.arange(300, dtype=torch.float, device = device).reshape(1,-1)/300 - 0.5\n",
    "        ww = torch.cat([ww, dd], 0)\n",
    "        ss = torch.tensor(self.s[mukey_id], dtype=torch.float, device = device)\n",
    "        mm = torch.tensor(self.m[idx], dtype=torch.float, device = device)\n",
    "        yy = torch.tensor(self.y[idx], dtype=torch.float, device = device)\n",
    "        \n",
    "        return (ww, ss, mm, yy)"
   ]
  },
  {
   "cell_type": "code",
   "execution_count": 4,
   "metadata": {},
   "outputs": [],
   "source": [
    "class MyNet(nn.Module):\n",
    "\n",
    "    def __init__(self, w_layers, s_layers, pred_layers):\n",
    "\n",
    "        super().__init__()\n",
    "              \n",
    "        # Weaher variables\n",
    "        w_layers_list = nn.ModuleList()\n",
    "        for i, o, k, d in w_layers:\n",
    "            w_layer = nn.Sequential(\n",
    "                nn.Conv1d(i, o, k),\n",
    "                nn.AvgPool1d(2),\n",
    "                nn.LeakyReLU(),\n",
    "                nn.BatchNorm1d(o),\n",
    "                nn.Dropout(d)\n",
    "            )\n",
    "            w_layers_list.append(w_layer)\n",
    "        w_layers_list.append(nn.AdaptiveAvgPool1d(1))\n",
    "        self.w_layers = nn.Sequential(*w_layers_list)\n",
    "\n",
    "                \n",
    "        # Soil variables\n",
    "        s_layers_list = nn.ModuleList()\n",
    "        for i, o, d in s_layers:\n",
    "            s_layer = nn.Sequential(\n",
    "                nn.Linear(i, o),\n",
    "                nn.LeakyReLU(),\n",
    "                nn.BatchNorm1d(o),\n",
    "                nn.Dropout(d)\n",
    "            )\n",
    "            s_layers_list.append(s_layer)\n",
    "        self.s_layers = nn.Sequential(*s_layers_list)\n",
    "        \n",
    "        \n",
    "        # Management variables\n",
    "        pred_layers_list = nn.ModuleList()\n",
    "        for i, o, d in pred_layers:\n",
    "            pred_layer = nn.Sequential(\n",
    "                nn.Linear(i, o),\n",
    "                nn.LeakyReLU(),\n",
    "                nn.BatchNorm1d(o),\n",
    "                nn.Dropout(d)\n",
    "            )\n",
    "            pred_layers_list.append(pred_layer)\n",
    "        pred_layers_list.append(nn.Linear(o, 1))\n",
    "        self.pred_layers = nn.Sequential(*pred_layers_list)\n",
    "        \n",
    "   \n",
    "    def forward(self, Ws, Ss, Ms):\n",
    "        \n",
    "        W_feat = self.w_layers(Ws).view(Ws.shape[0], -1)\n",
    "        S_feat = self.s_layers(Ss).view(Ss.shape[0], -1)\n",
    "        all_feats = torch.cat([W_feat, S_feat, Ms], dim = 1)\n",
    "        pred = self.pred_layers(all_feats)\n",
    "        return (pred)\n"
   ]
  },
  {
   "cell_type": "code",
   "execution_count": 5,
   "metadata": {},
   "outputs": [],
   "source": [
    "data_file = '/home/rodrigo7/Documents/APSIMDL/data/train.h5'"
   ]
  },
  {
   "cell_type": "code",
   "execution_count": 6,
   "metadata": {},
   "outputs": [],
   "source": [
    "# ydf = pyreadr.read_r('/home/rodrigo7/Documents/APSIMDL/original/yield.rds')[None]\n",
    "# ydf.to_hdf(data_file, \"ydf\")\n",
    "# print(ydf.shape)"
   ]
  },
  {
   "cell_type": "code",
   "execution_count": 7,
   "metadata": {},
   "outputs": [],
   "source": [
    "ydf = pd.read_hdf(data_file, \"ydf\")\n",
    "cvars = ['dul_dep', 'll15_dep', 'whc', 'leach_n', 'n_top15_delta', \n",
    "         'rain_30', 'rain_60', 'rain_90', 't_max_30', 't_max_60', 't_max_90', 't_min_30', 't_min_60', 't_min_90',\n",
    "         'day_sow', 'day_v5', 'sw_dep_v5', 'biomass_v5', 'lai_v5', 'oc_20cm_v5', 'oc_40cm_v5',\n",
    "         'n_20cm_v5', 'n_40cm_v5', 'n_60cm_v5', 'n_deep_v5', 'esw_pct_v5', 'biomass_n_v5',\n",
    "         'green_biomass_n_v5', 'greenn_v5', 'leafgreennconc_v5']\n",
    " "
   ]
  },
  {
   "cell_type": "code",
   "execution_count": 8,
   "metadata": {},
   "outputs": [],
   "source": [
    "yseq = pyreadr.read_r('/home/rodrigo7/Documents/APSIMDL/original/years_seq_long.rds')[None]\n",
    "yseq = np.int0(yseq.values).reshape(-1)\n",
    "# yseq"
   ]
  },
  {
   "cell_type": "code",
   "execution_count": 9,
   "metadata": {},
   "outputs": [],
   "source": [
    "yidx = yseq - yseq.min()\n",
    "ydf['year_id'] = yidx[ydf.z.astype('int').values + 8]\n",
    "ydf['loc_id'] = ydf.id_10.astype('int').values - 1"
   ]
  },
  {
   "cell_type": "code",
   "execution_count": 10,
   "metadata": {},
   "outputs": [
    {
     "name": "stdout",
     "output_type": "stream",
     "text": [
      "(1530, 5, 14235)\n"
     ]
    }
   ],
   "source": [
    "with h5py.File(data_file, mode='r') as hdf5_file:\n",
    "    weather_df = np.array(hdf5_file.get('weather'))\n",
    "print(weather_df.shape)"
   ]
  },
  {
   "cell_type": "code",
   "execution_count": 11,
   "metadata": {},
   "outputs": [],
   "source": [
    "W_data = np.moveaxis(weather_df, 2, 1)\n",
    "W = W_data.reshape(-1, W_data.shape[2])\n",
    "W_std = StandardScaler().fit(W)\n",
    "W = W_std.transform(W).reshape(*W_data.shape)\n",
    "dump(W_std, '../data/W_std.bin', compress=True)\n",
    "W = np.moveaxis(W, 1, 2)\n",
    "W = W.reshape(W.shape[0], 5, -1, 365)"
   ]
  },
  {
   "cell_type": "code",
   "execution_count": 12,
   "metadata": {},
   "outputs": [
    {
     "data": {
      "text/plain": [
       "(1530, 5, 39, 365)"
      ]
     },
     "execution_count": 12,
     "metadata": {},
     "output_type": "execute_result"
    }
   ],
   "source": [
    "# W = W[ydf.loc_id, :, ydf.year_id]\n",
    "W.shape"
   ]
  },
  {
   "cell_type": "code",
   "execution_count": 13,
   "metadata": {},
   "outputs": [
    {
     "name": "stdout",
     "output_type": "stream",
     "text": [
      "(3119, 121)\n"
     ]
    }
   ],
   "source": [
    "soil_df = pd.read_hdf(data_file, 'soils')\n",
    "print(soil_df.shape)"
   ]
  },
  {
   "cell_type": "code",
   "execution_count": 14,
   "metadata": {},
   "outputs": [],
   "source": [
    "available_mukey = soil_df.index.values\n",
    "available_mukey = available_mukey[available_mukey.astype('int').argsort()]\n",
    "mukey = CategoricalDtype(available_mukey)\n",
    "ydf['mukey_id'] = ydf.mukey.astype(mukey).cat.codes\n",
    "ydf = ydf.loc[ydf.mukey_id >= 0]\n",
    "# ydf = ydf.loc[ydf.Yld >= 10000]\n",
    "ydf['dsow_id'] = ydf.day_sow.astype('int').values\n",
    "df_id = ydf[['year_id', 'loc_id', 'mukey_id', 'dsow_id']]"
   ]
  },
  {
   "cell_type": "code",
   "execution_count": 15,
   "metadata": {},
   "outputs": [
    {
     "data": {
      "text/plain": [
       "array([[<matplotlib.axes._subplots.AxesSubplot object at 0x7f2e267af050>]],\n",
       "      dtype=object)"
      ]
     },
     "execution_count": 15,
     "metadata": {},
     "output_type": "execute_result"
    },
    {
     "data": {
      "image/png": "[encoded data removed]",
      "text/plain": [
       "<Figure size 432x288 with 1 Axes>"
      ]
     },
     "metadata": {
      "needs_background": "light"
     },
     "output_type": "display_data"
    }
   ],
   "source": [
    "ydf.hist('Yld')"
   ]
  },
  {
   "cell_type": "code",
   "execution_count": 16,
   "metadata": {},
   "outputs": [
    {
     "data": {
      "text/plain": [
       "<matplotlib.axes._subplots.AxesSubplot at 0x7f2df8259dd0>"
      ]
     },
     "execution_count": 16,
     "metadata": {},
     "output_type": "execute_result"
    },
    {
     "data": {
      "image/png": "[encoded data removed]",
      "text/plain": [
       "<Figure size 432x288 with 1 Axes>"
      ]
     },
     "metadata": {
      "needs_background": "light"
     },
     "output_type": "display_data"
    }
   ],
   "source": [
    "ydf.day_sow.hist()"
   ]
  },
  {
   "cell_type": "code",
   "execution_count": 17,
   "metadata": {},
   "outputs": [
    {
     "data": {
      "text/plain": [
       "['../data/S_std.bin']"
      ]
     },
     "execution_count": 17,
     "metadata": {},
     "output_type": "execute_result"
    }
   ],
   "source": [
    "S = soil_df.values\n",
    "S_std = StandardScaler().fit(S)\n",
    "S = S_std.transform(S)\n",
    "dump(S_std, '../data/S_std.bin', compress=True)\n"
   ]
  },
  {
   "cell_type": "code",
   "execution_count": 18,
   "metadata": {},
   "outputs": [
    {
     "name": "stdout",
     "output_type": "stream",
     "text": [
      "(4651019, 1)\n"
     ]
    }
   ],
   "source": [
    "Y_data = ydf.Yld.values.reshape(-1,1)\n",
    "Y_std = StandardScaler().fit(Y_data)\n",
    "Y = Y_std.transform(Y_data)\n",
    "dump(Y_std, '../data/Y_std.bin', compress=True)\n",
    "print(Y.shape)"
   ]
  },
  {
   "cell_type": "code",
   "execution_count": 19,
   "metadata": {},
   "outputs": [
    {
     "name": "stdout",
     "output_type": "stream",
     "text": [
      "(4651019, 30)\n"
     ]
    }
   ],
   "source": [
    "M_data = ydf.loc[:,cvars].values\n",
    "M_std = StandardScaler().fit(M_data)\n",
    "M = M_std.transform(M_data)\n",
    "dump(M_std, '../data/M_std.bin', compress=True)\n",
    "print(M.shape)"
   ]
  },
  {
   "cell_type": "code",
   "execution_count": 20,
   "metadata": {},
   "outputs": [
    {
     "data": {
      "text/plain": [
       "(4178228, 472791)"
      ]
     },
     "execution_count": 20,
     "metadata": {},
     "output_type": "execute_result"
    }
   ],
   "source": [
    "Z = ydf.year_id.values.reshape(-1,1)\n",
    "gss = GroupShuffleSplit(n_splits=1, test_size=0.1, train_size= 0.9, random_state=123456)\n",
    "xidx = np.arange(len(ydf))\n",
    "train_idx, val_idx = next(gss.split(xidx, groups=Z))\n",
    "train_idx.size, val_idx.size"
   ]
  },
  {
   "cell_type": "code",
   "execution_count": 21,
   "metadata": {},
   "outputs": [
    {
     "data": {
      "text/plain": [
       "(417822, 47279)"
      ]
     },
     "execution_count": 21,
     "metadata": {},
     "output_type": "execute_result"
    }
   ],
   "source": [
    "ntrain_idx = np.random.choice(train_idx, size=train_idx.size//10, replace=False)\n",
    "nval_idx = np.random.choice(val_idx, size=val_idx.size//10, replace=False)\n",
    "ntrain_idx.size, nval_idx.size"
   ]
  },
  {
   "cell_type": "code",
   "execution_count": 22,
   "metadata": {},
   "outputs": [
    {
     "data": {
      "text/plain": [
       "(27, 3)"
      ]
     },
     "execution_count": 22,
     "metadata": {},
     "output_type": "execute_result"
    }
   ],
   "source": [
    "len(np.unique(Z[ntrain_idx])), len(np.unique(Z[nval_idx])),"
   ]
  },
  {
   "cell_type": "code",
   "execution_count": 23,
   "metadata": {},
   "outputs": [
    {
     "name": "stdout",
     "output_type": "stream",
     "text": [
      "418\n"
     ]
    }
   ],
   "source": [
    "batch_size = 1000\n",
    "\n",
    "\n",
    "pred_dataset = MyDataset(W, S, M, Y, df_id, xidx)\n",
    "train_dataset = MyDataset(W, S, M, Y, df_id, ntrain_idx)\n",
    "val_dataset = MyDataset(W, S, M, Y, df_id, nval_idx)\n",
    "\n",
    "\n",
    "pred_loader = torch.utils.data.DataLoader(pred_dataset, batch_size=batch_size, drop_last=False, shuffle=False)\n",
    "train_loader = torch.utils.data.DataLoader(train_dataset, batch_size=batch_size, drop_last=False, shuffle=True)\n",
    "val_loader = torch.utils.data.DataLoader(val_dataset, batch_size=batch_size, drop_last=False, shuffle=True)\n",
    "\n",
    "data_inputs = iter(train_loader).next()\n",
    "print(len(train_loader))\n",
    "\n"
   ]
  },
  {
   "cell_type": "code",
   "execution_count": 24,
   "metadata": {},
   "outputs": [
    {
     "name": "stdout",
     "output_type": "stream",
     "text": [
      "----------------------------------------------------------------------------\n",
      "           Layer (type)        Output Shape         Param #     Tr. Param #\n",
      "============================================================================\n",
      "               Conv1d-1     [1000, 12, 298]             228             228\n",
      "            AvgPool1d-2     [1000, 12, 149]               0               0\n",
      "            LeakyReLU-3     [1000, 12, 149]               0               0\n",
      "          BatchNorm1d-4     [1000, 12, 149]              24              24\n",
      "              Dropout-5     [1000, 12, 149]               0               0\n",
      "               Conv1d-6     [1000, 15, 145]             915             915\n",
      "            AvgPool1d-7      [1000, 15, 72]               0               0\n",
      "            LeakyReLU-8      [1000, 15, 72]               0               0\n",
      "          BatchNorm1d-9      [1000, 15, 72]              30              30\n",
      "             Dropout-10      [1000, 15, 72]               0               0\n",
      "              Conv1d-11      [1000, 20, 66]           2,120           2,120\n",
      "           AvgPool1d-12      [1000, 20, 33]               0               0\n",
      "           LeakyReLU-13      [1000, 20, 33]               0               0\n",
      "         BatchNorm1d-14      [1000, 20, 33]              40              40\n",
      "             Dropout-15      [1000, 20, 33]               0               0\n",
      "              Conv1d-16      [1000, 25, 29]           2,525           2,525\n",
      "           AvgPool1d-17      [1000, 25, 14]               0               0\n",
      "           LeakyReLU-18      [1000, 25, 14]               0               0\n",
      "         BatchNorm1d-19      [1000, 25, 14]              50              50\n",
      "             Dropout-20      [1000, 25, 14]               0               0\n",
      "              Conv1d-21     [1000, 100, 12]           7,600           7,600\n",
      "           AvgPool1d-22      [1000, 100, 6]               0               0\n",
      "           LeakyReLU-23      [1000, 100, 6]               0               0\n",
      "         BatchNorm1d-24      [1000, 100, 6]             200             200\n",
      "             Dropout-25      [1000, 100, 6]               0               0\n",
      "   AdaptiveAvgPool1d-26      [1000, 100, 1]               0               0\n",
      "              Linear-27          [1000, 64]           7,808           7,808\n",
      "           LeakyReLU-28          [1000, 64]               0               0\n",
      "         BatchNorm1d-29          [1000, 64]             128             128\n",
      "             Dropout-30          [1000, 64]               0               0\n",
      "              Linear-31          [1000, 32]           2,080           2,080\n",
      "           LeakyReLU-32          [1000, 32]               0               0\n",
      "         BatchNorm1d-33          [1000, 32]              64              64\n",
      "             Dropout-34          [1000, 32]               0               0\n",
      "              Linear-35          [1000, 16]             528             528\n",
      "           LeakyReLU-36          [1000, 16]               0               0\n",
      "         BatchNorm1d-37          [1000, 16]              32              32\n",
      "             Dropout-38          [1000, 16]               0               0\n",
      "              Linear-39          [1000, 32]             544             544\n",
      "           LeakyReLU-40          [1000, 32]               0               0\n",
      "         BatchNorm1d-41          [1000, 32]              64              64\n",
      "             Dropout-42          [1000, 32]               0               0\n",
      "              Linear-43         [1000, 100]          16,300          16,300\n",
      "           LeakyReLU-44         [1000, 100]               0               0\n",
      "         BatchNorm1d-45         [1000, 100]             200             200\n",
      "             Dropout-46         [1000, 100]               0               0\n",
      "              Linear-47          [1000, 50]           5,050           5,050\n",
      "           LeakyReLU-48          [1000, 50]               0               0\n",
      "         BatchNorm1d-49          [1000, 50]             100             100\n",
      "             Dropout-50          [1000, 50]               0               0\n",
      "              Linear-51          [1000, 50]           2,550           2,550\n",
      "           LeakyReLU-52          [1000, 50]               0               0\n",
      "         BatchNorm1d-53          [1000, 50]             100             100\n",
      "             Dropout-54          [1000, 50]               0               0\n",
      "              Linear-55          [1000, 25]           1,275           1,275\n",
      "           LeakyReLU-56          [1000, 25]               0               0\n",
      "         BatchNorm1d-57          [1000, 25]              50              50\n",
      "             Dropout-58          [1000, 25]               0               0\n",
      "              Linear-59           [1000, 1]              26              26\n",
      "============================================================================\n",
      "Total params: 50,631\n",
      "Trainable params: 50,631\n",
      "Non-trainable params: 0\n",
      "----------------------------------------------------------------------------\n"
     ]
    }
   ],
   "source": [
    "d = 0.1\n",
    "w_layers =  [[6,12,3,d],[12,15,5,d],[15,20,7,d],[20,25,5,d],[25,100,3,d]]\n",
    "s_layers = [[121,64,d],[64,32,d],[32,16,d],[16,32,d]]\n",
    "pred_layers = [[162,100,d],[100,50,d],[50,50,d], [50,25,d]]\n",
    "\n",
    "model = MyNet(w_layers, s_layers, pred_layers)\n",
    "model = model.to(device)\n",
    "model.load_state_dict(torch.load('../data/model_v0.pth', map_location=device))\n",
    "sm = summary(model, *data_inputs[:3], print_summary=True)"
   ]
  },
  {
   "cell_type": "code",
   "execution_count": 25,
   "metadata": {},
   "outputs": [],
   "source": [
    "criterion = nn.MSELoss()\n",
    "optimizer = torch.optim.Adam(model.parameters(), lr=0.01)"
   ]
  },
  {
   "cell_type": "code",
   "execution_count": null,
   "metadata": {},
   "outputs": [
    {
     "data": {
      "application/vnd.jupyter.widget-view+json": {
       "model_id": "9e8e43d1d5414b6aa108cf15534edf96",
       "version_major": 2,
       "version_minor": 0
      },
      "text/plain": [
       "HBox(children=(FloatProgress(value=0.0, max=418.0), HTML(value='')))"
      ]
     },
     "metadata": {},
     "output_type": "display_data"
    }
   ],
   "source": [
    "min_loss = 10\n",
    "bad_epochs = 0\n",
    "liveloss = PlotLosses()\n",
    "num_epochs = 150 # Define o número de épocas para realizar o treinamento \n",
    "for epoch in range(num_epochs):\n",
    "    start_time = time.time()\n",
    "    epoch_loss = []\n",
    "    val_loss = []\n",
    "    \n",
    "    model.train()\n",
    "    for i, (Ws, Ss, Ms, Ys) in enumerate(tqdm(train_loader)):\n",
    "        \n",
    "        # Limpa os gradientes\n",
    "        optimizer.zero_grad()\n",
    "    \n",
    "        # Obtem o output\n",
    "        outputs = model(Ws, Ss, Ms)\n",
    "\n",
    "        # Caulcula a perda pela loss function\n",
    "        loss = criterion(outputs, Ys)\n",
    "\n",
    "        # Obtem os gradientes\n",
    "        loss.backward()\n",
    "\n",
    "        # Atualiza os parâmetros\n",
    "        optimizer.step()\n",
    "        epoch_loss.append(loss.data.item())\n",
    "        \n",
    "    model.eval()\n",
    "    for i, (Ws, Ss, Ms, Ys) in enumerate(tqdm(val_loader)):\n",
    "        with torch.no_grad():\n",
    "          # Obtem o output\n",
    "          outputs = model(Ws, Ss, Ms)\n",
    "\n",
    "        # Caulcula a perda pela loss function (MSE)\n",
    "        loss = criterion(outputs, Ys)\n",
    "\n",
    "        val_loss.append(loss.data.item())\n",
    "        \n",
    "    epoch_loss = np.array(epoch_loss).mean()\n",
    "    val_loss = np.array(val_loss).mean()\n",
    "    time_taken = time.time() - start_time\n",
    "    \n",
    "    if val_loss < min_loss:\n",
    "        # Nome da pasta com o arquivo .pth salvando os pesos do modelo treinado\n",
    "        model_file_name = '../data/model_v0.pth'\n",
    "        torch.save(model.state_dict(), model_file_name)\n",
    "        bad_epochs = 0\n",
    "        min_loss = val_loss\n",
    "    else:\n",
    "        bad_epochs += 1\n",
    "    \n",
    "    if bad_epochs > 50:\n",
    "        break\n",
    "\n",
    "    liveloss.update({\n",
    "        'log loss': epoch_loss,\n",
    "        'val_log loss': val_loss\n",
    "    })\n",
    "    liveloss.draw() #Apresenta o gráfico log loss\n",
    "    print('[%d:%d] loss: %.3f time:%.2f' % (bad_epochs, epoch, epoch_loss, time_taken))\n"
   ]
  },
  {
   "cell_type": "code",
   "execution_count": null,
   "metadata": {},
   "outputs": [],
   "source": [
    "model.load_state_dict(torch.load('../data/model_v0.pth', map_location=device))\n",
    "print('Model OK')"
   ]
  },
  {
   "cell_type": "code",
   "execution_count": null,
   "metadata": {},
   "outputs": [],
   "source": [
    "# Inicia o tempo para contagem\n",
    "start_time = time.time()\n",
    "\n",
    "# Realiza a predição dos dados a partir do modelo treinado - Dados de validação\n",
    "model.eval()\n",
    "obs = []\n",
    "preds = []\n",
    "for i, (Ws, Ss, Ms, Ys) in enumerate(tqdm(train_loader)):\n",
    "    obs.append(Ys.cpu().data.numpy())\n",
    "    with torch.no_grad():\n",
    "        pred = model(Ws, Ss, Ms)\n",
    "    preds.append(pred.cpu().data.numpy())\n",
    "obs = np.concatenate(obs)\n",
    "preds = np.concatenate(preds)\n",
    "\n",
    "# Faz a diferença para calcular o tempo           \n",
    "time_taken = time.time() - start_time\n",
    "# Apresenta o valor do tempo\n",
    "print('time:%.2f' % (time_taken))"
   ]
  },
  {
   "cell_type": "code",
   "execution_count": null,
   "metadata": {},
   "outputs": [],
   "source": [
    "model.eval()\n",
    "b_loss = []\n",
    "for (Ws, Ss, Ms, Ys) in tqdm(train_loader):\n",
    "    w_loss = []\n",
    "    for i in trange(300):\n",
    "        v_loss = [i]\n",
    "        for v in range(5):\n",
    "            Wsw = Ws.clone()\n",
    "            Wsw[:,v,(i-4):(i+3)] = 0\n",
    "            with torch.no_grad():\n",
    "                outputs = model(Wsw, Ss, Ms)\n",
    "            loss = criterion(outputs, Ys)\n",
    "            v_loss.append(loss.data.item())\n",
    "        w_loss.append(v_loss)\n",
    "    b_loss.append(np.array(w_loss))"
   ]
  },
  {
   "cell_type": "code",
   "execution_count": null,
   "metadata": {},
   "outputs": [],
   "source": [
    "dap_err = np.stack(b_loss).mean(0)"
   ]
  },
  {
   "cell_type": "code",
   "execution_count": null,
   "metadata": {},
   "outputs": [],
   "source": [
    "cls = [\"interval\",\"radn\", \"maxt\", \"mint\", \"rain\", \"dayl\", \"dap\"]\n"
   ]
  },
  {
   "cell_type": "code",
   "execution_count": null,
   "metadata": {},
   "outputs": [],
   "source": [
    "plt.figure(figsize=(20,10))\n",
    "for i in range(1,6):\n",
    "    plt.plot(dap_err.T[0], dap_err.T[i], label = cls[i])\n",
    "plt.legend()\n"
   ]
  },
  {
   "cell_type": "code",
   "execution_count": null,
   "metadata": {},
   "outputs": [],
   "source": []
  },
  {
   "cell_type": "code",
   "execution_count": null,
   "metadata": {},
   "outputs": [],
   "source": [
    "x = Y_std.inverse_transform(preds.reshape(-1))\n",
    "y = Y_std.inverse_transform(obs.reshape(-1))\n",
    "\n",
    "ax = plt.axes()\n",
    "ax.set_aspect('equal', 'datalim')\n",
    "\n",
    "plt.scatter(x, y, 0.1, alpha=0.1)\n",
    "plt.xlabel('Predicted')\n",
    "plt.ylabel('Observed')\n",
    "plt.plot([y.min(), y.max()], [y.min(), y.max()], 'k-', color = 'r')\n",
    "print(np.round(np.corrcoef(x, y, rowvar=False)[1,0],3))\n",
    "plt.show()"
   ]
  },
  {
   "cell_type": "code",
   "execution_count": null,
   "metadata": {},
   "outputs": [],
   "source": [
    "x.mean(), y.mean()"
   ]
  },
  {
   "cell_type": "code",
   "execution_count": null,
   "metadata": {},
   "outputs": [],
   "source": []
  }
 ],
 "metadata": {
  "kernelspec": {
   "display_name": "Python [conda env:GEOANN]",
   "language": "python",
   "name": "conda-env-GEOANN-py"
  },
  "language_info": {
   "codemirror_mode": {
    "name": "ipython",
    "version": 3
   },
   "file_extension": ".py",
   "mimetype": "text/x-python",
   "name": "python",
   "nbconvert_exporter": "python",
   "pygments_lexer": "ipython3",
   "version": "3.7.6"
  },
  "varInspector": {
   "cols": {
    "lenName": 16,
    "lenType": 16,
    "lenVar": 40
   },
   "kernels_config": {
    "python": {
     "delete_cmd_postfix": "",
     "delete_cmd_prefix": "del ",
     "library": "var_list.py",
     "varRefreshCmd": "print(var_dic_list())"
    },
    "r": {
     "delete_cmd_postfix": ") ",
     "delete_cmd_prefix": "rm(",
     "library": "var_list.r",
     "varRefreshCmd": "cat(var_dic_list()) "
    }
   },
   "types_to_exclude": [
    "module",
    "function",
    "builtin_function_or_method",
    "instance",
    "_Feature"
   ],
   "window_display": false
  }
 },
 "nbformat": 4,
 "nbformat_minor": 2
}
