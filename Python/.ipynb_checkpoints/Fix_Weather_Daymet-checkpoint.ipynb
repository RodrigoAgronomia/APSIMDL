{
 "cells": [
  {
   "cell_type": "code",
   "execution_count": 1,
   "metadata": {},
   "outputs": [],
   "source": [
    "import numpy as np\n",
    "import pandas as pd\n",
    "import geopandas as gpd\n",
    "import seaborn as sns\n",
    "import matplotlib.pyplot as plt\n",
    "from tqdm.notebook import tqdm, trange\n"
   ]
  },
  {
   "cell_type": "code",
   "execution_count": 2,
   "metadata": {},
   "outputs": [],
   "source": [
    "pts = gpd.read_file('../../CIAT/data/BEM_2019_Chiapas_Final_Clean.gpkg')\n"
   ]
  },
  {
   "cell_type": "code",
   "execution_count": 3,
   "metadata": {},
   "outputs": [
    {
     "data": {
      "application/vnd.jupyter.widget-view+json": {
       "model_id": "a1dcf598014546cd9227b61862835256",
       "version_major": 2,
       "version_minor": 0
      },
      "text/plain": [
       "HBox(children=(FloatProgress(value=0.0, max=4594.0), HTML(value='')))"
      ]
     },
     "metadata": {},
     "output_type": "display_data"
    },
    {
     "name": "stdout",
     "output_type": "stream",
     "text": [
      "\n"
     ]
    }
   ],
   "source": [
    "i = 1\n",
    "for i in trange(len(pts)):\n",
    "    daymet_file = '/home/rodrigo7/Apsim_test/MASAGRO/PCSE/CH{0:05d}_dm.csv'.format(i + 1)\n",
    "    daymet_df = pd.read_csv(daymet_file, skiprows=13)\n",
    "    daymet_df.DAY = pd.to_datetime(daymet_df.DAY, format= '%Y%m%d').dt.date\n",
    "\n",
    "    nasa_power_file = '/home/rodrigo7/Apsim_test/MASAGRO/PCSE/CH{0:05d}_npf.csv'.format(i + 1)\n",
    "    nasa_power_df = pd.read_csv(nasa_power_file, skiprows=13)\n",
    "    nasa_power_df.DAY = pd.to_datetime(nasa_power_df.DAY, format= '%Y%m%d').dt.date\n",
    "\n",
    "    pvars = ['DAY', 'IRRAD', 'TMIN', 'TMAX', 'VAP', 'WIND', 'RAIN', 'SNOWDEPTH']\n",
    "    dff = pd.merge(daymet_df, nasa_power_df, on='DAY', suffixes=('', '_np'))\n",
    "    dff.WIND = dff.WIND_np\n",
    "    dff = dff.loc[:,pvars]\n",
    "    dff.DAY = pd.to_datetime(dff.DAY).dt.strftime('%Y%m%d')\n",
    "    dff.IRRAD = dff.IRRAD.astype('float')\n",
    "    dff.RAIN = dff.RAIN.astype('float')\n",
    "\n",
    "    save_file = '/home/rodrigo7/Apsim_test/MASAGRO/PCSE/CH{0:05d}_dmf.csv'.format(i + 1)\n",
    "    with open(save_file, 'w') as sf:\n",
    "        with open(nasa_power_file) as f:\n",
    "            for r in range(14):\n",
    "                sf.writelines(f.readline())\n",
    "    dff.to_csv(save_file, na_rep = 'NaN', mode = 'a', float_format = '%.3f', header = False, index = False)\n",
    "\n"
   ]
  },
  {
   "cell_type": "code",
   "execution_count": null,
   "metadata": {},
   "outputs": [],
   "source": []
  },
  {
   "cell_type": "code",
   "execution_count": null,
   "metadata": {},
   "outputs": [],
   "source": []
  }
 ],
 "metadata": {
  "kernelspec": {
   "display_name": "Python [conda env:GEOANN]",
   "language": "python",
   "name": "conda-env-GEOANN-py"
  },
  "language_info": {
   "codemirror_mode": {
    "name": "ipython",
    "version": 3
   },
   "file_extension": ".py",
   "mimetype": "text/x-python",
   "name": "python",
   "nbconvert_exporter": "python",
   "pygments_lexer": "ipython3",
   "version": "3.7.6"
  }
 },
 "nbformat": 4,
 "nbformat_minor": 4
}
