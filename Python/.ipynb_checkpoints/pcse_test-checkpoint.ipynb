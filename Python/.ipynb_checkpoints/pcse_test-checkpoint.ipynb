{
 "cells": [
  {
   "cell_type": "code",
   "execution_count": 41,
   "metadata": {},
   "outputs": [],
   "source": [
    "import os\n",
    "import pcse\n",
    "import pandas as pd\n",
    "from pcse.fileinput import YAMLCropDataProvider"
   ]
  },
  {
   "cell_type": "code",
   "execution_count": 72,
   "metadata": {},
   "outputs": [
    {
     "name": "stdout",
     "output_type": "stream",
     "text": [
      "YAMLCropDataProvider - current active crop 'maize' with variety 'Maize_VanHeemst_1988'\n",
      "Available crop parameters:\n",
      " {'CO2EFFTB': [40.0, 0.0, 360.0, 1.0, 720.0, 1.0, 1000.0, 1.0, 2000.0, 1.0], 'CO2TRATB': [40.0, 0.0, 360.0, 1.0, 720.0, 0.74, 1000.0, 0.74, 2000.0, 0.74], 'CO2AMAXTB': [40.0, 0.0, 360.0, 1.0, 720.0, 1.0, 1000.0, 1.0, 2000.0, 1.0], 'TBASEM': 10.0, 'TEFFMX': 30.0, 'TSUMEM': 70, 'IDSL': 0, 'DLO': 1.0, 'DLC': 0.0, 'TSUM1': 750, 'TSUM2': 859, 'DTSMTB': [0.0, 0.0, 8.0, 0.0, 30.0, 22.0, 35.0, 22.0], 'DVSI': 0.0, 'DVSEND': 2.0, 'VERNBASE': 14.0, 'VERNSAT': 70.0, 'VERNDVS': 0.3, 'VERNRTB': [-8.0, 0.0, -4.0, 0.0, 3.0, 1.0, 10.0, 1.0, 17.0, 0.0, 20.0, 0.0], 'TDWI': 20.0, 'RGRLAI': 0.05, 'SLATB': [0.0, 0.0035, 1.0, 0.0016, 2.0, 0.0016], 'SPA': 0.0, 'SSATB': [0.0, 0.0, 2.0, 0.0], 'SPAN': 40.0, 'TBASE': 8.0, 'KDIFTB': [0.0, 0.6, 2.0, 0.6], 'EFFTB': [0.0, 0.5, 40.0, 0.5], 'AMAXTB': [0.0, 70.0, 1.25, 70.0, 1.5, 63.0, 1.75, 49.0, 2.0, 0.0], 'TMPFTB': [0.0, 0.0, 6.0, 0.0, 30.0, 1.0, 42.0, 1.0, 51.0, 0.0], 'TMNFTB': [5.0, 0.0, 12.0, 1.0], 'CVL': 0.72, 'CVO': 0.72, 'CVR': 0.72, 'CVS': 0.69, 'Q10': 2.0, 'RML': 0.03, 'RMO': 0.01, 'RMR': 0.01, 'RMS': 0.015, 'RFSETB': [0.0, 1.0, 2.0, 1.0], 'FRTB': [0.0, 0.4, 1.1, 0.0, 2.0, 0.0], 'FLTB': [0.0, 0.62, 0.48, 0.62, 0.9, 0.28, 1.25, 0.0, 1.37, 0.0, 2.0, 0.0], 'FSTB': [0.0, 0.38, 0.48, 0.38, 0.9, 0.72, 1.25, 0.24, 1.37, 0.0, 2.0, 0.0], 'FOTB': [0.0, 0.0, 0.48, 0.0, 0.9, 0.0, 1.25, 0.76, 1.37, 1.0, 2.0, 1.0], 'PERDL': 0.03, 'RDRRTB': [0.0, 0.0, 1.5, 0.0, 1.51, 0.02, 2.0, 0.02], 'RDRSTB': [0.0, 0.0, 1.5, 0.0, 1.51, 0.02, 2.0, 0.02], 'CFET': 1.0, 'DEPNR': 4.5, 'IAIRDU': 0, 'IOX': 0, 'RDI': 10.0, 'RRI': 1.2, 'RDMCR': 75.0, 'NMAXLV_TB': [0.0, 0.06, 0.4, 0.04, 0.7, 0.03, 1.0, 0.02, 2.0, 0.0167, 2.1, 0.0167], 'NMAXRT_FR': 0.5, 'NMAXST_FR': 0.5, 'NMAXSO': 0.022, 'NCRIT_FR': 1.0, 'NRESIDLV': 0.0053, 'NRESIDST': 0.0027, 'NRESIDRT': 0.0027, 'TCNT': 10, 'NFIX_FR': 0.0, 'PMAXLV_TB': [0.0, 0.0144, 0.4, 0.0096, 0.7, 0.0072, 1.0, 0.0048, 2.0, 0.004, 2.1, 0.004], 'PMAXRT_FR': 0.5, 'PMAXST_FR': 0.5, 'PMAXSO': 0.0075, 'PCRIT_FR': 1.0, 'PRESIDLV': 0.0005, 'PRESIDST': 0.0003, 'PRESIDRT': 0.0003, 'TCPT': 10, 'KMAXLV_TB': [0.0, 0.096, 0.4, 0.064, 0.7, 0.048, 1.0, 0.032, 2.0, 0.027, 2.1, 0.027], 'KMAXRT_FR': 0.5, 'KMAXST_FR': 0.5, 'KMAXSO': 0.006, 'KCRIT_FR': 1.0, 'KRESIDLV': 0.0067, 'KRESIDST': 0.0033, 'KRESIDRT': 0.0033, 'TCKT': 10, 'DVS_NPK_STOP': 1.3, 'DVS_NPK_TRANSL': 0.8, 'NLAI_NPK': 1.0, 'NSLA_NPK': 0.5, 'NPART': 1.0, 'NLUE_NPK': 1.1, 'NPK_TRANSLRT_FR': 0.5, 'RDRLV_NPK': 0.05}\n"
     ]
    }
   ],
   "source": [
    "p = YAMLCropDataProvider()\n",
    "p.set_active_crop('maize', 'Maize_VanHeemst_1988')\n",
    "print(p)"
   ]
  },
  {
   "cell_type": "code",
   "execution_count": 16,
   "metadata": {},
   "outputs": [
    {
     "data": {
      "text/plain": [
       "pcse.models.Wofost71_WLP_FD"
      ]
     },
     "execution_count": 16,
     "metadata": {},
     "output_type": "execute_result"
    }
   ],
   "source": [
    "wofost_object = pcse.start_wofost(grid=31031, crop=1, year=2000, mode='wlp')\n",
    "type(wofost_object)"
   ]
  },
  {
   "cell_type": "code",
   "execution_count": 17,
   "metadata": {},
   "outputs": [],
   "source": [
    "wofost_object.run()\n",
    "wofost_object.run(days=10)"
   ]
  },
  {
   "cell_type": "code",
   "execution_count": 18,
   "metadata": {},
   "outputs": [
    {
     "data": {
      "text/plain": [
       "0.2870809817505803"
      ]
     },
     "execution_count": 18,
     "metadata": {},
     "output_type": "execute_result"
    }
   ],
   "source": [
    "wofost_object.get_variable('LAI')"
   ]
  },
  {
   "cell_type": "code",
   "execution_count": 19,
   "metadata": {},
   "outputs": [
    {
     "data": {
      "text/plain": [
       "1.5281221557442748"
      ]
     },
     "execution_count": 19,
     "metadata": {},
     "output_type": "execute_result"
    }
   ],
   "source": [
    "wofost_object.run(days=25)\n",
    "wofost_object.get_variable('LAI')"
   ]
  },
  {
   "cell_type": "code",
   "execution_count": 20,
   "metadata": {},
   "outputs": [],
   "source": [
    "wofost_object.run_till_terminate()"
   ]
  },
  {
   "cell_type": "code",
   "execution_count": 22,
   "metadata": {},
   "outputs": [],
   "source": [
    "output = wofost_object.get_output()"
   ]
  },
  {
   "cell_type": "code",
   "execution_count": 24,
   "metadata": {},
   "outputs": [],
   "source": [
    "df = pd.DataFrame(output)"
   ]
  },
  {
   "cell_type": "code",
   "execution_count": 25,
   "metadata": {},
   "outputs": [
    {
     "data": {
      "text/html": [
       "<div>\n",
       "<style scoped>\n",
       "    .dataframe tbody tr th:only-of-type {\n",
       "        vertical-align: middle;\n",
       "    }\n",
       "\n",
       "    .dataframe tbody tr th {\n",
       "        vertical-align: top;\n",
       "    }\n",
       "\n",
       "    .dataframe thead th {\n",
       "        text-align: right;\n",
       "    }\n",
       "</style>\n",
       "<table border=\"1\" class=\"dataframe\">\n",
       "  <thead>\n",
       "    <tr style=\"text-align: right;\">\n",
       "      <th></th>\n",
       "      <th>day</th>\n",
       "      <th>DVS</th>\n",
       "      <th>LAI</th>\n",
       "      <th>TAGP</th>\n",
       "      <th>TWSO</th>\n",
       "      <th>TWLV</th>\n",
       "      <th>TWST</th>\n",
       "      <th>TWRT</th>\n",
       "      <th>TRA</th>\n",
       "      <th>RD</th>\n",
       "      <th>SM</th>\n",
       "      <th>WWLOW</th>\n",
       "    </tr>\n",
       "  </thead>\n",
       "  <tbody>\n",
       "    <tr>\n",
       "      <th>0</th>\n",
       "      <td>2000-01-01</td>\n",
       "      <td>0.000000</td>\n",
       "      <td>0.144690</td>\n",
       "      <td>105.000000</td>\n",
       "      <td>0.000000</td>\n",
       "      <td>68.250000</td>\n",
       "      <td>36.750000</td>\n",
       "      <td>105.000000</td>\n",
       "      <td>0.005768</td>\n",
       "      <td>10.0</td>\n",
       "      <td>0.250000</td>\n",
       "      <td>19.090000</td>\n",
       "    </tr>\n",
       "    <tr>\n",
       "      <th>1</th>\n",
       "      <td>2000-01-02</td>\n",
       "      <td>0.008867</td>\n",
       "      <td>0.154184</td>\n",
       "      <td>111.889710</td>\n",
       "      <td>0.000000</td>\n",
       "      <td>72.728312</td>\n",
       "      <td>39.161399</td>\n",
       "      <td>111.889710</td>\n",
       "      <td>0.003312</td>\n",
       "      <td>11.2</td>\n",
       "      <td>0.253925</td>\n",
       "      <td>18.337965</td>\n",
       "    </tr>\n",
       "    <tr>\n",
       "      <th>2</th>\n",
       "      <td>2000-01-03</td>\n",
       "      <td>0.017157</td>\n",
       "      <td>0.164025</td>\n",
       "      <td>119.031178</td>\n",
       "      <td>0.000000</td>\n",
       "      <td>77.370266</td>\n",
       "      <td>41.660912</td>\n",
       "      <td>119.031178</td>\n",
       "      <td>0.002589</td>\n",
       "      <td>12.4</td>\n",
       "      <td>0.258804</td>\n",
       "      <td>18.322171</td>\n",
       "    </tr>\n",
       "    <tr>\n",
       "      <th>3</th>\n",
       "      <td>2000-01-04</td>\n",
       "      <td>0.024293</td>\n",
       "      <td>0.173908</td>\n",
       "      <td>126.203520</td>\n",
       "      <td>0.000000</td>\n",
       "      <td>82.032288</td>\n",
       "      <td>44.171232</td>\n",
       "      <td>126.203520</td>\n",
       "      <td>0.006309</td>\n",
       "      <td>13.6</td>\n",
       "      <td>0.263165</td>\n",
       "      <td>18.311042</td>\n",
       "    </tr>\n",
       "    <tr>\n",
       "      <th>4</th>\n",
       "      <td>2000-01-05</td>\n",
       "      <td>0.032706</td>\n",
       "      <td>0.185033</td>\n",
       "      <td>134.276367</td>\n",
       "      <td>0.000000</td>\n",
       "      <td>87.279639</td>\n",
       "      <td>46.996729</td>\n",
       "      <td>134.276367</td>\n",
       "      <td>0.003616</td>\n",
       "      <td>14.8</td>\n",
       "      <td>0.266002</td>\n",
       "      <td>18.287827</td>\n",
       "    </tr>\n",
       "    <tr>\n",
       "      <th>...</th>\n",
       "      <td>...</td>\n",
       "      <td>...</td>\n",
       "      <td>...</td>\n",
       "      <td>...</td>\n",
       "      <td>...</td>\n",
       "      <td>...</td>\n",
       "      <td>...</td>\n",
       "      <td>...</td>\n",
       "      <td>...</td>\n",
       "      <td>...</td>\n",
       "      <td>...</td>\n",
       "      <td>...</td>\n",
       "    </tr>\n",
       "    <tr>\n",
       "      <th>147</th>\n",
       "      <td>2000-05-27</td>\n",
       "      <td>1.934169</td>\n",
       "      <td>0.000000</td>\n",
       "      <td>15261.754008</td>\n",
       "      <td>7179.804492</td>\n",
       "      <td>3029.370474</td>\n",
       "      <td>5052.579042</td>\n",
       "      <td>1546.991228</td>\n",
       "      <td>0.000000</td>\n",
       "      <td>60.0</td>\n",
       "      <td>0.227706</td>\n",
       "      <td>13.662355</td>\n",
       "    </tr>\n",
       "    <tr>\n",
       "      <th>148</th>\n",
       "      <td>2000-05-28</td>\n",
       "      <td>1.953874</td>\n",
       "      <td>0.000000</td>\n",
       "      <td>15261.754008</td>\n",
       "      <td>7179.804492</td>\n",
       "      <td>3029.370474</td>\n",
       "      <td>5052.579042</td>\n",
       "      <td>1546.991228</td>\n",
       "      <td>0.000000</td>\n",
       "      <td>60.0</td>\n",
       "      <td>0.225102</td>\n",
       "      <td>13.506115</td>\n",
       "    </tr>\n",
       "    <tr>\n",
       "      <th>149</th>\n",
       "      <td>2000-05-29</td>\n",
       "      <td>1.974056</td>\n",
       "      <td>0.000000</td>\n",
       "      <td>15261.754008</td>\n",
       "      <td>7179.804492</td>\n",
       "      <td>3029.370474</td>\n",
       "      <td>5052.579042</td>\n",
       "      <td>1546.991228</td>\n",
       "      <td>0.000000</td>\n",
       "      <td>60.0</td>\n",
       "      <td>0.222831</td>\n",
       "      <td>13.369834</td>\n",
       "    </tr>\n",
       "    <tr>\n",
       "      <th>150</th>\n",
       "      <td>2000-05-30</td>\n",
       "      <td>1.995758</td>\n",
       "      <td>0.000000</td>\n",
       "      <td>15261.754008</td>\n",
       "      <td>7179.804492</td>\n",
       "      <td>3029.370474</td>\n",
       "      <td>5052.579042</td>\n",
       "      <td>1546.991228</td>\n",
       "      <td>0.000000</td>\n",
       "      <td>60.0</td>\n",
       "      <td>0.220333</td>\n",
       "      <td>13.219966</td>\n",
       "    </tr>\n",
       "    <tr>\n",
       "      <th>151</th>\n",
       "      <td>2000-05-31</td>\n",
       "      <td>2.000000</td>\n",
       "      <td>0.000000</td>\n",
       "      <td>15261.754008</td>\n",
       "      <td>7179.804492</td>\n",
       "      <td>3029.370474</td>\n",
       "      <td>5052.579042</td>\n",
       "      <td>1546.991228</td>\n",
       "      <td>0.000000</td>\n",
       "      <td>60.0</td>\n",
       "      <td>0.217911</td>\n",
       "      <td>13.074686</td>\n",
       "    </tr>\n",
       "  </tbody>\n",
       "</table>\n",
       "<p>152 rows × 12 columns</p>\n",
       "</div>"
      ],
      "text/plain": [
       "            day       DVS       LAI          TAGP         TWSO         TWLV  \\\n",
       "0    2000-01-01  0.000000  0.144690    105.000000     0.000000    68.250000   \n",
       "1    2000-01-02  0.008867  0.154184    111.889710     0.000000    72.728312   \n",
       "2    2000-01-03  0.017157  0.164025    119.031178     0.000000    77.370266   \n",
       "3    2000-01-04  0.024293  0.173908    126.203520     0.000000    82.032288   \n",
       "4    2000-01-05  0.032706  0.185033    134.276367     0.000000    87.279639   \n",
       "..          ...       ...       ...           ...          ...          ...   \n",
       "147  2000-05-27  1.934169  0.000000  15261.754008  7179.804492  3029.370474   \n",
       "148  2000-05-28  1.953874  0.000000  15261.754008  7179.804492  3029.370474   \n",
       "149  2000-05-29  1.974056  0.000000  15261.754008  7179.804492  3029.370474   \n",
       "150  2000-05-30  1.995758  0.000000  15261.754008  7179.804492  3029.370474   \n",
       "151  2000-05-31  2.000000  0.000000  15261.754008  7179.804492  3029.370474   \n",
       "\n",
       "            TWST         TWRT       TRA    RD        SM      WWLOW  \n",
       "0      36.750000   105.000000  0.005768  10.0  0.250000  19.090000  \n",
       "1      39.161399   111.889710  0.003312  11.2  0.253925  18.337965  \n",
       "2      41.660912   119.031178  0.002589  12.4  0.258804  18.322171  \n",
       "3      44.171232   126.203520  0.006309  13.6  0.263165  18.311042  \n",
       "4      46.996729   134.276367  0.003616  14.8  0.266002  18.287827  \n",
       "..           ...          ...       ...   ...       ...        ...  \n",
       "147  5052.579042  1546.991228  0.000000  60.0  0.227706  13.662355  \n",
       "148  5052.579042  1546.991228  0.000000  60.0  0.225102  13.506115  \n",
       "149  5052.579042  1546.991228  0.000000  60.0  0.222831  13.369834  \n",
       "150  5052.579042  1546.991228  0.000000  60.0  0.220333  13.219966  \n",
       "151  5052.579042  1546.991228  0.000000  60.0  0.217911  13.074686  \n",
       "\n",
       "[152 rows x 12 columns]"
      ]
     },
     "execution_count": 25,
     "metadata": {},
     "output_type": "execute_result"
    }
   ],
   "source": [
    "df"
   ]
  },
  {
   "cell_type": "code",
   "execution_count": 28,
   "metadata": {},
   "outputs": [
    {
     "name": "stdout",
     "output_type": "stream",
     "text": [
      "Reached maturity at 2000-05-31 with total biomass 15261.754008006246 kg/ha snd a yield of 7179.804492059393 kg/ha.\n"
     ]
    }
   ],
   "source": [
    "summary_output = wofost_object.get_summary_output()\n",
    "msg = \"Reached maturity at {DOM} with total biomass {TAGP} kg/ha snd a yield of {TWSO} kg/ha.\"\n",
    "print(msg.format(**summary_output[0]))\n"
   ]
  },
  {
   "cell_type": "code",
   "execution_count": 29,
   "metadata": {},
   "outputs": [
    {
     "data": {
      "text/plain": [
       "[{'DVS': 2.0,\n",
       "  'LAIMAX': 6.132713013415593,\n",
       "  'TAGP': 15261.754008006246,\n",
       "  'TWSO': 7179.804492059393,\n",
       "  'TWLV': 3029.3704738986926,\n",
       "  'TWST': 5052.579042048161,\n",
       "  'TWRT': 1546.9912279812847,\n",
       "  'CTRAT': 22.457533447526988,\n",
       "  'RD': 60.0,\n",
       "  'DOS': None,\n",
       "  'DOE': datetime.date(2000, 1, 1),\n",
       "  'DOA': datetime.date(2000, 3, 28),\n",
       "  'DOM': datetime.date(2000, 5, 31),\n",
       "  'DOH': None,\n",
       "  'DOV': None}]"
      ]
     },
     "execution_count": 29,
     "metadata": {},
     "output_type": "execute_result"
    }
   ],
   "source": [
    "summary_output"
   ]
  },
  {
   "cell_type": "code",
   "execution_count": null,
   "metadata": {},
   "outputs": [],
   "source": [
    "p.set_active_crop('maize', 'Maize_VanHeemst_1988')\n",
    "print(p)"
   ]
  },
  {
   "cell_type": "code",
   "execution_count": 73,
   "metadata": {},
   "outputs": [],
   "source": [
    "from pcse.fileinput import CABOFileReader\n",
    "soilfile = '../data/soils/MX03737840.sol'\n",
    "soildata = CABOFileReader(soilfile)\n",
    "soildata['RDMSOL'] = 200"
   ]
  },
  {
   "cell_type": "code",
   "execution_count": 62,
   "metadata": {},
   "outputs": [],
   "source": [
    "from pcse.fileinput import PCSEFileReader\n",
    "soil = PCSEFileReader(soilfile)\n",
    "# crop = PCSEFileReader(os.path.join(data_dir, \"lintul3_springwheat.crop\"))\n",
    "# soil = PCSEFileReader(os.path.join(data_dir, \"lintul3_springwheat.soil\"))\n",
    "# site = PCSEFileReader(os.path.join(data_dir, \"lintul3_springwheat.site\"))\n"
   ]
  },
  {
   "cell_type": "code",
   "execution_count": 64,
   "metadata": {},
   "outputs": [],
   "source": [
    "from pcse.util import DummySoilDataProvider"
   ]
  },
  {
   "cell_type": "code",
   "execution_count": 65,
   "metadata": {},
   "outputs": [],
   "source": [
    "soil = DummySoilDataProvider()\n"
   ]
  },
  {
   "cell_type": "code",
   "execution_count": 52,
   "metadata": {},
   "outputs": [
    {
     "name": "stdout",
     "output_type": "stream",
     "text": [
      "{'IFUNRN': 0, 'NOTINF': 0, 'SSI': 0.0, 'SSMAX': 0.0, 'WAV': 100.0, 'SMLIM': 0.4, 'CO2': 360.0}\n"
     ]
    }
   ],
   "source": [
    "from pcse.util import WOFOST71SiteDataProvider\n",
    "sitedata = WOFOST71SiteDataProvider(WAV=100, CO2=360)\n",
    "print(sitedata)\n"
   ]
  },
  {
   "cell_type": "code",
   "execution_count": 53,
   "metadata": {},
   "outputs": [],
   "source": [
    "from pcse.base import ParameterProvider\n"
   ]
  },
  {
   "cell_type": "code",
   "execution_count": 54,
   "metadata": {},
   "outputs": [
    {
     "data": {
      "text/plain": [
       "<pcse.base.parameter_providers.ParameterProvider at 0x7f51e0216c90>"
      ]
     },
     "execution_count": 54,
     "metadata": {},
     "output_type": "execute_result"
    }
   ],
   "source": [
    "parameters"
   ]
  },
  {
   "cell_type": "code",
   "execution_count": 55,
   "metadata": {},
   "outputs": [
    {
     "name": "stdout",
     "output_type": "stream",
     "text": [
      "Weather data provided by: NASAPowerWeatherDataProvider\n",
      "--------Description---------\n",
      "NASA/POWER SRB/FLASHFlux/MERRA2/GEOS 5.12.4 (FP-IT) 0.5 x 0.5 Degree Daily Averaged Data\n",
      "----Site characteristics----\n",
      "Elevation:  986.4\n",
      "Latitude:  16.239\n",
      "Longitude: -92.954\n",
      "Data available for 1983-07-01 - 2020-02-25\n",
      "Number of missing days: 30\n",
      "\n"
     ]
    }
   ],
   "source": [
    "from pcse.db import NASAPowerWeatherDataProvider\n",
    "wdp = NASAPowerWeatherDataProvider(latitude=16.239, longitude=-92.954)\n",
    "print(wdp)"
   ]
  },
  {
   "cell_type": "code",
   "execution_count": 56,
   "metadata": {},
   "outputs": [],
   "source": [
    "from pcse.fileinput import YAMLAgroManagementReader\n",
    "agromanagement_file = '../data/MASAGRO.agro'\n",
    "agromanagement = YAMLAgroManagementReader(agromanagement_file)\n"
   ]
  },
  {
   "cell_type": "code",
   "execution_count": 69,
   "metadata": {},
   "outputs": [],
   "source": [
    "from pcse.models import Wofost71_PP\n",
    "parameters = ParameterProvider(cropdata=p, soildata=soildata, sitedata=sitedata)\n",
    "wofsim = Wofost71_PP(parameters, wdp, agromanagement)"
   ]
  },
  {
   "cell_type": "code",
   "execution_count": null,
   "metadata": {},
   "outputs": [],
   "source": []
  }
 ],
 "metadata": {
  "kernelspec": {
   "display_name": "Python [conda env:GEOANN]",
   "language": "python",
   "name": "conda-env-GEOANN-py"
  },
  "language_info": {
   "codemirror_mode": {
    "name": "ipython",
    "version": 3
   },
   "file_extension": ".py",
   "mimetype": "text/x-python",
   "name": "python",
   "nbconvert_exporter": "python",
   "pygments_lexer": "ipython3",
   "version": "3.7.6"
  }
 },
 "nbformat": 4,
 "nbformat_minor": 4
}
