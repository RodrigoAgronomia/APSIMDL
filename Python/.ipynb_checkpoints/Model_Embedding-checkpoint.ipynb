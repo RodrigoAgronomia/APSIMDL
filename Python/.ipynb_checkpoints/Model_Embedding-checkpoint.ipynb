{
 "cells": [
  {
   "cell_type": "code",
   "execution_count": 32,
   "metadata": {},
   "outputs": [],
   "source": [
    "import time\n",
    "import torch\n",
    "import torch.nn as nn\n",
    "import torch.nn.functional as F\n",
    "from torch.autograd import Variable\n",
    "from torch.utils.data import Dataset, DataLoader\n",
    "import pandas as pd\n",
    "import numpy as np\n",
    "import pyreadr\n",
    "import matplotlib.pyplot as plt\n",
    "from sklearn.manifold import TSNE\n",
    "from livelossplot import PlotLosses\n",
    "from torchsummary import summary\n",
    "\n",
    "device = torch.device('cuda')"
   ]
  },
  {
   "cell_type": "code",
   "execution_count": 40,
   "metadata": {},
   "outputs": [],
   "source": [
    "from joblib import dump, load\n",
    "from sklearn import metrics\n",
    "from sklearn.model_selection import train_test_split\n",
    "from sklearn.preprocessing import StandardScaler, LabelEncoder"
   ]
  },
  {
   "cell_type": "code",
   "execution_count": 19,
   "metadata": {},
   "outputs": [],
   "source": [
    "class MyDataset(torch.utils.data.Dataset):\n",
    "    '''\n",
    "    Class to load the dataset\n",
    "    '''\n",
    "    def __init__(self, w, s, m, y):\n",
    "        self.w = w\n",
    "        self.s = s\n",
    "        self.m = m\n",
    "        self.y = y\n",
    "            \n",
    "    def __len__(self):\n",
    "        return len(self.y)\n",
    "\n",
    "    def __getitem__(self, idx):\n",
    "            \n",
    "        ww = Variable(torch.from_numpy(np.array(self.w[idx]))).to(device, dtype=torch.long)\n",
    "        ss = Variable(torch.from_numpy(np.array(self.s[idx]))).to(device, dtype=torch.long)\n",
    "        mm = Variable(torch.from_numpy(np.array(self.m[idx]))).to(device, dtype=torch.float)\n",
    "        yy = Variable(torch.from_numpy(np.array(self.y[idx]))).to(device, dtype=torch.float)\n",
    "        \n",
    "        return (ww, ss, mm, yy)"
   ]
  },
  {
   "cell_type": "code",
   "execution_count": 234,
   "metadata": {},
   "outputs": [],
   "source": [
    "class MyNet(nn.Module):\n",
    "\n",
    "    def __init__(self, w_layers, s_layers, pred_layers):\n",
    "\n",
    "        super().__init__()\n",
    "\n",
    "                \n",
    "        # Weaher variables\n",
    "        w_layers_list = nn.ModuleList()\n",
    "        for i, o, d in w_layers:\n",
    "            w_layer = nn.Sequential(\n",
    "                nn.Embedding(i, o),\n",
    "                nn.Dropout(d)\n",
    "            )\n",
    "            w_layers_list.append(w_layer)\n",
    "        self.w_layers = nn.Sequential(*w_layers_list)\n",
    "        \n",
    "                \n",
    "        # Soil variables\n",
    "        s_layers_list = nn.ModuleList()\n",
    "        for i, o, d in s_layers:\n",
    "            s_layer = nn.Sequential(\n",
    "                nn.Embedding(i, o),\n",
    "                nn.Dropout(d)\n",
    "            )\n",
    "            s_layers_list.append(s_layer)\n",
    "        self.s_layers = nn.Sequential(*s_layers_list)\n",
    "        \n",
    "        \n",
    "        # Management variables\n",
    "        pred_layers_list = nn.ModuleList()\n",
    "        for i, o, d in pred_layers:\n",
    "            pred_layer = nn.Sequential(\n",
    "                nn.Linear(i, o),\n",
    "                nn.ReLU(),\n",
    "                nn.BatchNorm1d(o),\n",
    "                nn.Dropout(d)\n",
    "            )\n",
    "            pred_layers_list.append(pred_layer)\n",
    "        pred_layers_list.append(nn.Linear(o, 1))\n",
    "        self.pred_layers = nn.Sequential(*pred_layers_list)\n",
    "        \n",
    "   \n",
    "    def forward(self, Ws, Ss, Ms):\n",
    "\n",
    "        Ws = Ws.view(Ws.shape[0], -1)\n",
    "        Ss = Ss.view(Ss.shape[0], -1)\n",
    "        Ms = Ms.view(Ms.shape[0], -1)\n",
    "        \n",
    "        W_feat = self.w_layers(Ws.long()).view(Ws.shape[0], -1)\n",
    "        S_feat = self.s_layers(Ss.long()).view(Ss.shape[0], -1)\n",
    "        \n",
    "        all_feats = torch.cat([W_feat, S_feat, Ms], dim = 1)\n",
    "        pred = self.pred_layers(all_feats)\n",
    "        return (pred)\n"
   ]
  },
  {
   "cell_type": "code",
   "execution_count": 235,
   "metadata": {},
   "outputs": [
    {
     "data": {
      "text/html": [
       "<div>\n",
       "<style scoped>\n",
       "    .dataframe tbody tr th:only-of-type {\n",
       "        vertical-align: middle;\n",
       "    }\n",
       "\n",
       "    .dataframe tbody tr th {\n",
       "        vertical-align: top;\n",
       "    }\n",
       "\n",
       "    .dataframe thead th {\n",
       "        text-align: right;\n",
       "    }\n",
       "</style>\n",
       "<table border=\"1\" class=\"dataframe\">\n",
       "  <thead>\n",
       "    <tr style=\"text-align: right;\">\n",
       "      <th></th>\n",
       "      <th>sim_name</th>\n",
       "      <th>n_fert</th>\n",
       "      <th>Yld</th>\n",
       "    </tr>\n",
       "  </thead>\n",
       "  <tbody>\n",
       "    <tr>\n",
       "      <td>0</td>\n",
       "      <td>100_921539_MSM_A1_YC_0</td>\n",
       "      <td>10.0</td>\n",
       "      <td>9128.457</td>\n",
       "    </tr>\n",
       "    <tr>\n",
       "      <td>1</td>\n",
       "      <td>100_921539_MSM_A1_YC_10</td>\n",
       "      <td>20.0</td>\n",
       "      <td>9456.223</td>\n",
       "    </tr>\n",
       "    <tr>\n",
       "      <td>2</td>\n",
       "      <td>100_921539_MSM_A1_YC_100</td>\n",
       "      <td>110.0</td>\n",
       "      <td>11557.643</td>\n",
       "    </tr>\n",
       "    <tr>\n",
       "      <td>3</td>\n",
       "      <td>100_921539_MSM_A1_YC_110</td>\n",
       "      <td>120.0</td>\n",
       "      <td>11648.442</td>\n",
       "    </tr>\n",
       "    <tr>\n",
       "      <td>4</td>\n",
       "      <td>100_921539_MSM_A1_YC_120</td>\n",
       "      <td>130.0</td>\n",
       "      <td>11689.847</td>\n",
       "    </tr>\n",
       "    <tr>\n",
       "      <td>...</td>\n",
       "      <td>...</td>\n",
       "      <td>...</td>\n",
       "      <td>...</td>\n",
       "    </tr>\n",
       "    <tr>\n",
       "      <td>4945</td>\n",
       "      <td>100_921569_SMM_A9_YC_50</td>\n",
       "      <td>230.0</td>\n",
       "      <td>11729.054</td>\n",
       "    </tr>\n",
       "    <tr>\n",
       "      <td>4946</td>\n",
       "      <td>100_921569_SMM_A9_YC_60</td>\n",
       "      <td>240.0</td>\n",
       "      <td>11729.054</td>\n",
       "    </tr>\n",
       "    <tr>\n",
       "      <td>4947</td>\n",
       "      <td>100_921569_SMM_A9_YC_70</td>\n",
       "      <td>250.0</td>\n",
       "      <td>11729.054</td>\n",
       "    </tr>\n",
       "    <tr>\n",
       "      <td>4948</td>\n",
       "      <td>100_921569_SMM_A9_YC_80</td>\n",
       "      <td>260.0</td>\n",
       "      <td>11729.054</td>\n",
       "    </tr>\n",
       "    <tr>\n",
       "      <td>4949</td>\n",
       "      <td>100_921569_SMM_A9_YC_90</td>\n",
       "      <td>270.0</td>\n",
       "      <td>11729.054</td>\n",
       "    </tr>\n",
       "  </tbody>\n",
       "</table>\n",
       "<p>4950 rows × 3 columns</p>\n",
       "</div>"
      ],
      "text/plain": [
       "                      sim_name  n_fert        Yld\n",
       "0       100_921539_MSM_A1_YC_0    10.0   9128.457\n",
       "1      100_921539_MSM_A1_YC_10    20.0   9456.223\n",
       "2     100_921539_MSM_A1_YC_100   110.0  11557.643\n",
       "3     100_921539_MSM_A1_YC_110   120.0  11648.442\n",
       "4     100_921539_MSM_A1_YC_120   130.0  11689.847\n",
       "...                        ...     ...        ...\n",
       "4945   100_921569_SMM_A9_YC_50   230.0  11729.054\n",
       "4946   100_921569_SMM_A9_YC_60   240.0  11729.054\n",
       "4947   100_921569_SMM_A9_YC_70   250.0  11729.054\n",
       "4948   100_921569_SMM_A9_YC_80   260.0  11729.054\n",
       "4949   100_921569_SMM_A9_YC_90   270.0  11729.054\n",
       "\n",
       "[4950 rows x 3 columns]"
      ]
     },
     "execution_count": 235,
     "metadata": {},
     "output_type": "execute_result"
    }
   ],
   "source": [
    "ydf = pyreadr.read_r('/home/rodrigo7/Documents/APSIMDL/cell_100.rds')[None]\n",
    "ydf"
   ]
  },
  {
   "cell_type": "code",
   "execution_count": 236,
   "metadata": {},
   "outputs": [],
   "source": [
    "sim_namel = ['cell', 'mukey', 'rotation', 'weather', 'YC', 'N']\n",
    "sim_namedf = ydf.sim_name.str.split(pat = '_', expand=True)\n",
    "ydf[sim_namel] = sim_namedf\n",
    "ydf.N = ydf.N.astype('float32')\n",
    "ydf['N_ini'] = ydf.n_fert -  ydf.N\n"
   ]
  },
  {
   "cell_type": "code",
   "execution_count": 237,
   "metadata": {},
   "outputs": [],
   "source": [
    "ydf[\"LOCW\"] = ydf.cell.map(str) + ydf.weather.map(str)\n",
    "ydf[\"W\"] = ydf.LOCW.astype('category').cat.codes\n",
    "ydf[\"S\"] = ydf.mukey.astype('category').cat.codes\n",
    "ydf[\"M\"] = ydf.rotation.astype('category').cat.codes.astype('float')"
   ]
  },
  {
   "cell_type": "code",
   "execution_count": 238,
   "metadata": {},
   "outputs": [],
   "source": [
    "train_idx = np.arange(len(ydf))\n",
    "val_idx = np.random.choice(train_idx, size=train_idx.size//5, replace=False)\n",
    "train_idx = np.setdiff1d(np.arange(len(ydf)), val_idx)"
   ]
  },
  {
   "cell_type": "code",
   "execution_count": 240,
   "metadata": {},
   "outputs": [
    {
     "name": "stdout",
     "output_type": "stream",
     "text": [
      "----------------------------------------------------------------\n",
      "        Layer (type)               Output Shape         Param #\n",
      "================================================================\n",
      "         Embedding-1                 [-1, 1, 5]             125\n",
      "           Dropout-2                 [-1, 1, 5]               0\n",
      "         Embedding-3                 [-1, 1, 5]              15\n",
      "           Dropout-4                 [-1, 1, 5]               0\n",
      "            Linear-5                   [-1, 10]             130\n",
      "              ReLU-6                   [-1, 10]               0\n",
      "       BatchNorm1d-7                   [-1, 10]              20\n",
      "           Dropout-8                   [-1, 10]               0\n",
      "            Linear-9                    [-1, 8]              88\n",
      "             ReLU-10                    [-1, 8]               0\n",
      "      BatchNorm1d-11                    [-1, 8]              16\n",
      "          Dropout-12                    [-1, 8]               0\n",
      "           Linear-13                    [-1, 4]              36\n",
      "             ReLU-14                    [-1, 4]               0\n",
      "      BatchNorm1d-15                    [-1, 4]               8\n",
      "          Dropout-16                    [-1, 4]               0\n",
      "           Linear-17                    [-1, 1]               5\n",
      "================================================================\n",
      "Total params: 443\n",
      "Trainable params: 443\n",
      "Non-trainable params: 0\n",
      "----------------------------------------------------------------\n",
      "Input size (MB): 0.00\n",
      "Forward/backward pass size (MB): 0.00\n",
      "Params size (MB): 0.00\n",
      "Estimated Total Size (MB): 0.00\n",
      "----------------------------------------------------------------\n"
     ]
    }
   ],
   "source": [
    "d = 0.1\n",
    "w_layers = [(ydf['W'].nunique(), 5, d)]\n",
    "s_layers = [(ydf['S'].nunique(), 5, d)]\n",
    "pred_layers = [[12,10,d],[10,8,d],[8,4,d]]\n",
    "\n",
    "model = MyNet(w_layers, s_layers, pred_layers)\n",
    "model = model.to(device)\n",
    "summary(model,  input_size=[(1,1), (1,1), (2,1)])\n"
   ]
  },
  {
   "cell_type": "code",
   "execution_count": 241,
   "metadata": {},
   "outputs": [
    {
     "name": "stdout",
     "output_type": "stream",
     "text": [
      "(4950, 1)\n"
     ]
    }
   ],
   "source": [
    "Y_data = ydf.Yld.values.reshape(-1,1)\n",
    "sc = StandardScaler()\n",
    "Y_std = sc.fit(Y_data)\n",
    "Y = Y_std.transform(Y_data)\n",
    "dump(Y_std, '../data/Y_std.bin', compress=True)\n",
    "print(Y.shape)"
   ]
  },
  {
   "cell_type": "code",
   "execution_count": 242,
   "metadata": {},
   "outputs": [
    {
     "name": "stdout",
     "output_type": "stream",
     "text": [
      "(4950, 1)\n"
     ]
    }
   ],
   "source": [
    "N_data = ydf.N.values.reshape(-1,1)\n",
    "sc = StandardScaler()\n",
    "N_std = sc.fit(N_data)\n",
    "N = N_std.transform(N_data)\n",
    "dump(N_std, '../data/N_std.bin', compress=True)\n",
    "print(N.shape)"
   ]
  },
  {
   "cell_type": "code",
   "execution_count": 243,
   "metadata": {},
   "outputs": [],
   "source": [
    "W = ydf.W.values.reshape(-1,1)\n",
    "S = ydf.S.values.reshape(-1,1)\n",
    "M = np.stack([N.reshape(-1), ydf.M.values], 1)"
   ]
  },
  {
   "cell_type": "code",
   "execution_count": 244,
   "metadata": {},
   "outputs": [],
   "source": [
    "tts = train_test_split(W, S, M, Y, test_size=0.2, random_state=123456)\n",
    "W_train, W_val, S_train, S_val, M_train, M_val, Y_train, Y_val = tts"
   ]
  },
  {
   "cell_type": "code",
   "execution_count": 245,
   "metadata": {},
   "outputs": [
    {
     "name": "stdout",
     "output_type": "stream",
     "text": [
      "40\n"
     ]
    }
   ],
   "source": [
    "batch_size = 100\n",
    "\n",
    "\n",
    "pred_dataset = MyDataset(W, S, M, Y)\n",
    "train_dataset = MyDataset(W_train, S_train, M_train, Y_train)\n",
    "val_dataset = MyDataset(W_val, S_val, M_val, Y_val)\n",
    "\n",
    "\n",
    "pred_loader = torch.utils.data.DataLoader(pred_dataset, batch_size=batch_size, drop_last=False, shuffle=False)\n",
    "train_loader = torch.utils.data.DataLoader(train_dataset, batch_size=batch_size, drop_last=False, shuffle=True)\n",
    "val_loader = torch.utils.data.DataLoader(val_dataset, batch_size=batch_size, drop_last=False, shuffle=True)\n",
    "\n",
    "data = iter(train_loader).next()\n",
    "print(len(train_loader))\n",
    "\n"
   ]
  },
  {
   "cell_type": "code",
   "execution_count": 246,
   "metadata": {},
   "outputs": [],
   "source": [
    "criterion = nn.MSELoss()\n",
    "optimizer = torch.optim.Adam(model.parameters(), lr=0.01)"
   ]
  },
  {
   "cell_type": "code",
   "execution_count": 248,
   "metadata": {},
   "outputs": [
    {
     "data": {
      "image/png": "[encoded data removed]",
      "text/plain": [
       "<Figure size 864x576 with 1 Axes>"
      ]
     },
     "metadata": {
      "needs_background": "light"
     },
     "output_type": "display_data"
    },
    {
     "name": "stdout",
     "output_type": "stream",
     "text": [
      "log loss:\n",
      "training   (min:    0.103, max:    0.789, cur:    0.103)\n",
      "validation (min:    0.022, max:    0.537, cur:    0.024)\n"
     ]
    }
   ],
   "source": [
    "min_loss = 1\n",
    "liveloss = PlotLosses()\n",
    "num_epochs = 150 # Define o número de épocas para realizar o treinamento \n",
    "for epoch in range(num_epochs):\n",
    "    start_time = time.time()\n",
    "    epoch_loss = []\n",
    "    val_loss = []\n",
    "    \n",
    "    model.train()\n",
    "    for i, (Ws, Ss, Ms, Ys) in enumerate(train_loader):\n",
    "        \n",
    "        # Limpa os gradientes\n",
    "        optimizer.zero_grad()\n",
    "    \n",
    "        # Obtem o output\n",
    "        outputs = model(Ws, Ss, Ms)\n",
    "\n",
    "        # Caulcula a perda pela loss function\n",
    "        loss = criterion(outputs, Ys)\n",
    "\n",
    "        # Obtem os gradientes\n",
    "        loss.backward()\n",
    "\n",
    "        # Atualiza os parâmetros\n",
    "        optimizer.step()\n",
    "        epoch_loss.append(loss.data.item())\n",
    "        \n",
    "    model.eval()\n",
    "    for i, (Ws, Ss, Ms, Ys) in enumerate(val_loader):\n",
    "        with torch.no_grad():\n",
    "          # Obtem o output\n",
    "          outputs = model(Ws, Ss, Ms)\n",
    "\n",
    "        # Caulcula a perda pela loss function (MSE)\n",
    "        loss = criterion(outputs, Ys)\n",
    "\n",
    "        val_loss.append(loss.data.item())\n",
    "        \n",
    "    epoch_loss = np.array(epoch_loss).mean()\n",
    "    val_loss = np.array(val_loss).mean()\n",
    "    time_taken = time.time() - start_time\n",
    "    \n",
    "    if val_loss < min_loss:\n",
    "        # Nome da pasta com o arquivo .pth salvando os pesos do modelo treinado\n",
    "        model_file_name = '../data/model_v0.pth'\n",
    "        torch.save(model.state_dict(), model_file_name)\n",
    "\n",
    "    liveloss.update({\n",
    "        'log loss': epoch_loss,\n",
    "        'val_log loss': val_loss\n",
    "    })\n",
    "    liveloss.draw() #Apresenta o gráfico log loss\n",
    "    "
   ]
  },
  {
   "cell_type": "code",
   "execution_count": 250,
   "metadata": {},
   "outputs": [
    {
     "name": "stdout",
     "output_type": "stream",
     "text": [
      "Model OK\n"
     ]
    }
   ],
   "source": [
    "model.load_state_dict(torch.load('../data/model_v0.pth', map_location=device))\n",
    "print('Model OK')"
   ]
  },
  {
   "cell_type": "code",
   "execution_count": 256,
   "metadata": {},
   "outputs": [
    {
     "name": "stdout",
     "output_type": "stream",
     "text": [
      "time:0.87\n"
     ]
    }
   ],
   "source": [
    "# Inicia o tempo para contagem\n",
    "start_time = time.time()\n",
    "\n",
    "# Realiza a predição dos dados a partir do modelo treinado - Dados de validação\n",
    "model.eval()\n",
    "obs = []\n",
    "preds = []\n",
    "for i, (Ws, Ss, Ms, Ys) in enumerate(pred_loader):\n",
    "    obs.append(Ys.cpu().data.numpy())\n",
    "    with torch.no_grad():\n",
    "        pred = model(Ws, Ss, Ms)\n",
    "    preds.append(pred.cpu().data.numpy())\n",
    "obs = np.concatenate(obs)\n",
    "preds = np.concatenate(preds)\n",
    "\n",
    "# Faz a diferença para calcular o tempo           \n",
    "time_taken = time.time() - start_time\n",
    "# Apresenta o valor do tempo\n",
    "print('time:%.2f' % (time_taken))"
   ]
  },
  {
   "cell_type": "code",
   "execution_count": 257,
   "metadata": {},
   "outputs": [
    {
     "name": "stdout",
     "output_type": "stream",
     "text": [
      "0.99\n"
     ]
    },
    {
     "data": {
      "image/png": "[encoded data removed]",
      "text/plain": [
       "<Figure size 432x288 with 1 Axes>"
      ]
     },
     "metadata": {
      "needs_background": "light"
     },
     "output_type": "display_data"
    }
   ],
   "source": [
    "x = Y_std.inverse_transform(preds.reshape(-1))\n",
    "y = Y_std.inverse_transform(obs.reshape(-1))\n",
    "\n",
    "ax = plt.axes()\n",
    "ax.set_aspect('equal', 'datalim')\n",
    "\n",
    "plt.scatter(x, y, alpha=0.5)\n",
    "plt.xlabel('Predicted')\n",
    "plt.ylabel('Observed')\n",
    "plt.plot([y.min(), y.max()], [y.min(), y.max()], 'k-', color = 'r')\n",
    "print(np.round(np.corrcoef(x, y, rowvar=False)[1,0],3))\n",
    "plt.show()"
   ]
  },
  {
   "cell_type": "code",
   "execution_count": null,
   "metadata": {},
   "outputs": [],
   "source": []
  }
 ],
 "metadata": {
  "kernelspec": {
   "display_name": "Python 3",
   "language": "python",
   "name": "python3"
  },
  "language_info": {
   "codemirror_mode": {
    "name": "ipython",
    "version": 3
   },
   "file_extension": ".py",
   "mimetype": "text/x-python",
   "name": "python",
   "nbconvert_exporter": "python",
   "pygments_lexer": "ipython3",
   "version": "3.6.7"
  },
  "varInspector": {
   "cols": {
    "lenName": 16,
    "lenType": 16,
    "lenVar": 40
   },
   "kernels_config": {
    "python": {
     "delete_cmd_postfix": "",
     "delete_cmd_prefix": "del ",
     "library": "var_list.py",
     "varRefreshCmd": "print(var_dic_list())"
    },
    "r": {
     "delete_cmd_postfix": ") ",
     "delete_cmd_prefix": "rm(",
     "library": "var_list.r",
     "varRefreshCmd": "cat(var_dic_list()) "
    }
   },
   "types_to_exclude": [
    "module",
    "function",
    "builtin_function_or_method",
    "instance",
    "_Feature"
   ],
   "window_display": false
  }
 },
 "nbformat": 4,
 "nbformat_minor": 2
}
