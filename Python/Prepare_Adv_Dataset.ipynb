{
 "cells": [
  {
   "cell_type": "code",
   "execution_count": 1,
   "metadata": {},
   "outputs": [],
   "source": [
    "import h5py\n",
    "import numpy as np\n",
    "import pandas as pd\n",
    "import geopandas as gpd\n",
    "import seaborn as sbn\n",
    "import datetime as dt\n",
    "import matplotlib.pyplot as plt\n",
    "from tqdm.notebook import  tqdm, trange"
   ]
  },
  {
   "cell_type": "code",
   "execution_count": 2,
   "metadata": {},
   "outputs": [],
   "source": [
    "import torch\n",
    "import torch.nn as nn\n",
    "import torch.nn.functional as F\n",
    "device = torch.device('cuda')"
   ]
  },
  {
   "cell_type": "code",
   "execution_count": 3,
   "metadata": {},
   "outputs": [],
   "source": [
    "class MyNet(nn.Module):\n",
    "\n",
    "    def __init__(self, w_layers, pred_layers):\n",
    "\n",
    "        super().__init__()\n",
    "              \n",
    "        # Weaher variables\n",
    "        w_layers_list = nn.ModuleList()\n",
    "        for i, o, k, d in w_layers:\n",
    "            w_layer = nn.Sequential(\n",
    "                nn.Conv1d(i, o, k),\n",
    "                nn.AvgPool1d(2),\n",
    "                nn.LeakyReLU(),\n",
    "                nn.BatchNorm1d(o),\n",
    "                nn.Dropout(d)\n",
    "            )\n",
    "            w_layers_list.append(w_layer)\n",
    "        w_layers_list.append(nn.AdaptiveAvgPool1d(1))\n",
    "        self.w_layers = nn.Sequential(*w_layers_list)\n",
    "\n",
    "        \n",
    "        # Management variables\n",
    "        pred_layers_list = nn.ModuleList()\n",
    "        for i, o, d in pred_layers:\n",
    "            pred_layer = nn.Sequential(\n",
    "                nn.Linear(i, o),\n",
    "                nn.LeakyReLU(),\n",
    "                nn.BatchNorm1d(o),\n",
    "                nn.Dropout(d)\n",
    "            )\n",
    "            pred_layers_list.append(pred_layer)\n",
    "        pred_layers_list.append(nn.Linear(o, 1))\n",
    "        self.pred_layers = nn.Sequential(*pred_layers_list)\n",
    "        \n",
    "   \n",
    "    def forward(self, Ws):\n",
    "        \n",
    "        feat = self.w_layers(Ws).view(Ws.shape[0], -1)\n",
    "        pred = self.pred_layers(feat)\n",
    "        return (torch.tanh(pred))\n"
   ]
  },
  {
   "cell_type": "code",
   "execution_count": 4,
   "metadata": {},
   "outputs": [],
   "source": [
    "def transform(w):\n",
    "    ws = np.array([[[5e4,50,50,5,10,100]]])\n",
    "    w = w / ws\n",
    "    w = np.moveaxis(w, 1, 2)\n",
    "    wd = np.linspace(-0.9,2.1,300)[None,None]\n",
    "    wd = wd.repeat(len(w), 0)\n",
    "    w = np.concatenate([w, wd], 1)\n",
    "    w = torch.tensor(w, dtype=torch.float, device = device)\n",
    "    return(w)\n",
    "\n",
    "def back_transform(w):\n",
    "    w = w[:,:6].cpu().data.numpy()\n",
    "    w = np.moveaxis(w, 2, 1)\n",
    "    ws = np.array([[[5e4,50,50,5,10,100]]])\n",
    "    w = w * ws\n",
    "    return(w[0])\n",
    "\n",
    "\n",
    "def get_adv(x, eps = 1):\n",
    "    xo = x.clone()\n",
    "    x.requires_grad = True\n",
    "\n",
    "    criterion = nn.MSELoss()\n",
    "    optimizer = torch.optim.Adam([x], lr=0.01)\n",
    "\n",
    "    for i in range(10):\n",
    "\n",
    "        # Limpa os gradientes\n",
    "        optimizer.zero_grad()\n",
    "\n",
    "        # Obtem o output\n",
    "        outputs = model(x)\n",
    "\n",
    "        # Caulcula a perda pela loss function\n",
    "        loss = -outputs.mean()\n",
    "\n",
    "        # Use an l2 penalty:\n",
    "        loss += criterion(xo, x)/eps\n",
    "\n",
    "        # Obtem os gradientes\n",
    "        loss.backward()\n",
    "\n",
    "        # Atualiza os parâmetros\n",
    "        optimizer.step()\n",
    "\n",
    "        # Clip to the valid range of values:\n",
    "        x.data = torch.clamp(x.data, 0, 1)\n",
    "        x.data[:,-1] = xo[:,-1]\n",
    "\n",
    "    return(x)"
   ]
  },
  {
   "cell_type": "code",
   "execution_count": 13,
   "metadata": {},
   "outputs": [
    {
     "name": "stdout",
     "output_type": "stream",
     "text": [
      "Model OK\n"
     ]
    }
   ],
   "source": [
    "d = 0.0\n",
    "w_layers =  [[7,12,3,d],[12,15,5,d],[15,20,7,d],[20,25,5,d],[25,100,3,d]]\n",
    "pred_layers = [[100,50,d],[50,50,d], [50,25,d]]\n",
    "\n",
    "model = MyNet(w_layers, pred_layers)\n",
    "model = model.to(device)\n",
    "    \n",
    "model_file_name = '../data/model_cnn_rnd01.pth'\n",
    "model.load_state_dict(torch.load(model_file_name, map_location=device))\n",
    "model.eval()\n",
    "print('Model OK')"
   ]
  },
  {
   "cell_type": "code",
   "execution_count": 14,
   "metadata": {},
   "outputs": [],
   "source": [
    "pts = gpd.read_file('../../CIAT/data/BEM_2019_Chiapas_Final_Clean.gpkg')\n",
    "pts['SIM'] = ['CH{0:05d}'.format(i + 1) for i in range(len(pts))]\n",
    "pts = pts.set_index('SIM')\n",
    "pts['ref_date'] = pd.to_datetime(pts.fecha_de_siembra)\n",
    "SIM = pts.index"
   ]
  },
  {
   "cell_type": "code",
   "execution_count": 15,
   "metadata": {},
   "outputs": [],
   "source": [
    "# yl = []\n",
    "# for i, key in enumerate(tqdm(SIM)):\n",
    "#     crop_start_date = pts.ref_date.dt.date.loc[key]\n",
    "#     sim_start_date = crop_start_date - dt.timedelta(days = 90)\n",
    "#     crop_end_date = crop_start_date + dt.timedelta(days = 210)\n",
    "    \n",
    "#     wfile = f'/home/rodrigo7/Apsim_test/MASAGRO/PCSE/{key}_npff.csv'\n",
    "#     w = pd.read_csv(wfile, skiprows=13)\n",
    "#     w.DAY = pd.to_datetime(w.DAY, format= '%Y%m%d').dt.date\n",
    "#     ini_idx = np.where(w.DAY == sim_start_date)[0][0]\n",
    "#     end_idx = np.where(w.DAY == crop_end_date)[0][0]\n",
    "#     s_idx = slice(ini_idx, end_idx)\n",
    "#     w_seed = w[s_idx].values[:,1:-1].astype('float')\n",
    "#     w_seed = transform(w_seed)\n",
    "#     y_pred = model(w_seed).data.cpu().numpy()\n",
    "#     w_adv = get_adv(w_seed, 0.01)\n",
    "#     y_adv = model(w_adv).data.cpu().numpy()\n",
    "#     w_adv = back_transform(w_adv)\n",
    "#     yl.append([y_pred, y_adv])\n",
    "\n",
    "#     dff = w.iloc[s_idx].copy()\n",
    "#     dff.iloc[:,1:-1] = w_adv\n",
    "    \n",
    "#     save_file = f'/home/rodrigo7/Apsim_test/MASAGRO/PCSE/{key}_adv000.csv'\n",
    "#     with open(save_file, 'w') as sf:\n",
    "#         with open(wfile) as f:\n",
    "#             for r in range(14):\n",
    "#                 sf.writelines(f.readline())\n",
    "    \n",
    "#     dff.DAY = pd.to_datetime(dff.DAY).dt.strftime('%Y%m%d')\n",
    "#     dff.to_csv(save_file, na_rep = 'NaN', mode = 'a', float_format = '%.3f', header = False, index = False)\n"
   ]
  },
  {
   "cell_type": "code",
   "execution_count": 16,
   "metadata": {},
   "outputs": [
    {
     "data": {
      "application/vnd.jupyter.widget-view+json": {
       "model_id": "e71ce1607f0a4e7595632600f29444bd",
       "version_major": 2,
       "version_minor": 0
      },
      "text/plain": [
       "HBox(children=(FloatProgress(value=0.0, max=4594.0), HTML(value='')))"
      ]
     },
     "metadata": {},
     "output_type": "display_data"
    },
    {
     "name": "stdout",
     "output_type": "stream",
     "text": [
      "\n"
     ]
    }
   ],
   "source": [
    "yl = []\n",
    "for i, key in enumerate(tqdm(SIM)):\n",
    "    wfile = f'/home/rodrigo7/Apsim_test/MASAGRO/PCSE/{key}_npff.csv'\n",
    "    w = pd.read_csv(wfile, skiprows=13)\n",
    "    w_seed = w.values[:,1:-1].astype('float')\n",
    "    w_seed = transform(w_seed)\n",
    "    y_pred = model(w_seed).data.cpu().numpy()\n",
    "    w_adv = get_adv(w_seed, 0.01)\n",
    "    y_adv = model(w_adv).data.cpu().numpy()\n",
    "    w_adv = back_transform(w_adv)\n",
    "    yl.append([y_pred, y_adv])\n",
    "\n",
    "    w.iloc[:,1:-1] = w_adv\n",
    "    w.VAP = np.clip(w.VAP, 0.06, 199.3)\n",
    "    \n",
    "    save_file = f'/home/rodrigo7/Apsim_test/MASAGRO/PCSE/{key}_adv010.csv'\n",
    "    with open(save_file, 'w') as sf:\n",
    "        with open(wfile) as f:\n",
    "            for r in range(14):\n",
    "                sf.writelines(f.readline())\n",
    "    \n",
    "    w.DAY = w.DAY.astype('str')\n",
    "    w.to_csv(save_file, na_rep = 'NaN', mode = 'a', float_format = '%.3f', header = False, index = False)\n"
   ]
  },
  {
   "cell_type": "code",
   "execution_count": 17,
   "metadata": {},
   "outputs": [],
   "source": [
    "ynp = 2e4 * np.array(yl)[:,:,0,0]"
   ]
  },
  {
   "cell_type": "code",
   "execution_count": 18,
   "metadata": {},
   "outputs": [
    {
     "data": {
      "text/plain": [
       "(array([ 101.,  354., 1003., 1098.,  890.,  605.,  329.,   57.,   83.,\n",
       "          74.]),\n",
       " array([ 752.6631, 1197.4076, 1642.1521, 2086.8965, 2531.641 , 2976.3855,\n",
       "        3421.13  , 3865.8745, 4310.619 , 4755.3633, 5200.108 ],\n",
       "       dtype=float32),\n",
       " <a list of 10 Patch objects>)"
      ]
     },
     "execution_count": 18,
     "metadata": {},
     "output_type": "execute_result"
    },
    {
     "data": {
      "image/png": "[encoded data removed]",
      "text/plain": [
       "<Figure size 432x288 with 1 Axes>"
      ]
     },
     "metadata": {
      "needs_background": "light"
     },
     "output_type": "display_data"
    }
   ],
   "source": [
    "plt.hist(np.diff(ynp, 1))"
   ]
  },
  {
   "cell_type": "code",
   "execution_count": 19,
   "metadata": {},
   "outputs": [
    {
     "data": {
      "text/plain": [
       "([array([ 101.,  387., 1205., 1472.,  635.,  243.,  451.,  100.,    0.,\n",
       "            0.]),\n",
       "  array([   0.,    0.,    0.,   93.,  178.,  262.,  810., 1020., 1181.,\n",
       "         1050.])],\n",
       " array([ 8024.278,  8634.938,  9245.599,  9856.259, 10466.919, 11077.579,\n",
       "        11688.239, 12298.9  , 12909.561, 13520.221, 14130.881],\n",
       "       dtype=float32),\n",
       " <a list of 2 Lists of Patches objects>)"
      ]
     },
     "execution_count": 19,
     "metadata": {},
     "output_type": "execute_result"
    },
    {
     "data": {
      "image/png": "[encoded data removed]",
      "text/plain": [
       "<Figure size 432x288 with 1 Axes>"
      ]
     },
     "metadata": {
      "needs_background": "light"
     },
     "output_type": "display_data"
    }
   ],
   "source": [
    "plt.hist(ynp)"
   ]
  },
  {
   "cell_type": "code",
   "execution_count": 20,
   "metadata": {},
   "outputs": [],
   "source": [
    "np.save('../data/y_pred_adv010.npy', ynp)"
   ]
  },
  {
   "cell_type": "code",
   "execution_count": null,
   "metadata": {},
   "outputs": [],
   "source": []
  }
 ],
 "metadata": {
  "kernelspec": {
   "display_name": "Python [conda env:GEOANN]",
   "language": "python",
   "name": "conda-env-GEOANN-py"
  },
  "language_info": {
   "codemirror_mode": {
    "name": "ipython",
    "version": 3
   },
   "file_extension": ".py",
   "mimetype": "text/x-python",
   "name": "python",
   "nbconvert_exporter": "python",
   "pygments_lexer": "ipython3",
   "version": "3.7.6"
  }
 },
 "nbformat": 4,
 "nbformat_minor": 4
}
