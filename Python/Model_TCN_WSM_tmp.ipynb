{
 "cells": [
  {
   "cell_type": "code",
   "execution_count": 67,
   "metadata": {},
   "outputs": [],
   "source": [
    "import h5py\n",
    "import time\n",
    "import torch\n",
    "import pyreadr\n",
    "import numpy as np\n",
    "import pandas as pd\n",
    "import torch.nn as nn\n",
    "import matplotlib.pyplot as plt\n",
    "import torch.nn.functional as F\n",
    "from pandas.api.types import CategoricalDtype\n",
    "from torch.utils.data import Dataset, DataLoader\n",
    "from torch.nn.utils import weight_norm\n",
    "from sklearn.manifold import TSNE\n",
    "from livelossplot import PlotLosses\n",
    "from pytorch_model_summary import summary\n",
    "from tqdm.notebook import tqdm, trange\n",
    "\n",
    "device = torch.device('cuda')"
   ]
  },
  {
   "cell_type": "code",
   "execution_count": 68,
   "metadata": {},
   "outputs": [],
   "source": [
    "from joblib import dump, load\n",
    "from sklearn import metrics\n",
    "from sklearn.model_selection import train_test_split, GroupShuffleSplit\n",
    "from sklearn.preprocessing import StandardScaler, LabelEncoder"
   ]
  },
  {
   "cell_type": "code",
   "execution_count": 69,
   "metadata": {},
   "outputs": [],
   "source": [
    "class Chomp1d(nn.Module):\n",
    "    def __init__(self, chomp_size):\n",
    "        super(Chomp1d, self).__init__()\n",
    "        self.chomp_size = chomp_size\n",
    "\n",
    "    def forward(self, x):\n",
    "        return x[:, :, :-self.chomp_size].contiguous()\n",
    "\n",
    "\n",
    "class TemporalBlock(nn.Module):\n",
    "    def __init__(self, n_inputs, n_outputs, kernel_size, stride, dilation, padding, dropout=0.2):\n",
    "        super(TemporalBlock, self).__init__()\n",
    "        self.conv1 = weight_norm(nn.Conv1d(n_inputs, n_outputs, kernel_size,\n",
    "                                           stride=stride, padding=padding, dilation=dilation))\n",
    "        self.chomp1 = Chomp1d(padding)\n",
    "        self.relu1 = nn.ReLU()\n",
    "        self.dropout1 = nn.Dropout(dropout)\n",
    "\n",
    "        self.conv2 = weight_norm(nn.Conv1d(n_outputs, n_outputs, kernel_size,\n",
    "                                           stride=stride, padding=padding, dilation=dilation))\n",
    "        self.chomp2 = Chomp1d(padding)\n",
    "        self.relu2 = nn.ReLU()\n",
    "        self.dropout2 = nn.Dropout(dropout)\n",
    "\n",
    "        self.net = nn.Sequential(self.conv1, self.chomp1, self.relu1, self.dropout1,\n",
    "                                 self.conv2, self.chomp2, self.relu2, self.dropout2)\n",
    "        self.downsample = nn.Conv1d(n_inputs, n_outputs, 1) if n_inputs != n_outputs else None\n",
    "        self.relu = nn.ReLU()\n",
    "        self.init_weights()\n",
    "\n",
    "    def init_weights(self):\n",
    "        self.conv1.weight.data.normal_(0, 0.01)\n",
    "        self.conv2.weight.data.normal_(0, 0.01)\n",
    "        if self.downsample is not None:\n",
    "            self.downsample.weight.data.normal_(0, 0.01)\n",
    "\n",
    "    def forward(self, x):\n",
    "        out = self.net(x)\n",
    "        res = x if self.downsample is None else self.downsample(x)\n",
    "        return self.relu(out + res)\n",
    "\n",
    "\n",
    "class TemporalConvNet(nn.Module):\n",
    "    def __init__(self, num_inputs, num_channels, kernel_size=2, dropout=0.2):\n",
    "        super(TemporalConvNet, self).__init__()\n",
    "        layers = []\n",
    "        num_levels = len(num_channels)\n",
    "        for i in range(num_levels):\n",
    "            dilation_size = 2 ** i\n",
    "            in_channels = num_inputs if i == 0 else num_channels[i-1]\n",
    "            out_channels = num_channels[i]\n",
    "            layers += [TemporalBlock(in_channels, out_channels, kernel_size, stride=1, dilation=dilation_size,\n",
    "                                     padding=(kernel_size-1) * dilation_size, dropout=dropout)]\n",
    "\n",
    "        self.network = nn.Sequential(*layers)\n",
    "\n",
    "    def forward(self, x):\n",
    "        return self.network(x)"
   ]
  },
  {
   "cell_type": "code",
   "execution_count": 70,
   "metadata": {},
   "outputs": [],
   "source": [
    "# class TCN(nn.Module):\n",
    "#     def __init__(self, input_size, output_size, num_channels, kernel_size, dropout):\n",
    "#         super(TCN, self).__init__()\n",
    "#         self.tcn = TemporalConvNet(input_size, num_channels, kernel_size=kernel_size, dropout=dropout)\n",
    "#         self.linear = nn.Linear(num_channels[-1], output_size)\n",
    "\n",
    "#     def forward(self, inputs):\n",
    "#         \"\"\"Inputs have to have dimension (N, C_in, L_in)\"\"\"\n",
    "#         y1 = self.tcn(inputs)  # input should have dimension (N, C, L)\n",
    "#         pred = self.linear(y1[:, :, -1])\n",
    "#         return pred"
   ]
  },
  {
   "cell_type": "code",
   "execution_count": 71,
   "metadata": {},
   "outputs": [],
   "source": [
    "class MyDataset(torch.utils.data.Dataset):\n",
    "    '''\n",
    "    Class to load the dataset\n",
    "    '''\n",
    "    def __init__(self, w, m, y, df_id, idx):\n",
    "        self.w = w\n",
    "        self.m = m\n",
    "        self.y = y\n",
    "        self.idx = idx\n",
    "        self.df_id = df_id\n",
    "            \n",
    "    def __len__(self):\n",
    "        return len(self.idx)\n",
    "\n",
    "    def __getitem__(self, idx):\n",
    "            \n",
    "        idx = self.idx[idx]\n",
    "        widx = self.df_id.widx.values[idx]\n",
    "        \n",
    "        ww = torch.tensor(self.w[(widx - 90):(widx + 210)], dtype=torch.float, device = device)\n",
    "        dd = torch.arange(300, dtype=torch.float, device = device).reshape(1,-1)/300 - 0.5\n",
    "        ww = torch.cat([ww.t(), dd], 0)\n",
    "        mm = torch.tensor(self.m[idx], dtype=torch.float, device = device)\n",
    "        yy = torch.tensor(self.y[idx], dtype=torch.float, device = device)\n",
    "        \n",
    "        return (ww, mm, yy)"
   ]
  },
  {
   "cell_type": "code",
   "execution_count": 72,
   "metadata": {},
   "outputs": [],
   "source": [
    "class MyNet(nn.Module):\n",
    "\n",
    "    def __init__(self, w_layers, pred_layers, d):\n",
    "\n",
    "        super().__init__()\n",
    "              \n",
    "        # Weaher variables\n",
    "#         w_layers_list = nn.ModuleList()\n",
    "#         for i, o, k, d in w_layers:\n",
    "#             w_layer = nn.Sequential(\n",
    "#                 nn.Conv1d(i, o, k, stride=2),\n",
    "#                 nn.LeakyReLU(),\n",
    "#                 nn.BatchNorm1d(o),\n",
    "#                 nn.Dropout(d)\n",
    "#             )\n",
    "#             w_layers_list.append(w_layer)\n",
    "#         w_layers_list.append(nn.AdaptiveAvgPool1d(1))\n",
    "#         self.w_layers = nn.Sequential(*w_layers_list)\n",
    "        self.tcn = TemporalConvNet(w_layers[0], w_layers[1:-1], kernel_size=3, dropout=d)\n",
    "        self.linear = nn.Linear(w_layers[-2], w_layers[-1])\n",
    "\n",
    "\n",
    "        # Management variables\n",
    "        pred_layers_list = nn.ModuleList()\n",
    "        for i, o, d in pred_layers:\n",
    "            pred_layer = nn.Sequential(\n",
    "                nn.Linear(i, o),\n",
    "                nn.LeakyReLU(),\n",
    "                nn.BatchNorm1d(o),\n",
    "                nn.Dropout(d)\n",
    "            )\n",
    "            pred_layers_list.append(pred_layer)\n",
    "        pred_layers_list.append(nn.Linear(o, 1))\n",
    "        self.pred_layers = nn.Sequential(*pred_layers_list)\n",
    "        \n",
    "   \n",
    "    def forward(self, Ws, Ms):\n",
    "        \n",
    "#         W_feat = self.w_layers(Ws).view(Ws.shape[0], -1)\n",
    "        W_feat = self.tcn(Ws)\n",
    "        W_feat = self.linear(W_feat[:, :, -1])\n",
    "        all_feats = torch.cat([W_feat, Ms], dim = 1)\n",
    "        pred = self.pred_layers(all_feats)\n",
    "        return (pred)\n"
   ]
  },
  {
   "cell_type": "code",
   "execution_count": 73,
   "metadata": {},
   "outputs": [],
   "source": [
    "data_file = '/home/rodrigo7/Documents/APSIMDL/data/train.h5'\n",
    "yield_file = '/home/rodrigo7/Apsim_test/MASAGRO/MASAGRO.csv'\n",
    "met_file = '/home/rodrigo7/Apsim_test/MASAGRO/Daymet/CH00006.met'"
   ]
  },
  {
   "cell_type": "code",
   "execution_count": 74,
   "metadata": {},
   "outputs": [
    {
     "name": "stdout",
     "output_type": "stream",
     "text": [
      "(14245, 5)\n"
     ]
    }
   ],
   "source": [
    "w = pd.read_csv(met_file, skiprows=11, sep=' ')\n",
    "w.columns = pd.read_csv(met_file, skiprows=10, sep=' ').columns\n",
    "w['date'] = pd.to_datetime(w.year * 1000 + w.day, format='%Y%j')\n",
    "w = w.reset_index()\n",
    "W = w.iloc[:,3:8]\n",
    "W_std = StandardScaler().fit(W)\n",
    "W = W_std.transform(W)\n",
    "# dump(W_std, '../data/W_std.bin', compress=True)\n",
    "print(W.shape)"
   ]
  },
  {
   "cell_type": "code",
   "execution_count": 75,
   "metadata": {},
   "outputs": [],
   "source": [
    "ydf = pd.read_csv(yield_file)\n",
    "ydf['day_sow'] = pd.to_datetime(pd.to_datetime(ydf['Maize.SowingDate']).dt.date)\n",
    "ydf['widx'] = ydf.merge(w, left_on='day_sow', right_on = 'date')['index']\n",
    "ydf = ydf.loc[ydf.Yield > 5500]\n",
    "sim_namedf = ydf.SimulationID.str.split(pat = '_', expand=True)\n",
    "ydf['n_rate'] = sim_namedf[2]"
   ]
  },
  {
   "cell_type": "code",
   "execution_count": 76,
   "metadata": {},
   "outputs": [
    {
     "data": {
      "text/plain": [
       "array([[<matplotlib.axes._subplots.AxesSubplot object at 0x7f6bd8791a90>]],\n",
       "      dtype=object)"
      ]
     },
     "execution_count": 76,
     "metadata": {},
     "output_type": "execute_result"
    },
    {
     "data": {
      "image/png": "[encoded data removed]",
      "text/plain": [
       "<Figure size 432x288 with 1 Axes>"
      ]
     },
     "metadata": {
      "needs_background": "light"
     },
     "output_type": "display_data"
    }
   ],
   "source": [
    "ydf.hist('Yield')"
   ]
  },
  {
   "cell_type": "code",
   "execution_count": 77,
   "metadata": {},
   "outputs": [
    {
     "name": "stdout",
     "output_type": "stream",
     "text": [
      "(3269, 1)\n"
     ]
    }
   ],
   "source": [
    "Y_data = ydf.Yield.values.reshape(-1,1)\n",
    "Y_std = StandardScaler().fit(Y_data)\n",
    "Y = Y_std.transform(Y_data)\n",
    "# dump(Y_std, '../data/Y_std.bin', compress=True)\n",
    "print(Y.shape)"
   ]
  },
  {
   "cell_type": "code",
   "execution_count": 78,
   "metadata": {},
   "outputs": [
    {
     "name": "stdout",
     "output_type": "stream",
     "text": [
      "(3269, 1)\n"
     ]
    }
   ],
   "source": [
    "M_data = ydf.loc[:,'n_rate'].values.reshape(-1,1)\n",
    "M_std = StandardScaler().fit(M_data)\n",
    "M = M_std.transform(M_data)\n",
    "# dump(M_std, '../data/M_std.bin', compress=True)\n",
    "print(M.shape)"
   ]
  },
  {
   "cell_type": "code",
   "execution_count": 79,
   "metadata": {},
   "outputs": [
    {
     "data": {
      "text/plain": [
       "(2944, 325)"
      ]
     },
     "execution_count": 79,
     "metadata": {},
     "output_type": "execute_result"
    }
   ],
   "source": [
    "Z = ydf.day_sow.dt.year.values.reshape(-1,1)\n",
    "gss = GroupShuffleSplit(n_splits=1, test_size=0.1, train_size= 0.9, random_state=123456)\n",
    "xidx = np.arange(len(ydf))\n",
    "train_idx, val_idx = next(gss.split(xidx, groups=Z))\n",
    "train_idx.size, val_idx.size"
   ]
  },
  {
   "cell_type": "code",
   "execution_count": 80,
   "metadata": {},
   "outputs": [
    {
     "data": {
      "text/plain": [
       "(2944, 325)"
      ]
     },
     "execution_count": 80,
     "metadata": {},
     "output_type": "execute_result"
    }
   ],
   "source": [
    "ntrain_idx = np.random.choice(train_idx, size=train_idx.size, replace=False)\n",
    "nval_idx = np.random.choice(val_idx, size=val_idx.size, replace=False)\n",
    "ntrain_idx.size, nval_idx.size"
   ]
  },
  {
   "cell_type": "code",
   "execution_count": 81,
   "metadata": {},
   "outputs": [
    {
     "data": {
      "text/plain": [
       "(34, 4)"
      ]
     },
     "execution_count": 81,
     "metadata": {},
     "output_type": "execute_result"
    }
   ],
   "source": [
    "len(np.unique(Z[ntrain_idx])), len(np.unique(Z[nval_idx])),"
   ]
  },
  {
   "cell_type": "code",
   "execution_count": 82,
   "metadata": {},
   "outputs": [
    {
     "name": "stdout",
     "output_type": "stream",
     "text": [
      "3\n"
     ]
    }
   ],
   "source": [
    "batch_size = 1000\n",
    "\n",
    "\n",
    "pred_dataset = MyDataset(W, M, Y, ydf, xidx)\n",
    "train_dataset = MyDataset(W, M, Y, ydf, ntrain_idx)\n",
    "val_dataset = MyDataset(W, M, Y, ydf, nval_idx)\n",
    "\n",
    "\n",
    "pred_loader = DataLoader(pred_dataset, batch_size=batch_size, drop_last=False, shuffle=False)\n",
    "train_loader = DataLoader(train_dataset, batch_size=batch_size, drop_last=False, shuffle=True)\n",
    "val_loader = DataLoader(val_dataset, batch_size=batch_size, drop_last=False, shuffle=True)\n",
    "\n",
    "data_inputs = iter(train_loader).next()\n",
    "print(len(train_loader))\n",
    "\n"
   ]
  },
  {
   "cell_type": "code",
   "execution_count": 89,
   "metadata": {},
   "outputs": [
    {
     "name": "stdout",
     "output_type": "stream",
     "text": [
      "-----------------------------------------------------------------------\n",
      "      Layer (type)        Output Shape         Param #     Tr. Param #\n",
      "=======================================================================\n",
      "   TemporalBlock-1      [1000, 8, 300]             424             424\n",
      "   TemporalBlock-2      [1000, 8, 300]             416             416\n",
      "   TemporalBlock-3      [1000, 8, 300]             416             416\n",
      "   TemporalBlock-4      [1000, 8, 300]             416             416\n",
      "   TemporalBlock-5      [1000, 8, 300]             416             416\n",
      "   TemporalBlock-6      [1000, 8, 300]             416             416\n",
      "          Linear-7          [1000, 10]              90              90\n",
      "          Linear-8          [1000, 25]             300             300\n",
      "       LeakyReLU-9          [1000, 25]               0               0\n",
      "    BatchNorm1d-10          [1000, 25]              50              50\n",
      "        Dropout-11          [1000, 25]               0               0\n",
      "         Linear-12          [1000, 25]             650             650\n",
      "      LeakyReLU-13          [1000, 25]               0               0\n",
      "    BatchNorm1d-14          [1000, 25]              50              50\n",
      "        Dropout-15          [1000, 25]               0               0\n",
      "         Linear-16          [1000, 25]             650             650\n",
      "      LeakyReLU-17          [1000, 25]               0               0\n",
      "    BatchNorm1d-18          [1000, 25]              50              50\n",
      "        Dropout-19          [1000, 25]               0               0\n",
      "         Linear-20           [1000, 1]              26              26\n",
      "=======================================================================\n",
      "Total params: 4,370\n",
      "Trainable params: 4,370\n",
      "Non-trainable params: 0\n",
      "-----------------------------------------------------------------------\n"
     ]
    }
   ],
   "source": [
    "d = 0.1\n",
    "w_layers = [6, 8, 8, 8, 8, 8, 8, 10]\n",
    "pred_layers = [[11,25,d],[25,25,d], [25,25,d]]\n",
    "\n",
    "model = MyNet(w_layers, pred_layers, d)\n",
    "model = model.to(device)\n",
    "# model.load_state_dict(torch.load('../data/model_vn.pth', map_location=device))\n",
    "sm = summary(model, *data_inputs[:2], print_summary=True,  max_depth=2)"
   ]
  },
  {
   "cell_type": "code",
   "execution_count": 90,
   "metadata": {},
   "outputs": [],
   "source": [
    "# d = 0.1\n",
    "# input_channels = 6\n",
    "# kernel_size = 7\n",
    "# n_classes = 1\n",
    "\n",
    "\n",
    "# w_layers = [6, 8, 8, 8, 8, 10]\n",
    "# pred_layers = [[11,25,d],[25,25,d], [25,25,d]]\n",
    "\n",
    "# model = MyNet(w_layers, pred_layers, d)\n",
    "\n",
    "# model = TCN(input_channels, n_classes, channel_sizes, kernel_size=kernel_size, dropout=d)\n",
    "# self.tcn = TemporalConvNet(w_layers[0], w_layers[1:], kernel_size=3, dropout=d)\n",
    "# class TCN(nn.Module):\n",
    "#     def __init__(self, input_size, output_size, num_channels, kernel_size, dropout):\n",
    "#         super(TCN, self).__init__()\n",
    "#         self.tcn = TemporalConvNet(input_size, num_channels, kernel_size=kernel_size, dropout=dropout)\n",
    "# sm = summary(model, *data_inputs[:2], print_summary=True, max_depth=10)"
   ]
  },
  {
   "cell_type": "code",
   "execution_count": 91,
   "metadata": {},
   "outputs": [],
   "source": [
    "# d = 0.1\n",
    "# w_layers =  [[6,12,3,d],[12,12,5,d],[12,12,7,d],[12,12,5,d],[12,10,3,d]]\n",
    "# pred_layers = [[11,25,d],[25,25,d], [25,25,d]]\n",
    "\n",
    "# model = MyNet(w_layers, pred_layers)\n",
    "# model = model.to(device)\n",
    "# model.load_state_dict(torch.load('../data/model_vn.pth', map_location=device))\n",
    "# sm = summary(model, *data_inputs[:2], print_summary=True)"
   ]
  },
  {
   "cell_type": "code",
   "execution_count": 92,
   "metadata": {},
   "outputs": [],
   "source": [
    "criterion = nn.MSELoss()\n",
    "optimizer = torch.optim.Adam(model.parameters(), lr=0.01)"
   ]
  },
  {
   "cell_type": "code",
   "execution_count": 93,
   "metadata": {},
   "outputs": [
    {
     "data": {
      "image/png": "[encoded data removed]",
      "text/plain": [
       "<Figure size 864x576 with 1 Axes>"
      ]
     },
     "metadata": {
      "needs_background": "light"
     },
     "output_type": "display_data"
    },
    {
     "name": "stdout",
     "output_type": "stream",
     "text": [
      "log loss:\n",
      "training   (min:    0.534, max:    1.119, cur:    0.539)\n",
      "validation (min:    0.714, max:    1.076, cur:    1.007)\n",
      "[50:93] loss: 0.539 time:1.42\n"
     ]
    },
    {
     "data": {
      "application/vnd.jupyter.widget-view+json": {
       "model_id": "fc57d0d4ac934c64af2bd0daac3a783b",
       "version_major": 2,
       "version_minor": 0
      },
      "text/plain": [
       "HBox(children=(FloatProgress(value=0.0, max=3.0), HTML(value='')))"
      ]
     },
     "metadata": {},
     "output_type": "display_data"
    },
    {
     "name": "stdout",
     "output_type": "stream",
     "text": [
      "\n"
     ]
    },
    {
     "data": {
      "application/vnd.jupyter.widget-view+json": {
       "model_id": "0859e2f82bad44118832b96de63da329",
       "version_major": 2,
       "version_minor": 0
      },
      "text/plain": [
       "HBox(children=(FloatProgress(value=0.0, max=1.0), HTML(value='')))"
      ]
     },
     "metadata": {},
     "output_type": "display_data"
    },
    {
     "name": "stdout",
     "output_type": "stream",
     "text": [
      "\n"
     ]
    }
   ],
   "source": [
    "min_loss = 10\n",
    "bad_epochs = 0\n",
    "liveloss = PlotLosses()\n",
    "num_epochs = 150 # Define o número de épocas para realizar o treinamento \n",
    "for epoch in range(num_epochs):\n",
    "    start_time = time.time()\n",
    "    epoch_loss = []\n",
    "    val_loss = []\n",
    "    \n",
    "    model.train()\n",
    "    for i, (Ws, Ms, Ys) in enumerate(tqdm(train_loader)):\n",
    "        \n",
    "        # Limpa os gradientes\n",
    "        optimizer.zero_grad()\n",
    "    \n",
    "        # Obtem o output\n",
    "        outputs = model(Ws, Ms)\n",
    "\n",
    "        # Caulcula a perda pela loss function\n",
    "        loss = criterion(outputs, Ys)\n",
    "\n",
    "        # Obtem os gradientes\n",
    "        loss.backward()\n",
    "\n",
    "        # Atualiza os parâmetros\n",
    "        optimizer.step()\n",
    "        epoch_loss.append(loss.data.item())\n",
    "        \n",
    "    model.eval()\n",
    "    for i, (Ws, Ms, Ys) in enumerate(tqdm(val_loader)):\n",
    "        with torch.no_grad():\n",
    "          # Obtem o output\n",
    "          outputs = model(Ws, Ms)\n",
    "\n",
    "        # Caulcula a perda pela loss function (MSE)\n",
    "        loss = criterion(outputs, Ys)\n",
    "\n",
    "        val_loss.append(loss.data.item())\n",
    "        \n",
    "    epoch_loss = np.array(epoch_loss).mean()\n",
    "    val_loss = np.array(val_loss).mean()\n",
    "    time_taken = time.time() - start_time\n",
    "    \n",
    "    if val_loss < min_loss:\n",
    "        # Nome da pasta com o arquivo .pth salvando os pesos do modelo treinado\n",
    "        model_file_name = '../data/model_vn.pth'\n",
    "        torch.save(model.state_dict(), model_file_name)\n",
    "        bad_epochs = 0\n",
    "        min_loss = val_loss\n",
    "    else:\n",
    "        bad_epochs += 1\n",
    "    \n",
    "    if bad_epochs > 50:\n",
    "        break\n",
    "\n",
    "    liveloss.update({\n",
    "        'log loss': epoch_loss,\n",
    "        'val_log loss': val_loss\n",
    "    })\n",
    "    liveloss.draw() #Apresenta o gráfico log loss\n",
    "    print('[%d:%d] loss: %.3f time:%.2f' % (bad_epochs, epoch, epoch_loss, time_taken))\n"
   ]
  },
  {
   "cell_type": "code",
   "execution_count": 94,
   "metadata": {},
   "outputs": [
    {
     "name": "stdout",
     "output_type": "stream",
     "text": [
      "Model OK\n"
     ]
    }
   ],
   "source": [
    "model.load_state_dict(torch.load('../data/model_vn.pth', map_location=device))\n",
    "print('Model OK')"
   ]
  },
  {
   "cell_type": "code",
   "execution_count": 95,
   "metadata": {},
   "outputs": [
    {
     "data": {
      "application/vnd.jupyter.widget-view+json": {
       "model_id": "23c7854e21514a4fba259e0cdffb9bed",
       "version_major": 2,
       "version_minor": 0
      },
      "text/plain": [
       "HBox(children=(FloatProgress(value=0.0, max=1.0), HTML(value='')))"
      ]
     },
     "metadata": {},
     "output_type": "display_data"
    },
    {
     "name": "stdout",
     "output_type": "stream",
     "text": [
      "\n",
      "time:0.13\n"
     ]
    }
   ],
   "source": [
    "# Inicia o tempo para contagem\n",
    "start_time = time.time()\n",
    "\n",
    "# Realiza a predição dos dados a partir do modelo treinado - Dados de validação\n",
    "model.eval()\n",
    "obs = []\n",
    "preds = []\n",
    "for i, (Ws, Ms, Ys) in enumerate(tqdm(val_loader)):\n",
    "    obs.append(Ys.cpu().data.numpy())\n",
    "    with torch.no_grad():\n",
    "        pred = model(Ws, Ms)\n",
    "    preds.append(pred.cpu().data.numpy())\n",
    "obs = np.concatenate(obs)\n",
    "preds = np.concatenate(preds)\n",
    "\n",
    "# Faz a diferença para calcular o tempo           \n",
    "time_taken = time.time() - start_time\n",
    "# Apresenta o valor do tempo\n",
    "print('time:%.2f' % (time_taken))"
   ]
  },
  {
   "cell_type": "code",
   "execution_count": 96,
   "metadata": {},
   "outputs": [
    {
     "name": "stdout",
     "output_type": "stream",
     "text": [
      "0.49\n"
     ]
    },
    {
     "data": {
      "image/png": "[encoded data removed]",
      "text/plain": [
       "<Figure size 432x288 with 1 Axes>"
      ]
     },
     "metadata": {
      "needs_background": "light"
     },
     "output_type": "display_data"
    }
   ],
   "source": [
    "x = Y_std.inverse_transform(preds.reshape(-1))\n",
    "y = Y_std.inverse_transform(obs.reshape(-1))\n",
    "\n",
    "ax = plt.axes()\n",
    "ax.set_aspect('equal', 'datalim')\n",
    "\n",
    "plt.scatter(x, y, 0.1, alpha=0.1)\n",
    "plt.xlabel('Predicted')\n",
    "plt.ylabel('Observed')\n",
    "plt.plot([y.min(), y.max()], [y.min(), y.max()], 'k-', color = 'r')\n",
    "print(np.round(np.corrcoef(x, y, rowvar=False)[1,0],3))\n",
    "plt.show()"
   ]
  },
  {
   "cell_type": "code",
   "execution_count": 55,
   "metadata": {},
   "outputs": [],
   "source": [
    "# model.eval()\n",
    "# b_loss = []\n",
    "# for (Ws, Ss, Ms, Ys) in tqdm(train_loader):\n",
    "#     w_loss = []\n",
    "#     for i in trange(300):\n",
    "#         v_loss = [i]\n",
    "#         for v in range(5):\n",
    "#             Wsw = Ws.clone()\n",
    "#             Wsw[:,v,(i-4):(i+3)] = 0\n",
    "#             with torch.no_grad():\n",
    "#                 outputs = model(Wsw, Ss, Ms)\n",
    "#             loss = criterion(outputs, Ys)\n",
    "#             v_loss.append(loss.data.item())\n",
    "#         w_loss.append(v_loss)\n",
    "#     b_loss.append(np.array(w_loss))"
   ]
  },
  {
   "cell_type": "code",
   "execution_count": null,
   "metadata": {},
   "outputs": [],
   "source": [
    "dap_err = np.stack(b_loss).mean(0)"
   ]
  },
  {
   "cell_type": "code",
   "execution_count": null,
   "metadata": {},
   "outputs": [],
   "source": [
    "cls = [\"interval\",\"radn\", \"maxt\", \"mint\", \"rain\", \"dayl\", \"dap\"]\n"
   ]
  },
  {
   "cell_type": "code",
   "execution_count": null,
   "metadata": {},
   "outputs": [],
   "source": [
    "plt.figure(figsize=(20,10))\n",
    "for i in range(1,6):\n",
    "    plt.plot(dap_err.T[0], dap_err.T[i], label = cls[i])\n",
    "plt.legend()\n"
   ]
  },
  {
   "cell_type": "code",
   "execution_count": null,
   "metadata": {},
   "outputs": [],
   "source": []
  },
  {
   "cell_type": "code",
   "execution_count": null,
   "metadata": {},
   "outputs": [],
   "source": [
    "x = Y_std.inverse_transform(preds.reshape(-1))\n",
    "y = Y_std.inverse_transform(obs.reshape(-1))\n",
    "\n",
    "ax = plt.axes()\n",
    "ax.set_aspect('equal', 'datalim')\n",
    "\n",
    "plt.scatter(x, y, 0.1, alpha=0.1)\n",
    "plt.xlabel('Predicted')\n",
    "plt.ylabel('Observed')\n",
    "plt.plot([y.min(), y.max()], [y.min(), y.max()], 'k-', color = 'r')\n",
    "print(np.round(np.corrcoef(x, y, rowvar=False)[1,0],3))\n",
    "plt.show()"
   ]
  },
  {
   "cell_type": "code",
   "execution_count": null,
   "metadata": {},
   "outputs": [],
   "source": [
    "x.mean(), y.mean()"
   ]
  },
  {
   "cell_type": "code",
   "execution_count": null,
   "metadata": {},
   "outputs": [],
   "source": []
  }
 ],
 "metadata": {
  "kernelspec": {
   "display_name": "Python [conda env:GEOANN]",
   "language": "python",
   "name": "conda-env-GEOANN-py"
  },
  "language_info": {
   "codemirror_mode": {
    "name": "ipython",
    "version": 3
   },
   "file_extension": ".py",
   "mimetype": "text/x-python",
   "name": "python",
   "nbconvert_exporter": "python",
   "pygments_lexer": "ipython3",
   "version": "3.7.6"
  },
  "varInspector": {
   "cols": {
    "lenName": 16,
    "lenType": 16,
    "lenVar": 40
   },
   "kernels_config": {
    "python": {
     "delete_cmd_postfix": "",
     "delete_cmd_prefix": "del ",
     "library": "var_list.py",
     "varRefreshCmd": "print(var_dic_list())"
    },
    "r": {
     "delete_cmd_postfix": ") ",
     "delete_cmd_prefix": "rm(",
     "library": "var_list.r",
     "varRefreshCmd": "cat(var_dic_list()) "
    }
   },
   "types_to_exclude": [
    "module",
    "function",
    "builtin_function_or_method",
    "instance",
    "_Feature"
   ],
   "window_display": false
  }
 },
 "nbformat": 4,
 "nbformat_minor": 2
}
