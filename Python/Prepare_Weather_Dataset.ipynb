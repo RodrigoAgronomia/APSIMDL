{
 "cells": [
  {
   "cell_type": "code",
   "execution_count": 1,
   "metadata": {},
   "outputs": [],
   "source": [
    "import h5py\n",
    "import numpy as np\n",
    "import pandas as pd\n",
    "import geopandas as gpd\n",
    "import seaborn as sbn\n",
    "import datetime as dt\n",
    "import matplotlib.pyplot as plt\n",
    "from tqdm.notebook import  tqdm, trange"
   ]
  },
  {
   "cell_type": "code",
   "execution_count": 2,
   "metadata": {},
   "outputs": [],
   "source": [
    "pts = gpd.read_file('../../CIAT/data/BEM_2019_Chiapas_Final_Clean.gpkg')\n",
    "pts['SIM'] = ['CH{0:05d}'.format(i + 1) for i in range(len(pts))]\n",
    "pts = pts.set_index('SIM')\n",
    "pts['ref_date'] = pd.to_datetime(pts.fecha_de_siembra)"
   ]
  },
  {
   "cell_type": "code",
   "execution_count": null,
   "metadata": {},
   "outputs": [],
   "source": [
    "yl = []\n",
    "for i, key in enumerate(tqdm(SIM)):\n",
    "    crop_start_date = pts.ref_date.dt.date.loc[key[1:]]\n",
    "    sim_start_date = crop_start_date - dt.timedelta(days = 90)\n",
    "    crop_end_date = crop_start_date + dt.timedelta(days = 210)\n",
    "    \n",
    "    wfile = f'/home/rodrigo7/Apsim_test/MASAGRO/PCSE{key}_npf.csv'\n",
    "    w = pd.read_csv(wfile, skiprows=13)\n",
    "    w.DAY = pd.to_datetime(w.DAY, format= '%Y%m%d').dt.date\n",
    "    ini_idx = np.where(w.DAY == sim_start_date)[0][0]\n",
    "    end_idx = np.where(w.DAY == crop_end_date)[0][0]\n",
    "    s_idx = slice(ini_idx, end_idx)\n",
    "    w_seed = w[s_idx].values[:,1:-1].astype('float')\n",
    "    w_seed = transform(w_seed)\n",
    "    y_pred = model(w_seed).data.cpu().numpy()\n",
    "    w_adv = get_adv(w_seed, 0.01)\n",
    "    y_adv = model(w_adv).data.cpu().numpy()\n",
    "    w_adv = back_transform(w_adv)\n",
    "    yl.append([y_pred, y_adv])\n",
    "\n",
    "    dff = w.iloc[s_idx].copy()\n",
    "    dff.iloc[:,1:-1] = w_adv\n",
    "    \n",
    "    save_file = f'/home/rodrigo7/Apsim_test/MASAGRO/PCSE{key}_adv.csv'\n",
    "    with open(save_file, 'w') as sf:\n",
    "        with open(wfile) as f:\n",
    "            for r in range(14):\n",
    "                sf.writelines(f.readline())\n",
    "    \n",
    "    dff.DAY = pd.to_datetime(dff.DAY).dt.strftime('%Y%m%d')\n",
    "    dff.to_csv(save_file, na_rep = 'NaN', mode = 'a', float_format = '%.3f', header = False, index = False)\n"
   ]
  },
  {
   "cell_type": "code",
   "execution_count": 7,
   "metadata": {},
   "outputs": [
    {
     "data": {
      "application/vnd.jupyter.widget-view+json": {
       "model_id": "83c0343790354a4db820976fe0589dca",
       "version_major": 2,
       "version_minor": 0
      },
      "text/plain": [
       "HBox(children=(FloatProgress(value=0.0, max=4594.0), HTML(value='')))"
      ]
     },
     "metadata": {},
     "output_type": "display_data"
    },
    {
     "name": "stdout",
     "output_type": "stream",
     "text": [
      "\n"
     ]
    }
   ],
   "source": [
    "for i, key in enumerate(tqdm(pts.index)):\n",
    "    crop_start_date = pts.ref_date.dt.date.loc[key]\n",
    "    sim_start_date = crop_start_date - dt.timedelta(days = 90)\n",
    "    crop_end_date = crop_start_date + dt.timedelta(days = 210)\n",
    "    \n",
    "    wfile = f'/home/rodrigo7/Apsim_test/MASAGRO/PCSE/{key}_npf.csv'\n",
    "    w = pd.read_csv(wfile, skiprows=13)\n",
    "    w.DAY = pd.to_datetime(w.DAY, format= '%Y%m%d').dt.date\n",
    "    ini_idx = np.where(w.DAY == sim_start_date)[0][0]\n",
    "    end_idx = np.where(w.DAY == crop_end_date)[0][0]\n",
    "    s_idx = slice(ini_idx, end_idx)\n",
    "    dff = w.iloc[s_idx].copy()\n",
    "    \n",
    "    save_file = f'/home/rodrigo7/Apsim_test/MASAGRO/PCSE/{key}_npff.csv'\n",
    "    with open(save_file, 'w') as sf:\n",
    "        with open(wfile) as f:\n",
    "            for r in range(14):\n",
    "                sf.writelines(f.readline())\n",
    "    \n",
    "    dff.DAY = pd.to_datetime(dff.DAY).dt.strftime('%Y%m%d')\n",
    "    dff.to_csv(save_file, na_rep = 'NaN', mode = 'a', float_format = '%.3f', header = False, index = False)\n"
   ]
  },
  {
   "cell_type": "code",
   "execution_count": null,
   "metadata": {},
   "outputs": [],
   "source": []
  }
 ],
 "metadata": {
  "kernelspec": {
   "display_name": "Python [conda env:GEOANN]",
   "language": "python",
   "name": "conda-env-GEOANN-py"
  },
  "language_info": {
   "codemirror_mode": {
    "name": "ipython",
    "version": 3
   },
   "file_extension": ".py",
   "mimetype": "text/x-python",
   "name": "python",
   "nbconvert_exporter": "python",
   "pygments_lexer": "ipython3",
   "version": "3.7.6"
  }
 },
 "nbformat": 4,
 "nbformat_minor": 4
}
