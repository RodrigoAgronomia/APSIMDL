{
 "cells": [
  {
   "cell_type": "code",
   "execution_count": 100,
   "metadata": {},
   "outputs": [],
   "source": [
    "import numpy as np\n",
    "import pandas as pd\n",
    "import matplotlib.pyplot as plt\n",
    "import seaborn as sns"
   ]
  },
  {
   "cell_type": "code",
   "execution_count": 101,
   "metadata": {},
   "outputs": [],
   "source": [
    "ynp = np.load('../data/y_pred_adv010.npy')"
   ]
  },
  {
   "cell_type": "code",
   "execution_count": 102,
   "metadata": {},
   "outputs": [],
   "source": [
    "# adv_df = pd.read_hdf('../data/PSCE_npadv.h5', key = 'SIM').sort_values('SIM')\n",
    "adv_df = pd.read_hdf('../data/PSCE_npadv010.h5', key = 'SIM').sort_values('SIM')\n",
    "np_df = pd.read_hdf('../data/PSCE_npff.h5', key = 'SIM').sort_values('SIM')"
   ]
  },
  {
   "cell_type": "code",
   "execution_count": 111,
   "metadata": {},
   "outputs": [],
   "source": [
    "yield_increase_pred = np.diff(ynp, 1)[:,0] + 1000 *np.random.rand(len(np_df.TWSO.values))\n",
    "yield_increase_real = adv_df.TWSO.values - np_df.TWSO.values - 1000 *np.random.rand(len(np_df.TWSO.values))\n",
    "yield_increase = np.stack([yield_increase_real, yield_increase_pred], 1)\n"
   ]
  },
  {
   "cell_type": "code",
   "execution_count": 112,
   "metadata": {},
   "outputs": [
    {
     "data": {
      "image/png": "[encoded data removed]",
      "text/plain": [
       "<Figure size 720x432 with 1 Axes>"
      ]
     },
     "metadata": {
      "needs_background": "light"
     },
     "output_type": "display_data"
    }
   ],
   "source": [
    "plt.figure(figsize = (10,6))\n",
    "plt.hist(yield_increase, bins=50)\n",
    "plt.xlabel('Yield Diff')\n",
    "plt.ylabel('Count')\n",
    "plt.xlim(-4000,8000)\n",
    "plt.ylim(0,1000)\n",
    "\n",
    "plt.show()"
   ]
  },
  {
   "cell_type": "code",
   "execution_count": null,
   "metadata": {},
   "outputs": [],
   "source": []
  }
 ],
 "metadata": {
  "kernelspec": {
   "display_name": "Python [conda env:GEOANN]",
   "language": "python",
   "name": "conda-env-GEOANN-py"
  },
  "language_info": {
   "codemirror_mode": {
    "name": "ipython",
    "version": 3
   },
   "file_extension": ".py",
   "mimetype": "text/x-python",
   "name": "python",
   "nbconvert_exporter": "python",
   "pygments_lexer": "ipython3",
   "version": "3.7.6"
  }
 },
 "nbformat": 4,
 "nbformat_minor": 4
}
