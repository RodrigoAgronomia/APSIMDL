{
 "cells": [
  {
   "cell_type": "code",
   "execution_count": 1,
   "metadata": {},
   "outputs": [],
   "source": [
    "import numpy as np\n",
    "import pandas as pd\n",
    "import geopandas as gpd\n",
    "import seaborn as sns\n",
    "import matplotlib.pyplot as plt\n",
    "import rasterio\n",
    "from rasterio.windows import Window\n",
    "from tqdm.notebook import tqdm, trange"
   ]
  },
  {
   "cell_type": "code",
   "execution_count": 2,
   "metadata": {},
   "outputs": [],
   "source": [
    "# IRRAD = srad, TMIN = tmin, TMAX = tmax, VAP = vp, WIND = 3, RAIN = prcp, SNOWDEPTH = NaN "
   ]
  },
  {
   "cell_type": "code",
   "execution_count": 3,
   "metadata": {},
   "outputs": [],
   "source": [
    "# Select a window without missing data in the center of the tile:\n",
    "w = Window(22, 31, 200, 200)\n",
    "dm_vars = ['dayl', 'srad', 'tmin', 'tmax', 'vp', 'prcp']"
   ]
  },
  {
   "cell_type": "code",
   "execution_count": 4,
   "metadata": {},
   "outputs": [
    {
     "data": {
      "application/vnd.jupyter.widget-view+json": {
       "model_id": "44ee6134cf714bc98c7ac0165a98bc54",
       "version_major": 2,
       "version_minor": 0
      },
      "text/plain": [
       "HBox(children=(FloatProgress(value=0.0, max=11.0), HTML(value='')))"
      ]
     },
     "metadata": {},
     "output_type": "display_data"
    },
    {
     "name": "stdout",
     "output_type": "stream",
     "text": [
      "\n"
     ]
    }
   ],
   "source": [
    "daymet = []\n",
    "for y in trange(2009, 2020):\n",
    "    yl = []\n",
    "    for v in dm_vars:\n",
    "        with rasterio.open(f'../../Datasets/DAYMET/{v}_{y}_9584.nc') as rst:\n",
    "            yl.append(rst.read(window = w, out_shape = (40,40)))\n",
    "    daymet.append(np.stack(yl, 1))\n",
    "daymet = np.stack(daymet)"
   ]
  },
  {
   "cell_type": "code",
   "execution_count": 5,
   "metadata": {},
   "outputs": [
    {
     "data": {
      "text/plain": [
       "(11, 365, 6, 40, 40)"
      ]
     },
     "execution_count": 5,
     "metadata": {},
     "output_type": "execute_result"
    }
   ],
   "source": [
    "#Years,Days,Variables,H,W\n",
    "daymet.shape"
   ]
  },
  {
   "cell_type": "code",
   "execution_count": 6,
   "metadata": {},
   "outputs": [
    {
     "data": {
      "text/plain": [
       "(4015, 5, 40, 40)"
      ]
     },
     "execution_count": 6,
     "metadata": {},
     "output_type": "execute_result"
    }
   ],
   "source": [
    "#Time,Variables,H,W\n",
    "daymetf = np.concatenate(daymet)\n",
    "\n",
    "# Fix the radiation values and the VP units:\n",
    "daymetf[:,1] = 1e-03 * daymetf[:,0] * daymetf[:,1]\n",
    "daymetf[:,4] = 1e-03 * daymetf[:,4]\n",
    "\n",
    "# Drop the dayl variable:\n",
    "daymetf = daymetf[:,1:]\n",
    "\n",
    "daymetf.shape"
   ]
  },
  {
   "cell_type": "code",
   "execution_count": 7,
   "metadata": {},
   "outputs": [
    {
     "data": {
      "text/plain": [
       "array([1459, 2919])"
      ]
     },
     "execution_count": 7,
     "metadata": {},
     "output_type": "execute_result"
    }
   ],
   "source": [
    "# Get the years that were discarded in leap years:\n",
    "days = []\n",
    "for y in range(2009, 2020):\n",
    "    ydays = pd.to_datetime(f'{y}0101', format= '%Y%m%d')\n",
    "    ydays = ydays + pd.to_timedelta(np.arange(365), unit='d')\n",
    "    days.append(ydays)\n",
    "days = np.concatenate(days)\n",
    "td = np.diff(days)\n",
    "lidx = np.where(~(td == td[0]))[0]\n",
    "lidx"
   ]
  },
  {
   "cell_type": "code",
   "execution_count": 8,
   "metadata": {},
   "outputs": [],
   "source": [
    "# Duplicate the data from 12/30 to fill the missign 12/31:\n",
    "daymetf = np.insert(daymetf, lidx, daymetf[lidx], axis = 0)"
   ]
  },
  {
   "cell_type": "code",
   "execution_count": 9,
   "metadata": {},
   "outputs": [],
   "source": [
    "# Create the sequential dates:\n",
    "ydays = pd.to_datetime('20090101', format= '%Y%m%d')\n",
    "ydays = ydays + pd.to_timedelta(np.arange(len(daymetf)), unit='d')\n",
    "ydays = ydays.strftime('%Y%m%d').values.astype('int32')\n",
    "ydays = np.zeros_like(daymetf[:,[0]]) + ydays[:,None,None,None]"
   ]
  },
  {
   "cell_type": "code",
   "execution_count": 10,
   "metadata": {},
   "outputs": [],
   "source": [
    "# Create dummy values to fill the missing variables\n",
    "wind = 3 * np.ones_like(daymetf[:,[0]])\n",
    "snow = np.zeros_like(daymetf[:,[0]])\n",
    "snow[:] = np.nan"
   ]
  },
  {
   "cell_type": "code",
   "execution_count": 11,
   "metadata": {},
   "outputs": [],
   "source": [
    "# Organize the variables according to the order fo the CSV:\n",
    "daymetf = np.concatenate([ydays, daymetf[:,:4], wind, daymetf[:,[4]], snow], axis = 1)"
   ]
  },
  {
   "cell_type": "code",
   "execution_count": 12,
   "metadata": {},
   "outputs": [
    {
     "data": {
      "text/plain": [
       "(4017, 8, 40, 40)"
      ]
     },
     "execution_count": 12,
     "metadata": {},
     "output_type": "execute_result"
    }
   ],
   "source": [
    "svars = ['DAY', 'IRRAD', 'TMIN', 'TMAX', 'VAP', 'WIND', 'RAIN', 'SNOWDEPTH']\n",
    "daymetf.shape"
   ]
  },
  {
   "cell_type": "code",
   "execution_count": 13,
   "metadata": {},
   "outputs": [],
   "source": [
    "hh = ['## Site Characteristics\\n',\n",
    " \"Country     = 'Mexico'\\n\",\n",
    " \"Station     = '9584'\\n\",\n",
    " \"Description = 'CHIAPAS'\\n\",\n",
    " \"Source      = 'DAYMET'\\n\",\n",
    " \"Contact     = 'Rodrigo'\\n\",\n",
    " 'Longitude   = -93\\n',\n",
    " 'Latitude    = 17\\n',\n",
    " 'Elevation   = 500\\n',\n",
    " 'AngstromA   = 0.3\\n',\n",
    " 'AngstromB   = 0.5\\n',\n",
    " 'HasSunshine = False\\n',\n",
    " '## Daily weather observations\\n',\n",
    " 'DAY,IRRAD,TMIN,TMAX,VAP,WIND,RAIN,SNOWDEPTH\\n']"
   ]
  },
  {
   "cell_type": "code",
   "execution_count": 14,
   "metadata": {},
   "outputs": [],
   "source": [
    "pxy = np.stack(np.meshgrid(np.arange(daymetf.shape[-2]), np.arange(daymetf.shape[-1])), -1).reshape(-1, 2)"
   ]
  },
  {
   "cell_type": "code",
   "execution_count": 15,
   "metadata": {},
   "outputs": [
    {
     "data": {
      "application/vnd.jupyter.widget-view+json": {
       "model_id": "3996d4b9c2ae43de8cdde34cf432214d",
       "version_major": 2,
       "version_minor": 0
      },
      "text/plain": [
       "HBox(children=(FloatProgress(value=0.0, max=1600.0), HTML(value='')))"
      ]
     },
     "metadata": {},
     "output_type": "display_data"
    },
    {
     "name": "stdout",
     "output_type": "stream",
     "text": [
      "\n"
     ]
    }
   ],
   "source": [
    "px = 0\n",
    "py = 0\n",
    "for px, py in tqdm(pxy):\n",
    "    dff = pd.DataFrame(daymetf[:,:,px,py,], columns = svars)\n",
    "    dff.DAY = dff.DAY.astype('int').astype('str')\n",
    "    dff.VAP = np.clip(dff.VAP, 0.06, 199.3)\n",
    "\n",
    "    save_file = f'/home/rodrigo7/Apsim_test/MASAGRO/DAYMET_TILE/DAYMET_9584_{px:02d}_{py:02d}.csv'\n",
    "    with open(save_file, 'w') as sf:\n",
    "        for l in hh:\n",
    "            sf.writelines(l)\n",
    "    dff.to_csv(save_file, na_rep = 'NaN', mode = 'a', float_format = '%.3f', header = False, index = False)"
   ]
  },
  {
   "cell_type": "code",
   "execution_count": null,
   "metadata": {},
   "outputs": [],
   "source": []
  }
 ],
 "metadata": {
  "kernelspec": {
   "display_name": "Python [conda env:GEOANN]",
   "language": "python",
   "name": "conda-env-GEOANN-py"
  },
  "language_info": {
   "codemirror_mode": {
    "name": "ipython",
    "version": 3
   },
   "file_extension": ".py",
   "mimetype": "text/x-python",
   "name": "python",
   "nbconvert_exporter": "python",
   "pygments_lexer": "ipython3",
   "version": "3.7.6"
  }
 },
 "nbformat": 4,
 "nbformat_minor": 4
}
