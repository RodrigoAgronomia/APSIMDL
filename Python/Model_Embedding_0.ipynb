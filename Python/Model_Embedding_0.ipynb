{
 "cells": [
  {
   "cell_type": "code",
   "execution_count": 4,
   "metadata": {},
   "outputs": [],
   "source": [
    "import h5py\n",
    "import time\n",
    "import torch\n",
    "import torch.nn as nn\n",
    "import torch.nn.functional as F\n",
    "from torch.utils.data import Dataset, DataLoader\n",
    "import pandas as pd\n",
    "import numpy as np\n",
    "import pyreadr\n",
    "import matplotlib.pyplot as plt\n",
    "from sklearn.manifold import TSNE\n",
    "from livelossplot import PlotLosses\n",
    "from torchsummary import summary\n",
    "from tqdm.notebook import tqdm, trange\n",
    "\n",
    "device = torch.device('cuda')"
   ]
  },
  {
   "cell_type": "code",
   "execution_count": 5,
   "metadata": {},
   "outputs": [],
   "source": [
    "from joblib import dump, load\n",
    "from sklearn import metrics\n",
    "from sklearn.model_selection import train_test_split, GroupShuffleSplit\n",
    "from sklearn.preprocessing import StandardScaler, LabelEncoder"
   ]
  },
  {
   "cell_type": "code",
   "execution_count": 3,
   "metadata": {},
   "outputs": [],
   "source": [
    "class MyDataset(torch.utils.data.Dataset):\n",
    "    '''\n",
    "    Class to load the dataset\n",
    "    '''\n",
    "    def __init__(self, w, c, s, m, y):\n",
    "        self.w = w\n",
    "        self.c = c\n",
    "        self.s = s\n",
    "        self.m = m\n",
    "        self.y = y\n",
    "            \n",
    "    def __len__(self):\n",
    "        return len(self.y)\n",
    "\n",
    "    def __getitem__(self, idx):\n",
    "            \n",
    "        ww = torch.tensor(self.w[idx], dtype=torch.long, device = device)\n",
    "        cc = torch.tensor(self.c[idx], dtype=torch.long, device = device)\n",
    "        ss = torch.tensor(self.s[idx], dtype=torch.long, device = device)\n",
    "        mm = torch.tensor(self.m[idx], dtype=torch.float, device = device)\n",
    "        yy = torch.tensor(self.y[idx], dtype=torch.float, device = device)\n",
    "        \n",
    "        return (ww, cc, ss, mm, yy)"
   ]
  },
  {
   "cell_type": "code",
   "execution_count": 4,
   "metadata": {},
   "outputs": [],
   "source": [
    "class MyNet(nn.Module):\n",
    "\n",
    "    def __init__(self, w_layers, c_layers, s_layers, pred_layers):\n",
    "\n",
    "        super().__init__()\n",
    "\n",
    "                \n",
    "        # Weaher variables\n",
    "        w_layers_list = nn.ModuleList()\n",
    "        for i, o, d in w_layers:\n",
    "            w_layer = nn.Sequential(\n",
    "                nn.Embedding(i, o),\n",
    "                nn.Dropout(d)\n",
    "            )\n",
    "            w_layers_list.append(w_layer)\n",
    "        self.w_layers = nn.Sequential(*w_layers_list)\n",
    "\n",
    "        # Cell variables\n",
    "        c_layers_list = nn.ModuleList()\n",
    "        for i, o, d in c_layers:\n",
    "            c_layer = nn.Sequential(\n",
    "                nn.Embedding(i, o),\n",
    "                nn.Dropout(d)\n",
    "            )\n",
    "            c_layers_list.append(c_layer)\n",
    "        self.c_layers = nn.Sequential(*c_layers_list)\n",
    "\n",
    "                \n",
    "        # Soil variables\n",
    "        s_layers_list = nn.ModuleList()\n",
    "        for i, o, d in s_layers:\n",
    "            s_layer = nn.Sequential(\n",
    "                nn.Embedding(i, o),\n",
    "                nn.Dropout(d)\n",
    "            )\n",
    "            s_layers_list.append(s_layer)\n",
    "        self.s_layers = nn.Sequential(*s_layers_list)\n",
    "        \n",
    "        \n",
    "        # Management variables\n",
    "        pred_layers_list = nn.ModuleList()\n",
    "        for i, o, d in pred_layers:\n",
    "            pred_layer = nn.Sequential(\n",
    "                nn.Linear(i, o),\n",
    "                nn.ReLU(),\n",
    "                nn.BatchNorm1d(o),\n",
    "                nn.Dropout(d)\n",
    "            )\n",
    "            pred_layers_list.append(pred_layer)\n",
    "        pred_layers_list.append(nn.Linear(o, 1))\n",
    "        self.pred_layers = nn.Sequential(*pred_layers_list)\n",
    "        \n",
    "   \n",
    "    def forward(self, Ws, Cs, Ss, Ms):\n",
    "\n",
    "        Ws = Ws.view(Ws.shape[0], -1)\n",
    "        Cs = Cs.view(Cs.shape[0], -1)\n",
    "        Ss = Ss.view(Ss.shape[0], -1)\n",
    "        Ms = Ms.view(Ms.shape[0], -1)\n",
    "        \n",
    "        W_feat = self.w_layers(Ws.long()).view(Ws.shape[0], -1)\n",
    "        C_feat = self.c_layers(Cs.long()).view(Cs.shape[0], -1)\n",
    "        S_feat = self.s_layers(Ss.long()).view(Ss.shape[0], -1)\n",
    "        \n",
    "        all_feats = torch.cat([W_feat, C_feat, S_feat, Ms], dim = 1)\n",
    "        pred = self.pred_layers(all_feats)\n",
    "        return (pred)\n"
   ]
  },
  {
   "cell_type": "code",
   "execution_count": 5,
   "metadata": {},
   "outputs": [],
   "source": [
    "ydf = pd.read_hdf('/home/rodrigo7/Documents/APSIMDL/yield.h5', key = 'ydf')"
   ]
  },
  {
   "cell_type": "code",
   "execution_count": 6,
   "metadata": {},
   "outputs": [],
   "source": [
    "# data_file = '/home/rodrigo7/Documents/APSIMDL/train.h5'\n",
    "# hdf5_file = h5py.File(data_file, mode='r')\n",
    "# weather_df = hdf5_file.get('weather')\n",
    "# print(weather.shape)"
   ]
  },
  {
   "cell_type": "code",
   "execution_count": 7,
   "metadata": {},
   "outputs": [
    {
     "name": "stdout",
     "output_type": "stream",
     "text": [
      "(3119, 121)\n"
     ]
    }
   ],
   "source": [
    "data_file = '/home/rodrigo7/Documents/APSIMDL/train.h5'\n",
    "hdf5_file = h5py.File(data_file, mode='r')\n",
    "soil_df = hdf5_file.get('soils')\n",
    "soil_df = np.array(soil_df).reshape(soil_df.shape[0], -1)\n",
    "print(soil_df.shape)"
   ]
  },
  {
   "cell_type": "code",
   "execution_count": 8,
   "metadata": {},
   "outputs": [
    {
     "name": "stdout",
     "output_type": "stream",
     "text": [
      "----------------------------------------------------------------\n",
      "        Layer (type)               Output Shape         Param #\n",
      "================================================================\n",
      "         Embedding-1                [-1, 1, 50]       1,530,000\n",
      "           Dropout-2                [-1, 1, 50]               0\n",
      "         Embedding-3                [-1, 1, 50]          61,200\n",
      "           Dropout-4                [-1, 1, 50]               0\n",
      "         Embedding-5                [-1, 1, 50]         155,950\n",
      "           Dropout-6                [-1, 1, 50]               0\n",
      "            Linear-7                   [-1, 32]           4,896\n",
      "              ReLU-8                   [-1, 32]               0\n",
      "       BatchNorm1d-9                   [-1, 32]              64\n",
      "          Dropout-10                   [-1, 32]               0\n",
      "           Linear-11                   [-1, 16]             528\n",
      "             ReLU-12                   [-1, 16]               0\n",
      "      BatchNorm1d-13                   [-1, 16]              32\n",
      "          Dropout-14                   [-1, 16]               0\n",
      "           Linear-15                    [-1, 8]             136\n",
      "             ReLU-16                    [-1, 8]               0\n",
      "      BatchNorm1d-17                    [-1, 8]              16\n",
      "          Dropout-18                    [-1, 8]               0\n",
      "           Linear-19                    [-1, 4]              36\n",
      "             ReLU-20                    [-1, 4]               0\n",
      "      BatchNorm1d-21                    [-1, 4]               8\n",
      "          Dropout-22                    [-1, 4]               0\n",
      "           Linear-23                    [-1, 1]               5\n",
      "================================================================\n",
      "Total params: 1,752,871\n",
      "Trainable params: 1,752,871\n",
      "Non-trainable params: 0\n",
      "----------------------------------------------------------------\n",
      "Input size (MB): 0.00\n",
      "Forward/backward pass size (MB): 0.00\n",
      "Params size (MB): 6.69\n",
      "Estimated Total Size (MB): 6.69\n",
      "----------------------------------------------------------------\n"
     ]
    }
   ],
   "source": [
    "d = 0.1\n",
    "w_layers = [(ydf['W'].nunique(), 50, d)]\n",
    "c_layers = [(ydf['C'].nunique(), 50, d)]\n",
    "s_layers = [(ydf['S'].nunique(), 50, d)]\n",
    "pred_layers = [[152,32,d],[32,16,d],[16,8,d], [8,4,d]]\n",
    "\n",
    "model = MyNet(w_layers, c_layers, s_layers, pred_layers)\n",
    "model = model.to(device)\n",
    "# model.load_state_dict(torch.load('../data/model_v0.pth', map_location=device))\n",
    "summary(model,  input_size=[(1,1), (1,1), (1,1), (2,1)])\n"
   ]
  },
  {
   "cell_type": "code",
   "execution_count": 9,
   "metadata": {},
   "outputs": [
    {
     "name": "stdout",
     "output_type": "stream",
     "text": [
      "(13528350, 1)\n"
     ]
    }
   ],
   "source": [
    "Y_data = ydf.Yld.values.reshape(-1,1)\n",
    "sc = StandardScaler()\n",
    "Y_std = sc.fit(Y_data)\n",
    "Y = Y_std.transform(Y_data)\n",
    "dump(Y_std, '../data/Y_std.bin', compress=True)\n",
    "print(Y.shape)"
   ]
  },
  {
   "cell_type": "code",
   "execution_count": 10,
   "metadata": {},
   "outputs": [
    {
     "name": "stdout",
     "output_type": "stream",
     "text": [
      "(13528350, 1)\n"
     ]
    }
   ],
   "source": [
    "N_data = ydf.N.values.reshape(-1,1)\n",
    "sc = StandardScaler()\n",
    "N_std = sc.fit(N_data)\n",
    "N = N_std.transform(N_data)\n",
    "dump(N_std, '../data/N_std.bin', compress=True)\n",
    "print(N.shape)"
   ]
  },
  {
   "cell_type": "code",
   "execution_count": 11,
   "metadata": {},
   "outputs": [],
   "source": [
    "W = ydf.W.values.reshape(-1,1)\n",
    "C = ydf.C.values.reshape(-1,1)\n",
    "S = ydf.S.values.reshape(-1,1)\n",
    "M = np.stack([N.reshape(-1), ydf.M.values], 1)"
   ]
  },
  {
   "cell_type": "code",
   "execution_count": 12,
   "metadata": {},
   "outputs": [
    {
     "data": {
      "text/plain": [
       "((1354122,), (140778,))"
      ]
     },
     "execution_count": 12,
     "metadata": {},
     "output_type": "execute_result"
    }
   ],
   "source": [
    "gss = GroupShuffleSplit(n_splits=1, test_size=0.01, train_size= 0.1, random_state=123456)\n",
    "xidx = np.arange(len(W))\n",
    "train_idx, val_idx = next(gss.split(xidx, groups=W))\n",
    "train_idx.shape, val_idx.shape"
   ]
  },
  {
   "cell_type": "code",
   "execution_count": 13,
   "metadata": {},
   "outputs": [
    {
     "name": "stdout",
     "output_type": "stream",
     "text": [
      "1355\n"
     ]
    }
   ],
   "source": [
    "batch_size = 1000\n",
    "\n",
    "\n",
    "pred_dataset = MyDataset(W, C, S, M, Y)\n",
    "train_dataset = MyDataset(W[train_idx], C[train_idx], S[train_idx], M[train_idx], Y[train_idx])\n",
    "val_dataset = MyDataset(W[val_idx], C[val_idx], S[val_idx], M[val_idx], Y[val_idx])\n",
    "\n",
    "\n",
    "pred_loader = torch.utils.data.DataLoader(pred_dataset, batch_size=batch_size, drop_last=False, shuffle=False)\n",
    "train_loader = torch.utils.data.DataLoader(train_dataset, batch_size=batch_size, drop_last=False, shuffle=True)\n",
    "val_loader = torch.utils.data.DataLoader(val_dataset, batch_size=batch_size, drop_last=False, shuffle=True)\n",
    "\n",
    "data = iter(train_loader).next()\n",
    "print(len(train_loader))\n",
    "\n"
   ]
  },
  {
   "cell_type": "code",
   "execution_count": 14,
   "metadata": {},
   "outputs": [],
   "source": [
    "criterion = nn.MSELoss()\n",
    "optimizer = torch.optim.Adam(model.parameters(), lr=0.01)"
   ]
  },
  {
   "cell_type": "code",
   "execution_count": 15,
   "metadata": {},
   "outputs": [
    {
     "data": {
      "image/png": "[encoded data removed]",
      "text/plain": [
       "<Figure size 864x576 with 1 Axes>"
      ]
     },
     "metadata": {
      "needs_background": "light"
     },
     "output_type": "display_data"
    },
    {
     "name": "stdout",
     "output_type": "stream",
     "text": [
      "log loss:\n",
      "training   (min:    0.053, max:    0.205, cur:    0.053)\n",
      "validation (min:    0.835, max:    0.950, cur:    0.860)\n",
      "[0:28] loss: 0.053 time:185.71\n"
     ]
    },
    {
     "data": {
      "application/vnd.jupyter.widget-view+json": {
       "model_id": "1680379915864be6a1ef4e79cf637025",
       "version_major": 2,
       "version_minor": 0
      },
      "text/plain": [
       "HBox(children=(FloatProgress(value=0.0, max=1355.0), HTML(value='')))"
      ]
     },
     "metadata": {},
     "output_type": "display_data"
    },
    {
     "ename": "KeyboardInterrupt",
     "evalue": "",
     "output_type": "error",
     "traceback": [
      "\u001b[0;31m---------------------------------------------------------------------------\u001b[0m",
      "\u001b[0;31mKeyboardInterrupt\u001b[0m                         Traceback (most recent call last)",
      "\u001b[0;32m<ipython-input-15-4d8518d74582>\u001b[0m in \u001b[0;36m<module>\u001b[0;34m\u001b[0m\n\u001b[1;32m      9\u001b[0m \u001b[0;34m\u001b[0m\u001b[0m\n\u001b[1;32m     10\u001b[0m     \u001b[0mmodel\u001b[0m\u001b[0;34m.\u001b[0m\u001b[0mtrain\u001b[0m\u001b[0;34m(\u001b[0m\u001b[0;34m)\u001b[0m\u001b[0;34m\u001b[0m\u001b[0;34m\u001b[0m\u001b[0m\n\u001b[0;32m---> 11\u001b[0;31m     \u001b[0;32mfor\u001b[0m \u001b[0mi\u001b[0m\u001b[0;34m,\u001b[0m \u001b[0;34m(\u001b[0m\u001b[0mWs\u001b[0m\u001b[0;34m,\u001b[0m \u001b[0mCs\u001b[0m\u001b[0;34m,\u001b[0m \u001b[0mSs\u001b[0m\u001b[0;34m,\u001b[0m \u001b[0mMs\u001b[0m\u001b[0;34m,\u001b[0m \u001b[0mYs\u001b[0m\u001b[0;34m)\u001b[0m \u001b[0;32min\u001b[0m \u001b[0menumerate\u001b[0m\u001b[0;34m(\u001b[0m\u001b[0mtqdm\u001b[0m\u001b[0;34m(\u001b[0m\u001b[0mtrain_loader\u001b[0m\u001b[0;34m)\u001b[0m\u001b[0;34m)\u001b[0m\u001b[0;34m:\u001b[0m\u001b[0;34m\u001b[0m\u001b[0;34m\u001b[0m\u001b[0m\n\u001b[0m\u001b[1;32m     12\u001b[0m \u001b[0;34m\u001b[0m\u001b[0m\n\u001b[1;32m     13\u001b[0m         \u001b[0;31m# Limpa os gradientes\u001b[0m\u001b[0;34m\u001b[0m\u001b[0;34m\u001b[0m\u001b[0;34m\u001b[0m\u001b[0m\n",
      "\u001b[0;32m~/.conda/envs/ANN/lib/python3.6/site-packages/tqdm/notebook.py\u001b[0m in \u001b[0;36m__iter__\u001b[0;34m(self, *args, **kwargs)\u001b[0m\n\u001b[1;32m    215\u001b[0m     \u001b[0;32mdef\u001b[0m \u001b[0m__iter__\u001b[0m\u001b[0;34m(\u001b[0m\u001b[0mself\u001b[0m\u001b[0;34m,\u001b[0m \u001b[0;34m*\u001b[0m\u001b[0margs\u001b[0m\u001b[0;34m,\u001b[0m \u001b[0;34m**\u001b[0m\u001b[0mkwargs\u001b[0m\u001b[0;34m)\u001b[0m\u001b[0;34m:\u001b[0m\u001b[0;34m\u001b[0m\u001b[0;34m\u001b[0m\u001b[0m\n\u001b[1;32m    216\u001b[0m         \u001b[0;32mtry\u001b[0m\u001b[0;34m:\u001b[0m\u001b[0;34m\u001b[0m\u001b[0;34m\u001b[0m\u001b[0m\n\u001b[0;32m--> 217\u001b[0;31m             \u001b[0;32mfor\u001b[0m \u001b[0mobj\u001b[0m \u001b[0;32min\u001b[0m \u001b[0msuper\u001b[0m\u001b[0;34m(\u001b[0m\u001b[0mtqdm_notebook\u001b[0m\u001b[0;34m,\u001b[0m \u001b[0mself\u001b[0m\u001b[0;34m)\u001b[0m\u001b[0;34m.\u001b[0m\u001b[0m__iter__\u001b[0m\u001b[0;34m(\u001b[0m\u001b[0;34m*\u001b[0m\u001b[0margs\u001b[0m\u001b[0;34m,\u001b[0m \u001b[0;34m**\u001b[0m\u001b[0mkwargs\u001b[0m\u001b[0;34m)\u001b[0m\u001b[0;34m:\u001b[0m\u001b[0;34m\u001b[0m\u001b[0;34m\u001b[0m\u001b[0m\n\u001b[0m\u001b[1;32m    218\u001b[0m                 \u001b[0;31m# return super(tqdm...) will not catch exception\u001b[0m\u001b[0;34m\u001b[0m\u001b[0;34m\u001b[0m\u001b[0;34m\u001b[0m\u001b[0m\n\u001b[1;32m    219\u001b[0m                 \u001b[0;32myield\u001b[0m \u001b[0mobj\u001b[0m\u001b[0;34m\u001b[0m\u001b[0;34m\u001b[0m\u001b[0m\n",
      "\u001b[0;32m~/.conda/envs/ANN/lib/python3.6/site-packages/tqdm/std.py\u001b[0m in \u001b[0;36m__iter__\u001b[0;34m(self)\u001b[0m\n\u001b[1;32m   1102\u001b[0m                 fp_write=getattr(self.fp, 'write', sys.stderr.write))\n\u001b[1;32m   1103\u001b[0m \u001b[0;34m\u001b[0m\u001b[0m\n\u001b[0;32m-> 1104\u001b[0;31m         \u001b[0;32mfor\u001b[0m \u001b[0mobj\u001b[0m \u001b[0;32min\u001b[0m \u001b[0miterable\u001b[0m\u001b[0;34m:\u001b[0m\u001b[0;34m\u001b[0m\u001b[0;34m\u001b[0m\u001b[0m\n\u001b[0m\u001b[1;32m   1105\u001b[0m             \u001b[0;32myield\u001b[0m \u001b[0mobj\u001b[0m\u001b[0;34m\u001b[0m\u001b[0;34m\u001b[0m\u001b[0m\n\u001b[1;32m   1106\u001b[0m             \u001b[0;31m# Update and possibly print the progressbar.\u001b[0m\u001b[0;34m\u001b[0m\u001b[0;34m\u001b[0m\u001b[0;34m\u001b[0m\u001b[0m\n",
      "\u001b[0;32m~/.conda/envs/ANN/lib/python3.6/site-packages/torch/utils/data/dataloader.py\u001b[0m in \u001b[0;36m__next__\u001b[0;34m(self)\u001b[0m\n\u001b[1;32m    558\u001b[0m         \u001b[0;32mif\u001b[0m \u001b[0mself\u001b[0m\u001b[0;34m.\u001b[0m\u001b[0mnum_workers\u001b[0m \u001b[0;34m==\u001b[0m \u001b[0;36m0\u001b[0m\u001b[0;34m:\u001b[0m  \u001b[0;31m# same-process loading\u001b[0m\u001b[0;34m\u001b[0m\u001b[0;34m\u001b[0m\u001b[0m\n\u001b[1;32m    559\u001b[0m             \u001b[0mindices\u001b[0m \u001b[0;34m=\u001b[0m \u001b[0mnext\u001b[0m\u001b[0;34m(\u001b[0m\u001b[0mself\u001b[0m\u001b[0;34m.\u001b[0m\u001b[0msample_iter\u001b[0m\u001b[0;34m)\u001b[0m  \u001b[0;31m# may raise StopIteration\u001b[0m\u001b[0;34m\u001b[0m\u001b[0;34m\u001b[0m\u001b[0m\n\u001b[0;32m--> 560\u001b[0;31m             \u001b[0mbatch\u001b[0m \u001b[0;34m=\u001b[0m \u001b[0mself\u001b[0m\u001b[0;34m.\u001b[0m\u001b[0mcollate_fn\u001b[0m\u001b[0;34m(\u001b[0m\u001b[0;34m[\u001b[0m\u001b[0mself\u001b[0m\u001b[0;34m.\u001b[0m\u001b[0mdataset\u001b[0m\u001b[0;34m[\u001b[0m\u001b[0mi\u001b[0m\u001b[0;34m]\u001b[0m \u001b[0;32mfor\u001b[0m \u001b[0mi\u001b[0m \u001b[0;32min\u001b[0m \u001b[0mindices\u001b[0m\u001b[0;34m]\u001b[0m\u001b[0;34m)\u001b[0m\u001b[0;34m\u001b[0m\u001b[0;34m\u001b[0m\u001b[0m\n\u001b[0m\u001b[1;32m    561\u001b[0m             \u001b[0;32mif\u001b[0m \u001b[0mself\u001b[0m\u001b[0;34m.\u001b[0m\u001b[0mpin_memory\u001b[0m\u001b[0;34m:\u001b[0m\u001b[0;34m\u001b[0m\u001b[0;34m\u001b[0m\u001b[0m\n\u001b[1;32m    562\u001b[0m                 \u001b[0mbatch\u001b[0m \u001b[0;34m=\u001b[0m \u001b[0m_utils\u001b[0m\u001b[0;34m.\u001b[0m\u001b[0mpin_memory\u001b[0m\u001b[0;34m.\u001b[0m\u001b[0mpin_memory_batch\u001b[0m\u001b[0;34m(\u001b[0m\u001b[0mbatch\u001b[0m\u001b[0;34m)\u001b[0m\u001b[0;34m\u001b[0m\u001b[0;34m\u001b[0m\u001b[0m\n",
      "\u001b[0;32m~/.conda/envs/ANN/lib/python3.6/site-packages/torch/utils/data/dataloader.py\u001b[0m in \u001b[0;36m<listcomp>\u001b[0;34m(.0)\u001b[0m\n\u001b[1;32m    558\u001b[0m         \u001b[0;32mif\u001b[0m \u001b[0mself\u001b[0m\u001b[0;34m.\u001b[0m\u001b[0mnum_workers\u001b[0m \u001b[0;34m==\u001b[0m \u001b[0;36m0\u001b[0m\u001b[0;34m:\u001b[0m  \u001b[0;31m# same-process loading\u001b[0m\u001b[0;34m\u001b[0m\u001b[0;34m\u001b[0m\u001b[0m\n\u001b[1;32m    559\u001b[0m             \u001b[0mindices\u001b[0m \u001b[0;34m=\u001b[0m \u001b[0mnext\u001b[0m\u001b[0;34m(\u001b[0m\u001b[0mself\u001b[0m\u001b[0;34m.\u001b[0m\u001b[0msample_iter\u001b[0m\u001b[0;34m)\u001b[0m  \u001b[0;31m# may raise StopIteration\u001b[0m\u001b[0;34m\u001b[0m\u001b[0;34m\u001b[0m\u001b[0m\n\u001b[0;32m--> 560\u001b[0;31m             \u001b[0mbatch\u001b[0m \u001b[0;34m=\u001b[0m \u001b[0mself\u001b[0m\u001b[0;34m.\u001b[0m\u001b[0mcollate_fn\u001b[0m\u001b[0;34m(\u001b[0m\u001b[0;34m[\u001b[0m\u001b[0mself\u001b[0m\u001b[0;34m.\u001b[0m\u001b[0mdataset\u001b[0m\u001b[0;34m[\u001b[0m\u001b[0mi\u001b[0m\u001b[0;34m]\u001b[0m \u001b[0;32mfor\u001b[0m \u001b[0mi\u001b[0m \u001b[0;32min\u001b[0m \u001b[0mindices\u001b[0m\u001b[0;34m]\u001b[0m\u001b[0;34m)\u001b[0m\u001b[0;34m\u001b[0m\u001b[0;34m\u001b[0m\u001b[0m\n\u001b[0m\u001b[1;32m    561\u001b[0m             \u001b[0;32mif\u001b[0m \u001b[0mself\u001b[0m\u001b[0;34m.\u001b[0m\u001b[0mpin_memory\u001b[0m\u001b[0;34m:\u001b[0m\u001b[0;34m\u001b[0m\u001b[0;34m\u001b[0m\u001b[0m\n\u001b[1;32m    562\u001b[0m                 \u001b[0mbatch\u001b[0m \u001b[0;34m=\u001b[0m \u001b[0m_utils\u001b[0m\u001b[0;34m.\u001b[0m\u001b[0mpin_memory\u001b[0m\u001b[0;34m.\u001b[0m\u001b[0mpin_memory_batch\u001b[0m\u001b[0;34m(\u001b[0m\u001b[0mbatch\u001b[0m\u001b[0;34m)\u001b[0m\u001b[0;34m\u001b[0m\u001b[0;34m\u001b[0m\u001b[0m\n",
      "\u001b[0;32m<ipython-input-3-e6ce4b9dd69c>\u001b[0m in \u001b[0;36m__getitem__\u001b[0;34m(self, idx)\u001b[0m\n\u001b[1;32m     16\u001b[0m \u001b[0;34m\u001b[0m\u001b[0m\n\u001b[1;32m     17\u001b[0m         \u001b[0mww\u001b[0m \u001b[0;34m=\u001b[0m \u001b[0mtorch\u001b[0m\u001b[0;34m.\u001b[0m\u001b[0mtensor\u001b[0m\u001b[0;34m(\u001b[0m\u001b[0mself\u001b[0m\u001b[0;34m.\u001b[0m\u001b[0mw\u001b[0m\u001b[0;34m[\u001b[0m\u001b[0midx\u001b[0m\u001b[0;34m]\u001b[0m\u001b[0;34m,\u001b[0m \u001b[0mdtype\u001b[0m\u001b[0;34m=\u001b[0m\u001b[0mtorch\u001b[0m\u001b[0;34m.\u001b[0m\u001b[0mlong\u001b[0m\u001b[0;34m,\u001b[0m \u001b[0mdevice\u001b[0m \u001b[0;34m=\u001b[0m \u001b[0mdevice\u001b[0m\u001b[0;34m)\u001b[0m\u001b[0;34m\u001b[0m\u001b[0;34m\u001b[0m\u001b[0m\n\u001b[0;32m---> 18\u001b[0;31m         \u001b[0mcc\u001b[0m \u001b[0;34m=\u001b[0m \u001b[0mtorch\u001b[0m\u001b[0;34m.\u001b[0m\u001b[0mtensor\u001b[0m\u001b[0;34m(\u001b[0m\u001b[0mself\u001b[0m\u001b[0;34m.\u001b[0m\u001b[0mc\u001b[0m\u001b[0;34m[\u001b[0m\u001b[0midx\u001b[0m\u001b[0;34m]\u001b[0m\u001b[0;34m,\u001b[0m \u001b[0mdtype\u001b[0m\u001b[0;34m=\u001b[0m\u001b[0mtorch\u001b[0m\u001b[0;34m.\u001b[0m\u001b[0mlong\u001b[0m\u001b[0;34m,\u001b[0m \u001b[0mdevice\u001b[0m \u001b[0;34m=\u001b[0m \u001b[0mdevice\u001b[0m\u001b[0;34m)\u001b[0m\u001b[0;34m\u001b[0m\u001b[0;34m\u001b[0m\u001b[0m\n\u001b[0m\u001b[1;32m     19\u001b[0m         \u001b[0mss\u001b[0m \u001b[0;34m=\u001b[0m \u001b[0mtorch\u001b[0m\u001b[0;34m.\u001b[0m\u001b[0mtensor\u001b[0m\u001b[0;34m(\u001b[0m\u001b[0mself\u001b[0m\u001b[0;34m.\u001b[0m\u001b[0ms\u001b[0m\u001b[0;34m[\u001b[0m\u001b[0midx\u001b[0m\u001b[0;34m]\u001b[0m\u001b[0;34m,\u001b[0m \u001b[0mdtype\u001b[0m\u001b[0;34m=\u001b[0m\u001b[0mtorch\u001b[0m\u001b[0;34m.\u001b[0m\u001b[0mlong\u001b[0m\u001b[0;34m,\u001b[0m \u001b[0mdevice\u001b[0m \u001b[0;34m=\u001b[0m \u001b[0mdevice\u001b[0m\u001b[0;34m)\u001b[0m\u001b[0;34m\u001b[0m\u001b[0;34m\u001b[0m\u001b[0m\n\u001b[1;32m     20\u001b[0m         \u001b[0mmm\u001b[0m \u001b[0;34m=\u001b[0m \u001b[0mtorch\u001b[0m\u001b[0;34m.\u001b[0m\u001b[0mtensor\u001b[0m\u001b[0;34m(\u001b[0m\u001b[0mself\u001b[0m\u001b[0;34m.\u001b[0m\u001b[0mm\u001b[0m\u001b[0;34m[\u001b[0m\u001b[0midx\u001b[0m\u001b[0;34m]\u001b[0m\u001b[0;34m,\u001b[0m \u001b[0mdtype\u001b[0m\u001b[0;34m=\u001b[0m\u001b[0mtorch\u001b[0m\u001b[0;34m.\u001b[0m\u001b[0mfloat\u001b[0m\u001b[0;34m,\u001b[0m \u001b[0mdevice\u001b[0m \u001b[0;34m=\u001b[0m \u001b[0mdevice\u001b[0m\u001b[0;34m)\u001b[0m\u001b[0;34m\u001b[0m\u001b[0;34m\u001b[0m\u001b[0m\n",
      "\u001b[0;31mKeyboardInterrupt\u001b[0m: "
     ]
    }
   ],
   "source": [
    "min_loss = 1\n",
    "bad_epochs = 0\n",
    "liveloss = PlotLosses()\n",
    "num_epochs = 150 # Define o número de épocas para realizar o treinamento \n",
    "for epoch in range(num_epochs):\n",
    "    start_time = time.time()\n",
    "    epoch_loss = []\n",
    "    val_loss = []\n",
    "    \n",
    "    model.train()\n",
    "    for i, (Ws, Cs, Ss, Ms, Ys) in enumerate(tqdm(train_loader)):\n",
    "        \n",
    "        # Limpa os gradientes\n",
    "        optimizer.zero_grad()\n",
    "    \n",
    "        # Obtem o output\n",
    "        outputs = model(Ws, Cs, Ss, Ms)\n",
    "\n",
    "        # Caulcula a perda pela loss function\n",
    "        loss = criterion(outputs, Ys)\n",
    "\n",
    "        # Obtem os gradientes\n",
    "        loss.backward()\n",
    "\n",
    "        # Atualiza os parâmetros\n",
    "        optimizer.step()\n",
    "        epoch_loss.append(loss.data.item())\n",
    "        \n",
    "    model.eval()\n",
    "    for i, (Ws, Cs, Ss, Ms, Ys) in enumerate(tqdm(val_loader)):\n",
    "        with torch.no_grad():\n",
    "          # Obtem o output\n",
    "          outputs = model(Ws, Cs, Ss, Ms)\n",
    "\n",
    "        # Caulcula a perda pela loss function (MSE)\n",
    "        loss = criterion(outputs, Ys)\n",
    "\n",
    "        val_loss.append(loss.data.item())\n",
    "        \n",
    "    epoch_loss = np.array(epoch_loss).mean()\n",
    "    val_loss = np.array(val_loss).mean()\n",
    "    time_taken = time.time() - start_time\n",
    "    \n",
    "    if val_loss < min_loss:\n",
    "        # Nome da pasta com o arquivo .pth salvando os pesos do modelo treinado\n",
    "        model_file_name = '../data/model_v0.pth'\n",
    "        torch.save(model.state_dict(), model_file_name)\n",
    "        bad_epochs = 0\n",
    "    else:\n",
    "        bad_epochs += 1\n",
    "    \n",
    "    if bad_epochs > 50:\n",
    "        break\n",
    "\n",
    "    liveloss.update({\n",
    "        'log loss': epoch_loss,\n",
    "        'val_log loss': val_loss\n",
    "    })\n",
    "    liveloss.draw() #Apresenta o gráfico log loss\n",
    "    print('[%d:%d] loss: %.3f time:%.2f' % (bad_epochs, epoch, epoch_loss, time_taken))\n"
   ]
  },
  {
   "cell_type": "code",
   "execution_count": null,
   "metadata": {},
   "outputs": [],
   "source": [
    "model.load_state_dict(torch.load('../data/model_v0.pth', map_location=device))\n",
    "print('Model OK')"
   ]
  },
  {
   "cell_type": "code",
   "execution_count": null,
   "metadata": {},
   "outputs": [],
   "source": [
    "# Inicia o tempo para contagem\n",
    "start_time = time.time()\n",
    "\n",
    "# Realiza a predição dos dados a partir do modelo treinado - Dados de validação\n",
    "model.eval()\n",
    "obs = []\n",
    "preds = []\n",
    "for i, (Ws, Cs, Ss, Ms, Ys) in enumerate(val_loader):\n",
    "    obs.append(Ys.cpu().data.numpy())\n",
    "    with torch.no_grad():\n",
    "        pred = model(Ws, Cs, Ss, Ms)\n",
    "    preds.append(pred.cpu().data.numpy())\n",
    "obs = np.concatenate(obs)\n",
    "preds = np.concatenate(preds)\n",
    "\n",
    "# Faz a diferença para calcular o tempo           \n",
    "time_taken = time.time() - start_time\n",
    "# Apresenta o valor do tempo\n",
    "print('time:%.2f' % (time_taken))"
   ]
  },
  {
   "cell_type": "code",
   "execution_count": null,
   "metadata": {},
   "outputs": [],
   "source": [
    "x = Y_std.inverse_transform(preds.reshape(-1))\n",
    "y = Y_std.inverse_transform(obs.reshape(-1))\n",
    "\n",
    "ax = plt.axes()\n",
    "ax.set_aspect('equal', 'datalim')\n",
    "\n",
    "plt.scatter(x, y, alpha=0.5)\n",
    "plt.xlabel('Predicted')\n",
    "plt.ylabel('Observed')\n",
    "plt.plot([y.min(), y.max()], [y.min(), y.max()], 'k-', color = 'r')\n",
    "print(np.round(np.corrcoef(x, y, rowvar=False)[1,0],3))\n",
    "plt.show()"
   ]
  },
  {
   "cell_type": "code",
   "execution_count": null,
   "metadata": {},
   "outputs": [],
   "source": []
  }
 ],
 "metadata": {
  "kernelspec": {
   "display_name": "ANN",
   "language": "python",
   "name": "ann"
  },
  "language_info": {
   "codemirror_mode": {
    "name": "ipython",
    "version": 3
   },
   "file_extension": ".py",
   "mimetype": "text/x-python",
   "name": "python",
   "nbconvert_exporter": "python",
   "pygments_lexer": "ipython3",
   "version": "3.6.7"
  },
  "varInspector": {
   "cols": {
    "lenName": 16,
    "lenType": 16,
    "lenVar": 40
   },
   "kernels_config": {
    "python": {
     "delete_cmd_postfix": "",
     "delete_cmd_prefix": "del ",
     "library": "var_list.py",
     "varRefreshCmd": "print(var_dic_list())"
    },
    "r": {
     "delete_cmd_postfix": ") ",
     "delete_cmd_prefix": "rm(",
     "library": "var_list.r",
     "varRefreshCmd": "cat(var_dic_list()) "
    }
   },
   "types_to_exclude": [
    "module",
    "function",
    "builtin_function_or_method",
    "instance",
    "_Feature"
   ],
   "window_display": false
  }
 },
 "nbformat": 4,
 "nbformat_minor": 2
}
