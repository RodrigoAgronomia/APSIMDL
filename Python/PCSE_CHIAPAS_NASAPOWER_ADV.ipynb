{
 "cells": [
  {
   "cell_type": "code",
   "execution_count": 22,
   "metadata": {},
   "outputs": [],
   "source": [
    "import os\n",
    "import pcse\n",
    "import yaml\n",
    "import h5py\n",
    "import numpy as np\n",
    "import pandas as pd\n",
    "import geopandas as gpd\n",
    "import datetime as dt\n",
    "from tqdm.notebook import tqdm, trange\n",
    "import matplotlib.pyplot as plt\n",
    "from pcse.models import Wofost71_PP, Wofost71_WLP_FD\n",
    "from pcse.base import ParameterProvider\n",
    "from pcse.db import NASAPowerWeatherDataProvider\n",
    "from pcse import fileinput as fi\n",
    "from pcse.util import WOFOST71SiteDataProvider"
   ]
  },
  {
   "cell_type": "code",
   "execution_count": 23,
   "metadata": {},
   "outputs": [],
   "source": [
    "agro_yaml = \"\"\"\n",
    "Version: 1.0\n",
    "AgroManagement:\n",
    "- {sim_start_date}:\n",
    "    CropCalendar:\n",
    "        crop_name: maize\n",
    "        variety_name: Maize_VanHeemst_1988\n",
    "        crop_start_type: sowing\n",
    "        crop_start_date: {crop_start_date}\n",
    "        crop_end_type: earliest\n",
    "        crop_end_date: {crop_end_date}\n",
    "        max_duration: 300\n",
    "    TimedEvents: \n",
    "    -   event_signal: apply_n\n",
    "        name:  Nitrogen application table\n",
    "        comment: All nitrogen amounts in g N m-2\n",
    "        events_table:\n",
    "        - {fert_date}: {{amount: {n_rate}, recovery: 0.7}}\n",
    "    StateEvents: null\n",
    "\"\"\""
   ]
  },
  {
   "cell_type": "code",
   "execution_count": 24,
   "metadata": {},
   "outputs": [],
   "source": [
    "pts = gpd.read_file('../../CIAT/data/BEM_2019_Chiapas_Final_Clean.gpkg')\n",
    "pts['SIM'] = ['CH{0:05d}'.format(i + 1) for i in range(len(pts))]\n",
    "pts = pts.set_index('SIM')\n",
    "pts['lon'] = pts.centroid.x\n",
    "pts['lat'] = pts.centroid.y\n",
    "pts['ref_date'] = pd.to_datetime(pts.fecha_de_siembra)\n",
    "pts['nrate'] = pts.nitrogen/10\n"
   ]
  },
  {
   "cell_type": "code",
   "execution_count": 25,
   "metadata": {},
   "outputs": [],
   "source": [
    "soildata = {'SMFCF': 0.2, 'SMW': 0.1, 'CRAIRC': 0.1, 'KSUB': 20.0,\n",
    "            'RDMSOL': 200.0, 'K0': 100.0, 'SOPE': 10.0, 'SM0': 0.4}\n",
    "\n",
    "cropdata = fi.YAMLCropDataProvider()\n",
    "cropdata.set_active_crop('maize', 'Maize_VanHeemst_1988')\n",
    "\n",
    "sitedata = WOFOST71SiteDataProvider(WAV=100, CO2=360)\n",
    "\n",
    "parameters = ParameterProvider(cropdata=cropdata, soildata=soildata, sitedata=sitedata)"
   ]
  },
  {
   "cell_type": "code",
   "execution_count": 26,
   "metadata": {},
   "outputs": [],
   "source": [
    "# for i in trange(len(pts)):\n",
    "#     if np.isnan(pts.index_right.values[i]):\n",
    "#         continue\n",
    "\n",
    "#     wfile = '/home/rodrigo7/Apsim_test/MASAGRO/PCSE/{}_npff.csv'.format(pts.site.values[i])\n",
    "#     wdp = fi.CSVWeatherDataProvider(wfile)\n",
    "\n",
    "#     # get new start date\n",
    "#     crop_start_date = pts.ref_date.dt.date.values[i]\n",
    "#     sim_start_date = crop_start_date - dt.timedelta(days = 90)\n",
    "#     crop_end_date = crop_start_date + dt.timedelta(days = 210)\n",
    "#     fert_date = crop_start_date + dt.timedelta(days = 30)\n",
    "#     n_rate = 1\n",
    "\n",
    "#     # update agromanagement with new start date and load it with yaml.load\n",
    "#     tmp = agro_yaml.format(sim_start_date = sim_start_date,\n",
    "#                            crop_start_date = crop_start_date,\n",
    "#                            crop_end_date = crop_end_date,\n",
    "#                            fert_date = fert_date,\n",
    "#                            n_rate = n_rate)\n",
    "#     agromanagement = yaml.load(tmp, yaml.FullLoader)\n",
    "\n",
    "#     try:\n",
    "#         wofsim = Wofost71_WLP_FD(parameters, wdp, agromanagement)\n",
    "#         wofsim.run_till_terminate()\n",
    "#         print('Finished {}'.format(pts.site.values[i]))\n",
    "#         output = wofsim.get_output()\n",
    "#         df = pd.DataFrame(output).set_index(\"day\")\n",
    "#         df.to_hdf('../data/PSCE_npf.h5', key = pts.site.values[i])\n",
    "#         summary_output = wofsim.get_summary_output()\n",
    "#         msg = \"Reached maturity at {DOM} with total biomass {TAGP:0.2f} kg/ha and a yield of {TWSO:0.2f} kg/ha.\"\n",
    "#         print(msg.format(**summary_output[0]))\n",
    "#     except pcse.exceptions.WeatherDataProviderError as e:\n",
    "#         print('Problem with {}'.format(pts.site.values[i]))\n",
    "#         print(e)\n",
    "#         print(crop_start_date)\n",
    "\n"
   ]
  },
  {
   "cell_type": "code",
   "execution_count": 55,
   "metadata": {},
   "outputs": [],
   "source": [
    "def run(site):\n",
    "        wfile = f'/home/rodrigo7/Apsim_test/MASAGRO/PCSE/{site}_npff.csv'\n",
    "        wdp = fi.CSVWeatherDataProvider(wfile)\n",
    "\n",
    "        # get new start date\n",
    "        crop_start_date = pts.ref_date.dt.date.loc[site]\n",
    "        sim_start_date = crop_start_date - dt.timedelta(days = 90)\n",
    "        crop_end_date = crop_start_date + dt.timedelta(days = 210)\n",
    "        fert_date = crop_start_date + dt.timedelta(days = 30)\n",
    "        n_rate = 1\n",
    "\n",
    "        # update agromanagement with new start date and load it with yaml.load\n",
    "        tmp = agro_yaml.format(sim_start_date = sim_start_date,\n",
    "                               crop_start_date = crop_start_date,\n",
    "                               crop_end_date = crop_end_date,\n",
    "                               fert_date = fert_date,\n",
    "                               n_rate = n_rate)\n",
    "        agromanagement = yaml.load(tmp, yaml.FullLoader)\n",
    "\n",
    "        wofsim = Wofost71_WLP_FD(parameters, wdp, agromanagement)\n",
    "        wofsim.run_till_terminate()\n",
    "        output = wofsim.get_output()\n",
    "        df = pd.DataFrame(output).set_index(\"day\")\n",
    "        df['SIM'] = site\n",
    "        return(df)\n"
   ]
  },
  {
   "cell_type": "code",
   "execution_count": 59,
   "metadata": {},
   "outputs": [],
   "source": [
    "site = sites[85]\n",
    "# run(site)\n",
    "\n",
    "# wfile = f'/home/rodrigo7/Apsim_test/MASAGRO/PCSE/{site}_npff.csv'\n",
    "# w = pd.read_csv(wfile, skiprows=13)\n",
    "# w"
   ]
  },
  {
   "cell_type": "code",
   "execution_count": 72,
   "metadata": {},
   "outputs": [],
   "source": [
    "# sites = pts.index.values\n",
    "# output = []\n",
    "# with tqdm(total=len(sites)) as pbar:\n",
    "#     for i, s in enumerate(sites):\n",
    "#         output.append(run(s))\n",
    "#         pbar.update()"
   ]
  },
  {
   "cell_type": "code",
   "execution_count": null,
   "metadata": {},
   "outputs": [],
   "source": []
  },
  {
   "cell_type": "code",
   "execution_count": 60,
   "metadata": {},
   "outputs": [
    {
     "data": {
      "application/vnd.jupyter.widget-view+json": {
       "model_id": "3925393be4a544f985f1cbbe573eacbb",
       "version_major": 2,
       "version_minor": 0
      },
      "text/plain": [
       "HBox(children=(FloatProgress(value=0.0, max=4594.0), HTML(value='')))"
      ]
     },
     "metadata": {},
     "output_type": "display_data"
    },
    {
     "name": "stdout",
     "output_type": "stream",
     "text": [
      "\n"
     ]
    }
   ],
   "source": [
    "from multiprocessing import Pool\n",
    "\n",
    "sites = pts.index.values\n",
    "output = []\n",
    "if __name__ == '__main__':\n",
    "    with Pool(processes=30) as p:\n",
    "        with tqdm(total=len(pts)) as pbar:\n",
    "            for i, df in enumerate(p.imap_unordered(run, sites)):\n",
    "                output.append(df)\n",
    "                pbar.update()\n"
   ]
  },
  {
   "cell_type": "code",
   "execution_count": 69,
   "metadata": {},
   "outputs": [],
   "source": [
    "output_df = pd.DataFrame([o.iloc[-1] for o in output])"
   ]
  },
  {
   "cell_type": "code",
   "execution_count": 73,
   "metadata": {},
   "outputs": [],
   "source": [
    "df.to_hdf('../data/PSCE_npff.h5', key = 'SIM')"
   ]
  },
  {
   "cell_type": "code",
   "execution_count": 71,
   "metadata": {},
   "outputs": [
    {
     "data": {
      "text/plain": [
       "<matplotlib.axes._subplots.AxesSubplot at 0x7fa86ade1210>"
      ]
     },
     "execution_count": 71,
     "metadata": {},
     "output_type": "execute_result"
    },
    {
     "data": {
      "image/png": "[encoded data removed]",
      "text/plain": [
       "<Figure size 432x288 with 1 Axes>"
      ]
     },
     "metadata": {
      "needs_background": "light"
     },
     "output_type": "display_data"
    }
   ],
   "source": [
    "output_df.TWSO.hist()"
   ]
  },
  {
   "cell_type": "code",
   "execution_count": 61,
   "metadata": {},
   "outputs": [],
   "source": [
    "# for k, v in output.items():\n",
    "#     if v is not None:\n",
    "#         print(k)\n",
    "#         df = pd.DataFrame(v).set_index(\"day\")\n",
    "#         df.to_hdf('../data/PSCE_npff.h5', key = k)"
   ]
  },
  {
   "cell_type": "code",
   "execution_count": null,
   "metadata": {},
   "outputs": [],
   "source": []
  }
 ],
 "metadata": {
  "kernelspec": {
   "display_name": "Python [conda env:GEOANN]",
   "language": "python",
   "name": "conda-env-GEOANN-py"
  },
  "language_info": {
   "codemirror_mode": {
    "name": "ipython",
    "version": 3
   },
   "file_extension": ".py",
   "mimetype": "text/x-python",
   "name": "python",
   "nbconvert_exporter": "python",
   "pygments_lexer": "ipython3",
   "version": "3.7.6"
  }
 },
 "nbformat": 4,
 "nbformat_minor": 4
}
