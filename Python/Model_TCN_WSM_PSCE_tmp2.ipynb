{
 "cells": [
  {
   "cell_type": "code",
   "execution_count": 1,
   "metadata": {},
   "outputs": [],
   "source": [
    "import h5py\n",
    "import time\n",
    "import torch\n",
    "import pyreadr\n",
    "import numpy as np\n",
    "import pandas as pd\n",
    "import torch.nn as nn\n",
    "import matplotlib.pyplot as plt\n",
    "import torch.nn.functional as F\n",
    "from pandas.api.types import CategoricalDtype\n",
    "from torch.utils.data import Dataset, DataLoader\n",
    "from torch.nn.utils import weight_norm\n",
    "from sklearn.manifold import TSNE\n",
    "from livelossplot import PlotLosses\n",
    "from pytorch_model_summary import summary\n",
    "from tqdm.notebook import tqdm, trange\n",
    "\n",
    "device = torch.device('cuda')"
   ]
  },
  {
   "cell_type": "code",
   "execution_count": 2,
   "metadata": {},
   "outputs": [],
   "source": [
    "from joblib import dump, load\n",
    "from sklearn import metrics\n",
    "from sklearn.model_selection import train_test_split, GroupShuffleSplit\n",
    "from sklearn.preprocessing import StandardScaler, LabelEncoder"
   ]
  },
  {
   "cell_type": "code",
   "execution_count": 3,
   "metadata": {},
   "outputs": [],
   "source": [
    "class MyDataset(torch.utils.data.Dataset):\n",
    "    '''\n",
    "    Class to load the dataset\n",
    "    '''\n",
    "    def __init__(self, w, y, idx):\n",
    "        self.w = w\n",
    "        self.y = y\n",
    "        self.idx = idx\n",
    "            \n",
    "    def __len__(self):\n",
    "        return len(self.idx)\n",
    "\n",
    "    def __getitem__(self, idx):\n",
    "            \n",
    "        idx = self.idx[idx]\n",
    "        \n",
    "        ww = torch.tensor(self.w[idx], dtype=torch.float, device = device)\n",
    "        yy = torch.tensor(self.y[idx], dtype=torch.float, device = device)\n",
    "        \n",
    "        return (ww, yy)"
   ]
  },
  {
   "cell_type": "code",
   "execution_count": 4,
   "metadata": {},
   "outputs": [],
   "source": [
    "class GatedConv1d(nn.Module):\n",
    "    def __init__(self, in_channels, out_channels, kernel_size, stride=1, padding=0, \n",
    "                 dilation=1, groups=1, bias=True):\n",
    "        super(GatedConv1d, self).__init__()\n",
    "        self.dilation = dilation\n",
    "        self.conv_f = nn.Conv1d(in_channels, out_channels, kernel_size, \n",
    "                                stride=stride, padding=padding, dilation=dilation, \n",
    "                                groups=groups, bias=bias)\n",
    "        self.conv_g = nn.Conv1d(in_channels, out_channels, kernel_size, \n",
    "                                stride=stride, padding=padding, dilation=dilation, \n",
    "                                groups=groups, bias=bias)\n",
    "        self.sig = nn.Sigmoid()\n",
    "\n",
    "    def forward(self, x):\n",
    "        padding = self.dilation - (x.shape[-1] + self.dilation - 1) % self.dilation\n",
    "        x = nn.functional.pad(x, (self.dilation, 0))\n",
    "        return torch.mul(self.conv_f(x), self.sig(self.conv_g(x)))\n",
    "\n",
    "class GatedResidualBlock(nn.Module):\n",
    "    def __init__(self, in_channels, out_channels, kernel_size, output_width, stride=1, padding=0, \n",
    "                 dilation=1, groups=1, bias=True):\n",
    "        super(GatedResidualBlock, self).__init__()\n",
    "        self.output_width = output_width\n",
    "        self.gatedconv = GatedConv1d(in_channels, out_channels, kernel_size, \n",
    "                                     stride=stride, padding=padding, \n",
    "                                     dilation=dilation, groups=groups, bias=bias)\n",
    "        self.conv_1 = nn.Conv1d(out_channels, out_channels, 1, stride=1, padding=0,\n",
    "                                dilation=1, groups=1, bias=bias)\n",
    "\n",
    "    def forward(self, x):\n",
    "        skip = self.conv_1(self.gatedconv(x))\n",
    "        residual = torch.add(skip, x)\n",
    "\n",
    "        skip_cut = skip.shape[-1] - self.output_width\n",
    "        skip = skip.narrow(-1, skip_cut, self.output_width)\n",
    "        return residual, skip\n"
   ]
  },
  {
   "cell_type": "code",
   "execution_count": 5,
   "metadata": {},
   "outputs": [],
   "source": [
    "# class Model(nn.Module):\n",
    "#     def __init__(self, num_channels = 7, output_width = 300, num_classes = 1,num_blocks = 1, num_layers = 7, num_hidden=128, kernel_size=3):\n",
    "#         super(Model, self).__init__()\n",
    "#         self.num_channels = num_channels\n",
    "#         self.num_classes = num_classes\n",
    "#         self.num_blocks = num_blocks\n",
    "#         self.num_layers = num_layers\n",
    "#         self.num_hidden = num_hidden\n",
    "#         self.kernel_size = kernel_size\n",
    "#         self.output_width = output_width\n",
    "#         self.receptive_field = 1 + (kernel_size - 1) * num_blocks * sum([2**k for k in range(num_layers)])\n",
    "#         print('receptive_field: {}'.format(self.receptive_field))\n",
    "        \n",
    "#         hs = []\n",
    "#         batch_norms = []\n",
    "\n",
    "#         # add gated convs\n",
    "#         first = True\n",
    "        \n",
    "#         for b in range(num_blocks):\n",
    "#             for i in range(num_layers):\n",
    "#                 rate = 2**i\n",
    "#                 if first:\n",
    "#                     h = GatedResidualBlock(num_channels, num_hidden, kernel_size, dilation=rate)\n",
    "#                     first = False\n",
    "#                 else:\n",
    "#                     h = GatedResidualBlock(num_hidden, num_hidden, kernel_size, dilation=rate)\n",
    "#                 h.name = 'b{}-l{}'.format(b, i)\n",
    "\n",
    "#                 hs.append(h)\n",
    "#                 batch_norms.append(nn.BatchNorm1d(num_hidden))\n",
    "\n",
    "#         self.hs = nn.ModuleList(hs)\n",
    "#         self.batch_norms = nn.ModuleList(batch_norms)\n",
    "#         self.relu_1 = nn.ReLU()\n",
    "#         self.conv_1_1 = nn.Conv1d(num_hidden, num_hidden, 1)\n",
    "#         self.relu_2 = nn.ReLU()\n",
    "#         self.conv_1_2 = nn.Conv1d(num_hidden, num_hidden, 1)\n",
    "#         self.h_class = nn.Conv1d(num_hidden, num_classes, 2)\n",
    "\n",
    "#     def forward(self, x):\n",
    "#         skips = []\n",
    "#         for layer, batch_norm in zip(self.hs, self.batch_norms):\n",
    "#             x, skip = layer(x)\n",
    "#             x = batch_norm(x)\n",
    "#             skips.append(skip)\n",
    "\n",
    "#         x = reduce((lambda a, b : torch.add(a, b)), skips)\n",
    "#         x = self.relu_1(self.conv_1_1(x))\n",
    "#         x = self.relu_2(self.conv_1_2(x))\n",
    "#         return self.h_class(x)\n"
   ]
  },
  {
   "cell_type": "code",
   "execution_count": 6,
   "metadata": {},
   "outputs": [],
   "source": [
    "class Model(nn.Module):\n",
    "    def __init__(self, \n",
    "                 num_time_samples = 300 + 256,\n",
    "                 num_channels=7,\n",
    "                 num_classes=1,\n",
    "                 num_blocks=2,\n",
    "                 num_layers=7,\n",
    "                 num_hidden=128,\n",
    "                 kernel_size=2):\n",
    "        super(Model, self).__init__()\n",
    "        self.num_time_samples = num_time_samples\n",
    "        self.num_channels = num_channels\n",
    "        self.num_classes = num_classes\n",
    "        self.num_blocks = num_blocks\n",
    "        self.num_layers = num_layers\n",
    "        self.num_hidden = num_hidden\n",
    "        self.kernel_size = kernel_size\n",
    "        self.receptive_field = 1 + (kernel_size - 1) * \\\n",
    "                               num_blocks * sum([2**k for k in range(num_layers)])\n",
    "        self.output_width = num_time_samples - self.receptive_field + 1\n",
    "        print('receptive_field: {}'.format(self.receptive_field))\n",
    "        print('Output width: {}'.format(self.output_width))\n",
    "        \n",
    "\n",
    "        hs = []\n",
    "        batch_norms = []\n",
    "\n",
    "        # add gated convs\n",
    "        first = True\n",
    "        for b in range(num_blocks):\n",
    "            for i in range(num_layers):\n",
    "                rate = 2**i\n",
    "                if first:\n",
    "                    h = GatedResidualBlock(num_channels, num_hidden, kernel_size, \n",
    "                                           self.output_width, dilation=rate)\n",
    "                    first = False\n",
    "                else:\n",
    "                    h = GatedResidualBlock(num_hidden, num_hidden, kernel_size,\n",
    "                                           self.output_width, dilation=rate)\n",
    "                h.name = 'b{}-l{}'.format(b, i)\n",
    "\n",
    "                hs.append(h)\n",
    "                batch_norms.append(nn.BatchNorm1d(num_hidden))\n",
    "\n",
    "        self.hs = nn.ModuleList(hs)\n",
    "        self.batch_norms = nn.ModuleList(batch_norms)\n",
    "        self.relu_1 = nn.ReLU()\n",
    "        self.conv_1_1 = nn.Conv1d(num_hidden, num_hidden, 1)\n",
    "        self.relu_2 = nn.ReLU()\n",
    "        self.conv_1_2 = nn.Conv1d(num_hidden, num_hidden, 1)\n",
    "        self.h_class = nn.Conv1d(num_hidden, num_classes, 2)\n",
    "\n",
    "    def forward(self, x):\n",
    "        skips = []\n",
    "        for layer, batch_norm in zip(self.hs, self.batch_norms):\n",
    "            x, skip = layer(x)\n",
    "            x = batch_norm(x)\n",
    "            skips.append(skip)\n",
    "\n",
    "        x = reduce((lambda a, b : torch.add(a, b)), skips)\n",
    "        x = self.relu_1(self.conv_1_1(x))\n",
    "        x = self.relu_2(self.conv_1_2(x))\n",
    "        return self.h_class(x)\n"
   ]
  },
  {
   "cell_type": "code",
   "execution_count": 7,
   "metadata": {},
   "outputs": [],
   "source": [
    "class Chomp1d(nn.Module):\n",
    "    def __init__(self, chomp_size):\n",
    "        super(Chomp1d, self).__init__()\n",
    "        self.chomp_size = chomp_size\n",
    "\n",
    "    def forward(self, x):\n",
    "        return x[:, :, :-self.chomp_size].contiguous()\n",
    "\n",
    "\n",
    "class TemporalBlock(nn.Module):\n",
    "    def __init__(self, n_inputs, n_outputs, kernel_size, stride, dilation, padding, dropout=0.2):\n",
    "        super(TemporalBlock, self).__init__()\n",
    "        self.conv1 = weight_norm(nn.Conv1d(n_inputs, n_outputs, kernel_size,\n",
    "                                           stride=stride, padding=padding, dilation=dilation))\n",
    "        self.chomp1 = Chomp1d(padding)\n",
    "        self.relu1 = nn.ReLU()\n",
    "        self.dropout1 = nn.Dropout(dropout)\n",
    "\n",
    "        self.conv2 = weight_norm(nn.Conv1d(n_outputs, n_outputs, kernel_size,\n",
    "                                           stride=stride, padding=padding, dilation=dilation))\n",
    "        self.chomp2 = Chomp1d(padding)\n",
    "        self.relu2 = nn.ReLU()\n",
    "        self.dropout2 = nn.Dropout(dropout)\n",
    "\n",
    "        self.net = nn.Sequential(self.conv1, self.chomp1, self.relu1, self.dropout1,\n",
    "                                 self.conv2, self.chomp2, self.relu2, self.dropout2)\n",
    "        self.downsample = nn.Conv1d(n_inputs, n_outputs, 1) if n_inputs != n_outputs else None\n",
    "        self.relu = nn.ReLU()\n",
    "        self.init_weights()\n",
    "\n",
    "    def init_weights(self):\n",
    "        self.conv1.weight.data.normal_(0, 0.01)\n",
    "        self.conv2.weight.data.normal_(0, 0.01)\n",
    "        if self.downsample is not None:\n",
    "            self.downsample.weight.data.normal_(0, 0.01)\n",
    "\n",
    "    def forward(self, x):\n",
    "        out = self.net(x)\n",
    "        res = x if self.downsample is None else self.downsample(x)\n",
    "        return self.relu(out + res)\n",
    "\n",
    "\n",
    "class TemporalConvNet(nn.Module):\n",
    "    def __init__(self, num_inputs, num_channels, kernel_size=7, dropout=0.2):\n",
    "        super(TemporalConvNet, self).__init__()\n",
    "        layers = nn.ModuleList()\n",
    "        num_levels = len(num_channels)\n",
    "        for i in range(num_levels):\n",
    "            dilation_size = 2 ** i\n",
    "            in_channels = num_inputs if i == 0 else num_channels[i-1]\n",
    "            out_channels = num_channels[i]\n",
    "            tbl = TemporalBlock(in_channels, out_channels, kernel_size, stride=1, dilation=dilation_size,\n",
    "                                     padding=(kernel_size-1) * dilation_size, dropout=dropout)\n",
    "            layers.append(tbl)\n",
    "        self.network = nn.Sequential(*layers)\n",
    "\n",
    "    def forward(self, x):\n",
    "        return self.network(x)"
   ]
  },
  {
   "cell_type": "code",
   "execution_count": 8,
   "metadata": {},
   "outputs": [],
   "source": [
    "class MyNet(nn.Module):\n",
    "\n",
    "    def __init__(self, w_layers, d):\n",
    "\n",
    "        super().__init__()\n",
    "        self.tcn = TemporalConvNet(w_layers[0], w_layers[1:], kernel_size=2, dropout=d)\n",
    "   \n",
    "    def forward(self, Ws):\n",
    "        pred = self.tcn(Ws)\n",
    "        return pred\n",
    "        return (torch.cumsum(torch.tanh(pred), -1))\n"
   ]
  },
  {
   "cell_type": "code",
   "execution_count": 9,
   "metadata": {},
   "outputs": [],
   "source": [
    "w_file = '../data/w_dm.npy'\n",
    "y_file = '../data/y_dm.npy'"
   ]
  },
  {
   "cell_type": "code",
   "execution_count": 10,
   "metadata": {},
   "outputs": [],
   "source": [
    "w = np.load(w_file)\n",
    "ws = np.array([[[5e4,50,50,5,10,100]]])\n",
    "w = w / ws\n",
    "W = np.moveaxis(w, 1, 2)\n",
    "wd = np.linspace(-0.9,2.1,300)[None,None]\n",
    "wd = wd.repeat(len(W), 0)\n",
    "W = np.concatenate([W, wd], 1)"
   ]
  },
  {
   "cell_type": "code",
   "execution_count": 11,
   "metadata": {},
   "outputs": [],
   "source": [
    "y = np.load(y_file)[:,None]/2e4"
   ]
  },
  {
   "cell_type": "code",
   "execution_count": 12,
   "metadata": {},
   "outputs": [],
   "source": [
    "idx_max = y[:,0,-1].argmax()\n",
    "idx_min = y[:,0,-1].argmin()"
   ]
  },
  {
   "cell_type": "code",
   "execution_count": 13,
   "metadata": {},
   "outputs": [
    {
     "name": "stdout",
     "output_type": "stream",
     "text": [
      "(2763,) (300,)\n"
     ]
    }
   ],
   "source": [
    "pred_idx = np.arange(len(y))\n",
    "val_idx = np.random.choice(pred_idx, size=300, replace=False)\n",
    "train_idx = np.setdiff1d(pred_idx, val_idx)\n",
    "print(train_idx.shape, val_idx.shape)"
   ]
  },
  {
   "cell_type": "code",
   "execution_count": 14,
   "metadata": {},
   "outputs": [
    {
     "name": "stdout",
     "output_type": "stream",
     "text": [
      "28\n"
     ]
    }
   ],
   "source": [
    "batch_size = 100\n",
    "\n",
    "pred_dataset = MyDataset(W, y, pred_idx)\n",
    "train_dataset = MyDataset(W, y, train_idx)\n",
    "val_dataset = MyDataset(W, y, val_idx)\n",
    "\n",
    "\n",
    "pred_loader = DataLoader(pred_dataset, batch_size=batch_size, shuffle=False)\n",
    "train_loader = DataLoader(train_dataset, batch_size=batch_size, shuffle=True)\n",
    "val_loader = DataLoader(val_dataset, batch_size=batch_size, shuffle=True)\n",
    "\n",
    "data_inputs = iter(train_loader).next()\n",
    "print(len(train_loader))\n",
    "\n"
   ]
  },
  {
   "cell_type": "code",
   "execution_count": 15,
   "metadata": {},
   "outputs": [
    {
     "name": "stdout",
     "output_type": "stream",
     "text": [
      "-----------------------------------------------------------------------\n",
      "      Layer (type)        Output Shape         Param #     Tr. Param #\n",
      "=======================================================================\n",
      "   TemporalBlock-1     [100, 128, 300]          53,376          53,376\n",
      "   TemporalBlock-2      [100, 64, 300]          45,376          45,376\n",
      "   TemporalBlock-3      [100, 32, 300]          11,424          11,424\n",
      "   TemporalBlock-4      [100, 32, 300]           6,272           6,272\n",
      "   TemporalBlock-5      [100, 16, 300]           2,896           2,896\n",
      "   TemporalBlock-6      [100, 16, 300]           1,600           1,600\n",
      "   TemporalBlock-7      [100, 16, 300]           1,600           1,600\n",
      "   TemporalBlock-8      [100, 16, 300]           1,600           1,600\n",
      "   TemporalBlock-9       [100, 1, 300]              72              72\n",
      "=======================================================================\n",
      "Total params: 124,216\n",
      "Trainable params: 124,216\n",
      "Non-trainable params: 0\n",
      "-----------------------------------------------------------------------\n"
     ]
    }
   ],
   "source": [
    "d = 0.1\n",
    "w_layers = [7, 128, 64, 32, 32, 16, 16, 16, 16, 1]\n",
    "\n",
    "model = MyNet(w_layers, d)\n",
    "# model = Model()\n",
    "model = model.to(device)\n",
    "\n",
    "model_file_name = '../data/model_tcn.pth'        \n",
    "model_file_name = '../data/model_tcn_v2.pth'\n",
    "# model.load_state_dict(torch.load(model_file_name, map_location=device))\n",
    "model_file_name = '../data/model_tcn_v3.pth'        \n",
    "\n",
    "sm = summary(model, data_inputs[0], print_summary=True,  max_depth=2)"
   ]
  },
  {
   "cell_type": "code",
   "execution_count": 16,
   "metadata": {},
   "outputs": [],
   "source": [
    "criterion = nn.MSELoss()\n",
    "optimizer = torch.optim.Adam(model.parameters(), lr=0.01)"
   ]
  },
  {
   "cell_type": "code",
   "execution_count": 17,
   "metadata": {},
   "outputs": [],
   "source": [
    "min_loss = 10\n",
    "bad_epochs = 0\n",
    "liveloss = PlotLosses()"
   ]
  },
  {
   "cell_type": "code",
   "execution_count": 18,
   "metadata": {},
   "outputs": [
    {
     "data": {
      "image/png": "[encoded data removed]",
      "text/plain": [
       "<Figure size 864x576 with 1 Axes>"
      ]
     },
     "metadata": {
      "needs_background": "light"
     },
     "output_type": "display_data"
    },
    {
     "name": "stdout",
     "output_type": "stream",
     "text": [
      "log loss:\n",
      "training   (min:    0.071, max:    0.072, cur:    0.071)\n",
      "validation (min:    0.072, max:    0.072, cur:    0.072)\n",
      "[50:50] loss: 0.071 time:3.05\n"
     ]
    },
    {
     "data": {
      "application/vnd.jupyter.widget-view+json": {
       "model_id": "432ced1715874dd4be23d431d5bfcde6",
       "version_major": 2,
       "version_minor": 0
      },
      "text/plain": [
       "HBox(children=(FloatProgress(value=0.0, max=28.0), HTML(value='')))"
      ]
     },
     "metadata": {},
     "output_type": "display_data"
    },
    {
     "name": "stdout",
     "output_type": "stream",
     "text": [
      "\n"
     ]
    },
    {
     "data": {
      "application/vnd.jupyter.widget-view+json": {
       "model_id": "251c640fe888482aa6ffe32565989dcb",
       "version_major": 2,
       "version_minor": 0
      },
      "text/plain": [
       "HBox(children=(FloatProgress(value=0.0, max=3.0), HTML(value='')))"
      ]
     },
     "metadata": {},
     "output_type": "display_data"
    },
    {
     "name": "stdout",
     "output_type": "stream",
     "text": [
      "\n"
     ]
    }
   ],
   "source": [
    "for epoch in range(1000):\n",
    "    start_time = time.time()\n",
    "    epoch_loss = []\n",
    "    val_loss = []\n",
    "    \n",
    "    model.train()\n",
    "    for i, (Ws, Ys) in enumerate(tqdm(train_loader)):\n",
    "        \n",
    "        # Limpa os gradientes\n",
    "        optimizer.zero_grad()\n",
    "    \n",
    "        # Obtem o output\n",
    "#         Ws = Ws + 0.01 * torch.rand_like(Ws)\n",
    "        outputs = model(Ws)\n",
    "\n",
    "        # Caulcula a perda pela loss function\n",
    "        loss = criterion(outputs, Ys)\n",
    "        \n",
    "        # Obtem os gradientes\n",
    "        loss.backward()\n",
    "\n",
    "        # Atualiza os parâmetros\n",
    "        optimizer.step()\n",
    "        epoch_loss.append(loss.data.item())\n",
    "        \n",
    "    model.eval()\n",
    "    for i, (Ws, Ys) in enumerate(tqdm(val_loader)):\n",
    "        with torch.no_grad():\n",
    "          # Obtem o output\n",
    "          outputs = model(Ws)\n",
    "\n",
    "        # Caulcula a perda pela loss function (MSE)\n",
    "        loss = criterion(outputs, Ys)\n",
    "\n",
    "        val_loss.append(loss.data.item())\n",
    "        \n",
    "    epoch_loss = np.array(epoch_loss).mean()\n",
    "    val_loss = np.array(val_loss).mean()\n",
    "    time_taken = time.time() - start_time\n",
    "    \n",
    "    if val_loss < min_loss:\n",
    "        # Nome da pasta com o arquivo .pth salvando os pesos do modelo treinado\n",
    "        torch.save(model.state_dict(), model_file_name)\n",
    "        bad_epochs = 0\n",
    "        min_loss = val_loss\n",
    "    else:\n",
    "        bad_epochs += 1\n",
    "    \n",
    "    if bad_epochs > 50:\n",
    "        break\n",
    "\n",
    "    liveloss.update({\n",
    "        'log loss': epoch_loss,\n",
    "        'val_log loss': val_loss\n",
    "    })\n",
    "    liveloss.draw() #Apresenta o gráfico log loss\n",
    "    print('[%d:%d] loss: %.3f time:%.2f' % (bad_epochs, epoch, epoch_loss, time_taken))\n"
   ]
  },
  {
   "cell_type": "code",
   "execution_count": 19,
   "metadata": {},
   "outputs": [
    {
     "name": "stdout",
     "output_type": "stream",
     "text": [
      "Model OK\n"
     ]
    }
   ],
   "source": [
    "model.load_state_dict(torch.load(model_file_name, map_location=device))\n",
    "print('Model OK')"
   ]
  },
  {
   "cell_type": "code",
   "execution_count": 20,
   "metadata": {},
   "outputs": [
    {
     "data": {
      "application/vnd.jupyter.widget-view+json": {
       "model_id": "8d33dcbfab1a4a08857a467450955c07",
       "version_major": 2,
       "version_minor": 0
      },
      "text/plain": [
       "HBox(children=(FloatProgress(value=0.0, max=3.0), HTML(value='')))"
      ]
     },
     "metadata": {},
     "output_type": "display_data"
    },
    {
     "name": "stdout",
     "output_type": "stream",
     "text": [
      "\n",
      "time:0.07\n"
     ]
    }
   ],
   "source": [
    "# Inicia o tempo para contagem\n",
    "start_time = time.time()\n",
    "\n",
    "# Realiza a predição dos dados a partir do modelo treinado - Dados de validação\n",
    "model.eval()\n",
    "obs = []\n",
    "preds = []\n",
    "for i, (Ws, Ys) in enumerate(tqdm(val_loader)):\n",
    "    obs.append(Ys.cpu().data.numpy())\n",
    "    with torch.no_grad():\n",
    "        pred = model(Ws)\n",
    "    preds.append(pred.cpu().data.numpy())\n",
    "obs = np.concatenate(obs)\n",
    "preds = np.concatenate(preds)\n",
    "\n",
    "# Faz a diferença para calcular o tempo           \n",
    "time_taken = time.time() - start_time\n",
    "# Apresenta o valor do tempo\n",
    "print('time:%.2f' % (time_taken))"
   ]
  },
  {
   "cell_type": "code",
   "execution_count": 21,
   "metadata": {},
   "outputs": [
    {
     "data": {
      "text/plain": [
       "[<matplotlib.lines.Line2D at 0x7f12a8cb9910>]"
      ]
     },
     "execution_count": 21,
     "metadata": {},
     "output_type": "execute_result"
    },
    {
     "data": {
      "image/png": "[encoded data removed]",
      "text/plain": [
       "<Figure size 432x288 with 1 Axes>"
      ]
     },
     "metadata": {
      "needs_background": "light"
     },
     "output_type": "display_data"
    }
   ],
   "source": [
    "plt.plot(preds[10,0])"
   ]
  },
  {
   "cell_type": "code",
   "execution_count": null,
   "metadata": {},
   "outputs": [],
   "source": []
  },
  {
   "cell_type": "code",
   "execution_count": 22,
   "metadata": {},
   "outputs": [
    {
     "name": "stdout",
     "output_type": "stream",
     "text": [
      "nan\n"
     ]
    },
    {
     "name": "stderr",
     "output_type": "stream",
     "text": [
      "/opt/anaconda3/envs/GEOANN/lib/python3.7/site-packages/numpy/lib/function_base.py:2534: RuntimeWarning: invalid value encountered in true_divide\n",
      "  c /= stddev[:, None]\n",
      "/opt/anaconda3/envs/GEOANN/lib/python3.7/site-packages/numpy/lib/function_base.py:2535: RuntimeWarning: invalid value encountered in true_divide\n",
      "  c /= stddev[None, :]\n"
     ]
    },
    {
     "data": {
      "image/png": "[encoded data removed]",
      "text/plain": [
       "<Figure size 432x288 with 1 Axes>"
      ]
     },
     "metadata": {
      "needs_background": "light"
     },
     "output_type": "display_data"
    }
   ],
   "source": [
    "x = preds[:,0,-1].reshape(-1) * 2e4\n",
    "y = obs[:,0,-1].reshape(-1) * 2e4\n",
    "\n",
    "ax = plt.axes()\n",
    "ax.set_aspect('equal', 'datalim')\n",
    "\n",
    "plt.scatter(x, y, 0.1, alpha=0.9)\n",
    "plt.xlabel('Predicted')\n",
    "plt.ylabel('Observed')\n",
    "plt.plot([y.min(), y.max()], [y.min(), y.max()], 'k-', color = 'r')\n",
    "print(np.round(np.corrcoef(x, y, rowvar=False)[1,0],3))\n",
    "plt.show()"
   ]
  },
  {
   "cell_type": "code",
   "execution_count": 23,
   "metadata": {},
   "outputs": [],
   "source": [
    "ymin = pred_dataset[idx_min][1][None].cpu().data.numpy()\n",
    "ymax = pred_dataset[idx_max][1][None].cpu().data.numpy()\n",
    "wmax = pred_dataset[idx_min][0][None]\n",
    "wmax.requires_grad = True"
   ]
  },
  {
   "cell_type": "code",
   "execution_count": 24,
   "metadata": {},
   "outputs": [],
   "source": [
    "criterion = nn.MSELoss()\n",
    "optimizer = torch.optim.Adam([wmax], lr=0.01)"
   ]
  },
  {
   "cell_type": "code",
   "execution_count": 25,
   "metadata": {},
   "outputs": [],
   "source": [
    "liveloss = PlotLosses()"
   ]
  },
  {
   "cell_type": "code",
   "execution_count": 26,
   "metadata": {},
   "outputs": [],
   "source": [
    "outputs = model(wmax)"
   ]
  },
  {
   "cell_type": "code",
   "execution_count": 27,
   "metadata": {},
   "outputs": [
    {
     "data": {
      "image/png": "[encoded data removed]",
      "text/plain": [
       "<Figure size 864x576 with 1 Axes>"
      ]
     },
     "metadata": {
      "needs_background": "light"
     },
     "output_type": "display_data"
    },
    {
     "name": "stdout",
     "output_type": "stream",
     "text": [
      "log loss:\n",
      "training   (min:   -0.000, max:   -0.000, cur:   -0.000)\n"
     ]
    }
   ],
   "source": [
    "model.eval()\n",
    "for i in trange(100):\n",
    "\n",
    "    # Limpa os gradientes\n",
    "    optimizer.zero_grad()\n",
    "\n",
    "    # Obtem o output\n",
    "    wmaxx = F.dropout(wmax, 0.5)\n",
    "    outputs = model(wmax)\n",
    "\n",
    "    # Caulcula a perda pela loss function\n",
    "    loss =  -outputs[0,0,-1]\n",
    "    \n",
    "    # Obtem os gradientes\n",
    "    loss.backward()\n",
    "\n",
    "    # Atualiza os parâmetros\n",
    "    optimizer.step()\n",
    "    \n",
    "    liveloss.update({\n",
    "        'log loss': loss.item()\n",
    "    })\n",
    "liveloss.draw()"
   ]
  },
  {
   "cell_type": "code",
   "execution_count": 28,
   "metadata": {},
   "outputs": [],
   "source": [
    "pred = outputs.cpu().data.numpy()"
   ]
  },
  {
   "cell_type": "code",
   "execution_count": 29,
   "metadata": {},
   "outputs": [
    {
     "data": {
      "text/plain": [
       "[<matplotlib.lines.Line2D at 0x7f12de7ee390>]"
      ]
     },
     "execution_count": 29,
     "metadata": {},
     "output_type": "execute_result"
    },
    {
     "data": {
      "image/png": "[encoded data removed]",
      "text/plain": [
       "<Figure size 432x288 with 1 Axes>"
      ]
     },
     "metadata": {
      "needs_background": "light"
     },
     "output_type": "display_data"
    }
   ],
   "source": [
    "plt.plot(pred[0,0])"
   ]
  },
  {
   "cell_type": "code",
   "execution_count": 30,
   "metadata": {},
   "outputs": [
    {
     "data": {
      "text/plain": [
       "[<matplotlib.lines.Line2D at 0x7f12d02e32d0>]"
      ]
     },
     "execution_count": 30,
     "metadata": {},
     "output_type": "execute_result"
    },
    {
     "data": {
      "image/png": "[encoded data removed]",
      "text/plain": [
       "<Figure size 432x288 with 1 Axes>"
      ]
     },
     "metadata": {
      "needs_background": "light"
     },
     "output_type": "display_data"
    }
   ],
   "source": [
    "plt.plot(ymax[0,0])"
   ]
  },
  {
   "cell_type": "code",
   "execution_count": 31,
   "metadata": {},
   "outputs": [
    {
     "data": {
      "text/plain": [
       "[<matplotlib.lines.Line2D at 0x7f12e03d2e50>]"
      ]
     },
     "execution_count": 31,
     "metadata": {},
     "output_type": "execute_result"
    },
    {
     "data": {
      "image/png": "[encoded data removed]",
      "text/plain": [
       "<Figure size 432x288 with 1 Axes>"
      ]
     },
     "metadata": {
      "needs_background": "light"
     },
     "output_type": "display_data"
    }
   ],
   "source": [
    "plt.plot(ymin[0,0])"
   ]
  },
  {
   "cell_type": "code",
   "execution_count": null,
   "metadata": {},
   "outputs": [],
   "source": []
  }
 ],
 "metadata": {
  "kernelspec": {
   "display_name": "Python [conda env:GEOANN]",
   "language": "python",
   "name": "conda-env-GEOANN-py"
  },
  "language_info": {
   "codemirror_mode": {
    "name": "ipython",
    "version": 3
   },
   "file_extension": ".py",
   "mimetype": "text/x-python",
   "name": "python",
   "nbconvert_exporter": "python",
   "pygments_lexer": "ipython3",
   "version": "3.7.6"
  },
  "varInspector": {
   "cols": {
    "lenName": 16,
    "lenType": 16,
    "lenVar": 40
   },
   "kernels_config": {
    "python": {
     "delete_cmd_postfix": "",
     "delete_cmd_prefix": "del ",
     "library": "var_list.py",
     "varRefreshCmd": "print(var_dic_list())"
    },
    "r": {
     "delete_cmd_postfix": ") ",
     "delete_cmd_prefix": "rm(",
     "library": "var_list.r",
     "varRefreshCmd": "cat(var_dic_list()) "
    }
   },
   "types_to_exclude": [
    "module",
    "function",
    "builtin_function_or_method",
    "instance",
    "_Feature"
   ],
   "window_display": false
  }
 },
 "nbformat": 4,
 "nbformat_minor": 2
}
