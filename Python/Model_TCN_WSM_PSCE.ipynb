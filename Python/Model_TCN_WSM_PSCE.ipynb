{
 "cells": [
  {
   "cell_type": "code",
   "execution_count": 223,
   "metadata": {},
   "outputs": [],
   "source": [
    "import h5py\n",
    "import time\n",
    "import torch\n",
    "import pyreadr\n",
    "import numpy as np\n",
    "import pandas as pd\n",
    "import torch.nn as nn\n",
    "import matplotlib.pyplot as plt\n",
    "import torch.nn.functional as F\n",
    "from pandas.api.types import CategoricalDtype\n",
    "from torch.utils.data import Dataset, DataLoader\n",
    "from torch.nn.utils import weight_norm\n",
    "from sklearn.manifold import TSNE\n",
    "from livelossplot import PlotLosses\n",
    "from pytorch_model_summary import summary\n",
    "from tqdm.notebook import tqdm, trange\n",
    "\n",
    "device = torch.device('cuda')"
   ]
  },
  {
   "cell_type": "code",
   "execution_count": 224,
   "metadata": {},
   "outputs": [],
   "source": [
    "from joblib import dump, load\n",
    "from sklearn import metrics\n",
    "from sklearn.model_selection import train_test_split, GroupShuffleSplit\n",
    "from sklearn.preprocessing import StandardScaler, LabelEncoder"
   ]
  },
  {
   "cell_type": "code",
   "execution_count": 225,
   "metadata": {},
   "outputs": [],
   "source": [
    "class MyDataset(torch.utils.data.Dataset):\n",
    "    '''\n",
    "    Class to load the dataset\n",
    "    '''\n",
    "    def __init__(self, w, y, idx):\n",
    "        self.w = w\n",
    "        self.y = y\n",
    "        self.idx = idx\n",
    "            \n",
    "    def __len__(self):\n",
    "        return len(self.idx)\n",
    "\n",
    "    def __getitem__(self, idx):\n",
    "            \n",
    "        idx = self.idx[idx]\n",
    "        \n",
    "        ww = torch.tensor(self.w[idx], dtype=torch.float, device = device)\n",
    "        yy = torch.tensor(self.y[idx], dtype=torch.float, device = device)\n",
    "        \n",
    "        return (ww, yy)"
   ]
  },
  {
   "cell_type": "code",
   "execution_count": 226,
   "metadata": {},
   "outputs": [],
   "source": [
    "class Chomp1d(nn.Module):\n",
    "    def __init__(self, chomp_size):\n",
    "        super(Chomp1d, self).__init__()\n",
    "        self.chomp_size = chomp_size\n",
    "\n",
    "    def forward(self, x):\n",
    "        return x[:, :, :-self.chomp_size].contiguous()\n",
    "\n",
    "\n",
    "class TemporalBlock(nn.Module):\n",
    "    def __init__(self, n_inputs, n_outputs, kernel_size, stride, dilation, padding, dropout=0.2):\n",
    "        super(TemporalBlock, self).__init__()\n",
    "        self.conv1 = weight_norm(nn.Conv1d(n_inputs, n_outputs, kernel_size,\n",
    "                                           stride=stride, padding=padding, dilation=dilation))\n",
    "        self.chomp1 = Chomp1d(padding)\n",
    "        self.relu1 = nn.ReLU()\n",
    "        self.dropout1 = nn.Dropout(dropout)\n",
    "\n",
    "        self.conv2 = weight_norm(nn.Conv1d(n_outputs, n_outputs, kernel_size,\n",
    "                                           stride=stride, padding=padding, dilation=dilation))\n",
    "        self.chomp2 = Chomp1d(padding)\n",
    "        self.relu2 = nn.ReLU()\n",
    "        self.dropout2 = nn.Dropout(dropout)\n",
    "\n",
    "        self.net = nn.Sequential(self.conv1, self.chomp1, self.relu1, self.dropout1,\n",
    "                                 self.conv2, self.chomp2, self.relu2, self.dropout2)\n",
    "        self.downsample = nn.Conv1d(n_inputs, n_outputs, 1) if n_inputs != n_outputs else None\n",
    "        self.relu = nn.ReLU()\n",
    "        self.init_weights()\n",
    "\n",
    "    def init_weights(self):\n",
    "        self.conv1.weight.data.normal_(0, 0.01)\n",
    "        self.conv2.weight.data.normal_(0, 0.01)\n",
    "        if self.downsample is not None:\n",
    "            self.downsample.weight.data.normal_(0, 0.01)\n",
    "\n",
    "    def forward(self, x):\n",
    "        out = self.net(x)\n",
    "        res = x if self.downsample is None else self.downsample(x)\n",
    "        return self.relu(out + res)\n",
    "\n",
    "\n",
    "class TemporalConvNet(nn.Module):\n",
    "    def __init__(self, num_inputs, num_channels, kernel_size=2, dropout=0.2):\n",
    "        super(TemporalConvNet, self).__init__()\n",
    "        layers = nn.ModuleList()\n",
    "        num_levels = len(num_channels)\n",
    "        for i in range(num_levels):\n",
    "            dilation_size = 2 ** i\n",
    "            in_channels = num_inputs if i == 0 else num_channels[i-1]\n",
    "            out_channels = num_channels[i]\n",
    "            tbl = TemporalBlock(in_channels, out_channels, kernel_size, stride=1, dilation=dilation_size,\n",
    "                                     padding=(kernel_size-1) * dilation_size, dropout=dropout)\n",
    "            layers.append(tbl)\n",
    "        self.network = nn.Sequential(*layers)\n",
    "\n",
    "    def forward(self, x):\n",
    "        pred = self.network(x)\n",
    "        return torch.tanh(pred[:,:,-1])"
   ]
  },
  {
   "cell_type": "code",
   "execution_count": 227,
   "metadata": {},
   "outputs": [],
   "source": [
    "w_file = '../data/w_dm.npy'\n",
    "y_file = '../data/y_dm.npy'"
   ]
  },
  {
   "cell_type": "code",
   "execution_count": 228,
   "metadata": {},
   "outputs": [],
   "source": [
    "w = np.load(w_file)\n",
    "ws = np.array([[[5e4,50,50,5,10,100]]])\n",
    "w = w / ws\n",
    "W = np.moveaxis(w, 1, 2)\n",
    "wd = np.linspace(-0.9,2.1,300)[None,None]\n",
    "wd = wd.repeat(len(W), 0)\n",
    "W = np.concatenate([W, wd], 1)"
   ]
  },
  {
   "cell_type": "code",
   "execution_count": 232,
   "metadata": {},
   "outputs": [],
   "source": [
    "y = np.load(y_file)[:,None,-1]/2e4"
   ]
  },
  {
   "cell_type": "code",
   "execution_count": 234,
   "metadata": {},
   "outputs": [],
   "source": [
    "idx_max = y[:,0].argmax()\n",
    "idx_min = y[:,0].argmin()"
   ]
  },
  {
   "cell_type": "code",
   "execution_count": 235,
   "metadata": {},
   "outputs": [
    {
     "name": "stdout",
     "output_type": "stream",
     "text": [
      "(2763,) (300,)\n"
     ]
    }
   ],
   "source": [
    "pred_idx = np.arange(len(y))\n",
    "val_idx = np.random.choice(pred_idx, size=300, replace=False)\n",
    "train_idx = np.setdiff1d(pred_idx, val_idx)\n",
    "print(train_idx.shape, val_idx.shape)"
   ]
  },
  {
   "cell_type": "code",
   "execution_count": 236,
   "metadata": {},
   "outputs": [
    {
     "name": "stdout",
     "output_type": "stream",
     "text": [
      "3\n"
     ]
    }
   ],
   "source": [
    "batch_size = 1000\n",
    "\n",
    "pred_dataset = MyDataset(W, y, pred_idx)\n",
    "train_dataset = MyDataset(W, y, train_idx)\n",
    "val_dataset = MyDataset(W, y, val_idx)\n",
    "\n",
    "\n",
    "pred_loader = DataLoader(pred_dataset, batch_size=batch_size, shuffle=False)\n",
    "train_loader = DataLoader(train_dataset, batch_size=batch_size, shuffle=True)\n",
    "val_loader = DataLoader(val_dataset, batch_size=batch_size, shuffle=True)\n",
    "\n",
    "data_inputs = iter(train_loader).next()\n",
    "print(len(train_loader))\n",
    "\n"
   ]
  },
  {
   "cell_type": "code",
   "execution_count": 237,
   "metadata": {},
   "outputs": [
    {
     "name": "stdout",
     "output_type": "stream",
     "text": [
      "------------------------------------------------------------------------\n",
      "      Layer (type)         Output Shape         Param #     Tr. Param #\n",
      "========================================================================\n",
      "   TemporalBlock-1     [1000, 128, 300]          36,096          36,096\n",
      "   TemporalBlock-2      [1000, 64, 300]          33,088          33,088\n",
      "   TemporalBlock-3      [1000, 32, 300]           8,352           8,352\n",
      "   TemporalBlock-4      [1000, 32, 300]           4,224           4,224\n",
      "   TemporalBlock-5      [1000, 16, 300]           2,128           2,128\n",
      "   TemporalBlock-6      [1000, 16, 300]           1,088           1,088\n",
      "   TemporalBlock-7      [1000, 16, 300]           1,088           1,088\n",
      "   TemporalBlock-8      [1000, 16, 300]           1,088           1,088\n",
      "   TemporalBlock-9       [1000, 1, 300]              55              55\n",
      "========================================================================\n",
      "Total params: 87,207\n",
      "Trainable params: 87,207\n",
      "Non-trainable params: 0\n",
      "------------------------------------------------------------------------\n"
     ]
    }
   ],
   "source": [
    "d = 0.1\n",
    "n_channels = 7\n",
    "w_layers = [128, 64, 32, 32, 16, 16, 16, 16, 1]\n",
    "\n",
    "model = TemporalConvNet(n_channels, w_layers, dropout=d)\n",
    "model = model.to(device)\n",
    "   \n",
    "    \n",
    "model_file_name = '../data/model_tcn.pth'        \n",
    "model_file_name = '../data/model_tcn_v4.pth'\n",
    "model.load_state_dict(torch.load(model_file_name, map_location=device))\n",
    "model_file_name = '../data/model_tcn_v4s.pth'        \n",
    "\n",
    "sm = summary(model, data_inputs[0], print_summary=True,  max_depth=1)"
   ]
  },
  {
   "cell_type": "code",
   "execution_count": 238,
   "metadata": {},
   "outputs": [],
   "source": [
    "criterion = nn.MSELoss()\n",
    "optimizer = torch.optim.Adam(model.parameters(), lr=0.01)"
   ]
  },
  {
   "cell_type": "code",
   "execution_count": 239,
   "metadata": {},
   "outputs": [],
   "source": [
    "min_loss = 10\n",
    "bad_epochs = 0\n",
    "liveloss = PlotLosses()"
   ]
  },
  {
   "cell_type": "code",
   "execution_count": 240,
   "metadata": {},
   "outputs": [
    {
     "data": {
      "image/png": "[encoded data removed]",
      "text/plain": [
       "<Figure size 864x576 with 1 Axes>"
      ]
     },
     "metadata": {
      "needs_background": "light"
     },
     "output_type": "display_data"
    },
    {
     "name": "stdout",
     "output_type": "stream",
     "text": [
      "log loss:\n",
      "training   (min:    0.001, max:    0.032, cur:    0.002)\n",
      "validation (min:    0.001, max:    0.023, cur:    0.001)\n",
      "[50:153] loss: 0.002 time:2.39\n"
     ]
    },
    {
     "data": {
      "application/vnd.jupyter.widget-view+json": {
       "model_id": "4aac17bda7c2478d83da0e10941d3fc7",
       "version_major": 2,
       "version_minor": 0
      },
      "text/plain": [
       "HBox(children=(FloatProgress(value=0.0, max=3.0), HTML(value='')))"
      ]
     },
     "metadata": {},
     "output_type": "display_data"
    },
    {
     "name": "stdout",
     "output_type": "stream",
     "text": [
      "\n"
     ]
    },
    {
     "data": {
      "application/vnd.jupyter.widget-view+json": {
       "model_id": "867b5e0a9b04463d8a2b2bdc90b9b530",
       "version_major": 2,
       "version_minor": 0
      },
      "text/plain": [
       "HBox(children=(FloatProgress(value=0.0, max=1.0), HTML(value='')))"
      ]
     },
     "metadata": {},
     "output_type": "display_data"
    },
    {
     "name": "stdout",
     "output_type": "stream",
     "text": [
      "\n"
     ]
    }
   ],
   "source": [
    "for epoch in range(1000):\n",
    "    start_time = time.time()\n",
    "    epoch_loss = []\n",
    "    val_loss = []\n",
    "    \n",
    "    model.train()\n",
    "    for i, (Ws, Ys) in enumerate(tqdm(train_loader)):\n",
    "        \n",
    "        # Limpa os gradientes\n",
    "        optimizer.zero_grad()\n",
    "    \n",
    "        # Obtem o output\n",
    "        Ws = Ws + 0.01 * torch.rand_like(Ws)\n",
    "        outputs = model(Ws)\n",
    "\n",
    "        # Caulcula a perda pela loss function\n",
    "        loss = criterion(outputs, Ys)\n",
    "        \n",
    "        # Obtem os gradientes\n",
    "        loss.backward()\n",
    "\n",
    "        # Atualiza os parâmetros\n",
    "        optimizer.step()\n",
    "        epoch_loss.append(loss.data.item())\n",
    "        \n",
    "    model.eval()\n",
    "    for i, (Ws, Ys) in enumerate(tqdm(val_loader)):\n",
    "        with torch.no_grad():\n",
    "          # Obtem o output\n",
    "          outputs = model(Ws)\n",
    "\n",
    "        # Caulcula a perda pela loss function (MSE)\n",
    "        loss = criterion(outputs, Ys)\n",
    "\n",
    "        val_loss.append(loss.data.item())\n",
    "        \n",
    "    epoch_loss = np.array(epoch_loss).mean()\n",
    "    val_loss = np.array(val_loss).mean()\n",
    "    time_taken = time.time() - start_time\n",
    "    \n",
    "    if val_loss < min_loss:\n",
    "        # Nome da pasta com o arquivo .pth salvando os pesos do modelo treinado\n",
    "        torch.save(model.state_dict(), model_file_name)\n",
    "        bad_epochs = 0\n",
    "        min_loss = val_loss\n",
    "    else:\n",
    "        bad_epochs += 1\n",
    "    \n",
    "    if bad_epochs > 50:\n",
    "        break\n",
    "\n",
    "    liveloss.update({\n",
    "        'log loss': epoch_loss,\n",
    "        'val_log loss': val_loss\n",
    "    })\n",
    "    liveloss.draw() #Apresenta o gráfico log loss\n",
    "    print('[%d:%d] loss: %.3f time:%.2f' % (bad_epochs, epoch, epoch_loss, time_taken))\n"
   ]
  },
  {
   "cell_type": "code",
   "execution_count": 241,
   "metadata": {},
   "outputs": [
    {
     "name": "stdout",
     "output_type": "stream",
     "text": [
      "Model OK\n"
     ]
    }
   ],
   "source": [
    "model.load_state_dict(torch.load(model_file_name, map_location=device))\n",
    "print('Model OK')"
   ]
  },
  {
   "cell_type": "code",
   "execution_count": 242,
   "metadata": {},
   "outputs": [
    {
     "data": {
      "application/vnd.jupyter.widget-view+json": {
       "model_id": "2a8b1826949a46f792d4d1353809deb7",
       "version_major": 2,
       "version_minor": 0
      },
      "text/plain": [
       "HBox(children=(FloatProgress(value=0.0, max=1.0), HTML(value='')))"
      ]
     },
     "metadata": {},
     "output_type": "display_data"
    },
    {
     "name": "stdout",
     "output_type": "stream",
     "text": [
      "\n",
      "time:0.09\n"
     ]
    }
   ],
   "source": [
    "# Inicia o tempo para contagem\n",
    "start_time = time.time()\n",
    "\n",
    "# Realiza a predição dos dados a partir do modelo treinado - Dados de validação\n",
    "model.eval()\n",
    "obs = []\n",
    "preds = []\n",
    "for i, (Ws, Ys) in enumerate(tqdm(val_loader)):\n",
    "    obs.append(Ys.cpu().data.numpy())\n",
    "    with torch.no_grad():\n",
    "        pred = model(Ws)\n",
    "    preds.append(pred.cpu().data.numpy())\n",
    "obs = np.concatenate(obs)\n",
    "preds = np.concatenate(preds)\n",
    "\n",
    "# Faz a diferença para calcular o tempo           \n",
    "time_taken = time.time() - start_time\n",
    "# Apresenta o valor do tempo\n",
    "print('time:%.2f' % (time_taken))"
   ]
  },
  {
   "cell_type": "code",
   "execution_count": 243,
   "metadata": {},
   "outputs": [
    {
     "name": "stdout",
     "output_type": "stream",
     "text": [
      "0.947\n"
     ]
    },
    {
     "data": {
      "image/png": "[encoded data removed]",
      "text/plain": [
       "<Figure size 432x288 with 1 Axes>"
      ]
     },
     "metadata": {
      "needs_background": "light"
     },
     "output_type": "display_data"
    }
   ],
   "source": [
    "x = preds.reshape(-1) * 2e4\n",
    "y = obs.reshape(-1) * 2e4\n",
    "\n",
    "ax = plt.axes()\n",
    "ax.set_aspect('equal', 'datalim')\n",
    "\n",
    "plt.scatter(x, y, 0.1, alpha=0.9)\n",
    "plt.xlabel('Predicted')\n",
    "plt.ylabel('Observed')\n",
    "plt.plot([y.min(), y.max()], [y.min(), y.max()], 'k-', color = 'r')\n",
    "print(np.round(np.corrcoef(x, y, rowvar=False)[1,0],3))\n",
    "plt.show()"
   ]
  },
  {
   "cell_type": "code",
   "execution_count": 244,
   "metadata": {},
   "outputs": [],
   "source": [
    "ymin = pred_dataset[idx_min][1][None].cpu().data.numpy()\n",
    "ymax = pred_dataset[idx_max][1][None].cpu().data.numpy()\n",
    "wmax = pred_dataset[idx_max][0][None]\n",
    "wmin = pred_dataset[idx_min][0][None]\n",
    "wmaxo = wmax.clone()\n",
    "wmino = wmin.clone()\n",
    "\n",
    "wmax.requires_grad = True\n",
    "wmin.requires_grad = True"
   ]
  },
  {
   "cell_type": "code",
   "execution_count": 245,
   "metadata": {},
   "outputs": [],
   "source": [
    "ymax_pred = model(wmax).cpu().data.numpy()\n",
    "ymin_pred = model(wmin).cpu().data.numpy()"
   ]
  },
  {
   "cell_type": "code",
   "execution_count": 246,
   "metadata": {},
   "outputs": [],
   "source": [
    "criterion = nn.MSELoss()\n",
    "optimizer = torch.optim.Adam([wmax], lr=0.01)"
   ]
  },
  {
   "cell_type": "code",
   "execution_count": 247,
   "metadata": {},
   "outputs": [],
   "source": [
    "liveloss = PlotLosses()"
   ]
  },
  {
   "cell_type": "code",
   "execution_count": 248,
   "metadata": {},
   "outputs": [
    {
     "data": {
      "image/png": "[encoded data removed]",
      "text/plain": [
       "<Figure size 864x576 with 1 Axes>"
      ]
     },
     "metadata": {
      "needs_background": "light"
     },
     "output_type": "display_data"
    },
    {
     "name": "stdout",
     "output_type": "stream",
     "text": [
      "log loss:\n",
      "training   (min:   -0.009, max:   -0.006, cur:   -0.009)\n"
     ]
    }
   ],
   "source": [
    "model.eval()\n",
    "for i in trange(100):\n",
    "\n",
    "    # Limpa os gradientes\n",
    "    optimizer.zero_grad()\n",
    "\n",
    "    # Obtem o output\n",
    "    outputs = model(wmax)\n",
    "\n",
    "    # Caulcula a perda pela loss function\n",
    "    loss =  -0.01 * outputs.mean()\n",
    "    loss += criterion(wmaxo, wmax)\n",
    "    \n",
    "    # Obtem os gradientes\n",
    "    loss.backward()\n",
    "\n",
    "    # Atualiza os parâmetros\n",
    "    optimizer.step()\n",
    "    \n",
    "    liveloss.update({\n",
    "        'log loss': loss.item()\n",
    "    })\n",
    "liveloss.draw()"
   ]
  },
  {
   "cell_type": "code",
   "execution_count": 249,
   "metadata": {},
   "outputs": [],
   "source": [
    "pred = outputs.cpu().data.numpy()"
   ]
  },
  {
   "cell_type": "code",
   "execution_count": 250,
   "metadata": {},
   "outputs": [],
   "source": [
    "wmaxp = wmax.data.cpu().numpy()\n",
    "wmaxo = wmaxo.data.cpu().numpy()\n"
   ]
  },
  {
   "cell_type": "code",
   "execution_count": 253,
   "metadata": {},
   "outputs": [
    {
     "data": {
      "text/plain": [
       "[<matplotlib.lines.Line2D at 0x7f11cc6ac090>,\n",
       " <matplotlib.lines.Line2D at 0x7f11cc647f10>]"
      ]
     },
     "execution_count": 253,
     "metadata": {},
     "output_type": "execute_result"
    },
    {
     "data": {
      "image/png": "[encoded data removed]",
      "text/plain": [
       "<Figure size 432x288 with 1 Axes>"
      ]
     },
     "metadata": {
      "needs_background": "light"
     },
     "output_type": "display_data"
    }
   ],
   "source": [
    "plt.plot(np.stack([wmaxo[0,-3], wmaxp[0,-3]], 1))"
   ]
  },
  {
   "cell_type": "code",
   "execution_count": null,
   "metadata": {},
   "outputs": [],
   "source": []
  }
 ],
 "metadata": {
  "kernelspec": {
   "display_name": "Python [conda env:GEOANN]",
   "language": "python",
   "name": "conda-env-GEOANN-py"
  },
  "language_info": {
   "codemirror_mode": {
    "name": "ipython",
    "version": 3
   },
   "file_extension": ".py",
   "mimetype": "text/x-python",
   "name": "python",
   "nbconvert_exporter": "python",
   "pygments_lexer": "ipython3",
   "version": "3.7.6"
  },
  "varInspector": {
   "cols": {
    "lenName": 16,
    "lenType": 16,
    "lenVar": 40
   },
   "kernels_config": {
    "python": {
     "delete_cmd_postfix": "",
     "delete_cmd_prefix": "del ",
     "library": "var_list.py",
     "varRefreshCmd": "print(var_dic_list())"
    },
    "r": {
     "delete_cmd_postfix": ") ",
     "delete_cmd_prefix": "rm(",
     "library": "var_list.r",
     "varRefreshCmd": "cat(var_dic_list()) "
    }
   },
   "types_to_exclude": [
    "module",
    "function",
    "builtin_function_or_method",
    "instance",
    "_Feature"
   ],
   "window_display": false
  }
 },
 "nbformat": 4,
 "nbformat_minor": 2
}
