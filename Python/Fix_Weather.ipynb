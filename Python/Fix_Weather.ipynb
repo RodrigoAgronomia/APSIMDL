{
 "cells": [
  {
   "cell_type": "code",
   "execution_count": 60,
   "metadata": {},
   "outputs": [],
   "source": [
    "import numpy as np\n",
    "import pandas as pd\n",
    "import geopandas as gpd\n",
    "import seaborn as sns\n",
    "import matplotlib.pyplot as plt\n",
    "from tqdm.notebook import tqdm, trange\n"
   ]
  },
  {
   "cell_type": "code",
   "execution_count": 61,
   "metadata": {},
   "outputs": [],
   "source": [
    "pts = gpd.read_file('../../CIAT/data/BEM_2019_Chiapas_Final_Clean.gpkg')\n"
   ]
  },
  {
   "cell_type": "code",
   "execution_count": 62,
   "metadata": {},
   "outputs": [
    {
     "data": {
      "application/vnd.jupyter.widget-view+json": {
       "model_id": "7a20002150ac441ab52031feb62e5e41",
       "version_major": 2,
       "version_minor": 0
      },
      "text/plain": [
       "HBox(children=(FloatProgress(value=0.0, max=4594.0), HTML(value='')))"
      ]
     },
     "metadata": {},
     "output_type": "display_data"
    },
    {
     "name": "stdout",
     "output_type": "stream",
     "text": [
      "\n"
     ]
    }
   ],
   "source": [
    "i = 1\n",
    "for i in trange(len(pts)):\n",
    "    nasa_power_file = '/home/rodrigo7/Apsim_test/MASAGRO/PCSE/CH{0:05d}_np.csv'.format(i + 1)\n",
    "    save_file = '/home/rodrigo7/Apsim_test/MASAGRO/PCSE/CH{0:05d}_npf.csv'.format(i + 1)\n",
    "    df = pd.read_csv(nasa_power_file, skiprows=13)\n",
    "    df.DAY = pd.to_datetime(df.DAY, format= '%Y%m%d').dt.date\n",
    "\n",
    "    idx = pd.date_range(df.DAY.min(), df.DAY.max(), freq = \"D\")\n",
    "    df.set_index('DAY', drop=True, inplace=True)\n",
    "    df.index = pd.DatetimeIndex(df.index)\n",
    "    df = df.reindex(idx)\n",
    "    df = df.fillna(method = 'backfill')\n",
    "    df = df.reset_index().rename(columns={'index': 'DAY'})\n",
    "    df.DAY = df.DAY.dt.strftime('%Y%m%d')\n",
    "\n",
    "    with open(save_file, 'w') as sf:\n",
    "        with open(nasa_power_file) as f:\n",
    "            for r in range(14):\n",
    "                sf.writelines(f.readline())\n",
    "    df.to_csv(save_file, na_rep = 'NaN', mode = 'a', float_format = '%.3f', header = False, index = False)\n"
   ]
  },
  {
   "cell_type": "code",
   "execution_count": null,
   "metadata": {},
   "outputs": [],
   "source": []
  },
  {
   "cell_type": "code",
   "execution_count": null,
   "metadata": {},
   "outputs": [],
   "source": []
  }
 ],
 "metadata": {
  "kernelspec": {
   "display_name": "Python [conda env:GEOANN]",
   "language": "python",
   "name": "conda-env-GEOANN-py"
  },
  "language_info": {
   "codemirror_mode": {
    "name": "ipython",
    "version": 3
   },
   "file_extension": ".py",
   "mimetype": "text/x-python",
   "name": "python",
   "nbconvert_exporter": "python",
   "pygments_lexer": "ipython3",
   "version": "3.7.6"
  }
 },
 "nbformat": 4,
 "nbformat_minor": 4
}
