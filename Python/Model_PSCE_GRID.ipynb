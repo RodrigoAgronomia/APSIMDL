{
 "cells": [
  {
   "cell_type": "code",
   "execution_count": 1,
   "metadata": {},
   "outputs": [],
   "source": [
    "import os\n",
    "import h5py\n",
    "import time\n",
    "import torch\n",
    "import pyreadr\n",
    "import numpy as np\n",
    "import pandas as pd\n",
    "import datetime as dt\n",
    "import torch.nn as nn\n",
    "import matplotlib.pyplot as plt\n",
    "import torch.nn.functional as F\n",
    "from pandas.api.types import CategoricalDtype\n",
    "from torch.utils.data import Dataset, DataLoader\n",
    "from torch.nn.utils import weight_norm\n",
    "from sklearn.manifold import TSNE\n",
    "from livelossplot import PlotLosses\n",
    "from pytorch_model_summary import summary\n",
    "from tqdm.notebook import tqdm, trange\n",
    "\n",
    "device = torch.device('cuda')"
   ]
  },
  {
   "cell_type": "code",
   "execution_count": 2,
   "metadata": {},
   "outputs": [],
   "source": [
    "from joblib import dump, load\n",
    "from sklearn import metrics\n",
    "from sklearn.model_selection import train_test_split, GroupShuffleSplit\n",
    "from sklearn.preprocessing import StandardScaler, LabelEncoder"
   ]
  },
  {
   "cell_type": "code",
   "execution_count": 32,
   "metadata": {},
   "outputs": [],
   "source": [
    "class MyDataset(torch.utils.data.Dataset):\n",
    "    '''\n",
    "    Class to load the dataset\n",
    "    '''\n",
    "    def __init__(self, w, y, idx):\n",
    "        self.w = w\n",
    "        self.y = y\n",
    "        self.idx = idx\n",
    "            \n",
    "    def __len__(self):\n",
    "        return len(self.idx)\n",
    "\n",
    "    def __getitem__(self, idx):\n",
    "            \n",
    "        idx = self.idx[idx]\n",
    "        ridx = np.random.randint(0, self.y.shape[1])\n",
    "        \n",
    "        ww = torch.tensor(self.w[idx, ridx], dtype=torch.float, device = device)\n",
    "        yy = torch.tensor(self.y[idx, ridx], dtype=torch.float, device = device)\n",
    "        \n",
    "        return (ww, yy)"
   ]
  },
  {
   "cell_type": "code",
   "execution_count": 33,
   "metadata": {},
   "outputs": [],
   "source": [
    "class MyNet(nn.Module):\n",
    "\n",
    "    def __init__(self, w_layers, pred_layers):\n",
    "\n",
    "        super().__init__()\n",
    "              \n",
    "        # Weaher variables\n",
    "        w_layers_list = nn.ModuleList()\n",
    "        for i, o, k, d in w_layers:\n",
    "            w_layer = nn.Sequential(\n",
    "                nn.Conv1d(i, o, k),\n",
    "                nn.AvgPool1d(2),\n",
    "                nn.LeakyReLU(),\n",
    "                nn.BatchNorm1d(o),\n",
    "                nn.Dropout(d)\n",
    "            )\n",
    "            w_layers_list.append(w_layer)\n",
    "        w_layers_list.append(nn.AdaptiveAvgPool1d(1))\n",
    "        self.w_layers = nn.Sequential(*w_layers_list)\n",
    "\n",
    "        \n",
    "        # Management variables\n",
    "        pred_layers_list = nn.ModuleList()\n",
    "        for i, o, d in pred_layers:\n",
    "            pred_layer = nn.Sequential(\n",
    "                nn.Linear(i, o),\n",
    "                nn.LeakyReLU(),\n",
    "                nn.BatchNorm1d(o),\n",
    "                nn.Dropout(d)\n",
    "            )\n",
    "            pred_layers_list.append(pred_layer)\n",
    "        pred_layers_list.append(nn.Linear(o, 1))\n",
    "        self.pred_layers = nn.Sequential(*pred_layers_list)\n",
    "        \n",
    "   \n",
    "    def forward(self, Ws):\n",
    "        \n",
    "        feat = self.w_layers(Ws).view(Ws.shape[0], -1)\n",
    "        pred = self.pred_layers(feat)\n",
    "        return (torch.tanh(pred))\n"
   ]
  },
  {
   "cell_type": "code",
   "execution_count": 5,
   "metadata": {},
   "outputs": [],
   "source": [
    "# Values used to scale the weather data:\n",
    "ws = np.array([[[5e4,50,50,5,100.0]]])\n"
   ]
  },
  {
   "cell_type": "code",
   "execution_count": 6,
   "metadata": {},
   "outputs": [],
   "source": [
    "ydf = pd.read_hdf('../data/PSCE_TILE.h5', key = 'SIM').set_index('SIM')\n",
    "ydf['Yield'] = (ydf.TWSO/2e4)"
   ]
  },
  {
   "cell_type": "code",
   "execution_count": 7,
   "metadata": {},
   "outputs": [
    {
     "data": {
      "application/vnd.jupyter.widget-view+json": {
       "model_id": "c07f77b6f5b74162994e107a3ac59d0c",
       "version_major": 2,
       "version_minor": 0
      },
      "text/plain": [
       "HBox(children=(FloatProgress(value=0.0, max=1600.0), HTML(value='')))"
      ]
     },
     "metadata": {},
     "output_type": "display_data"
    },
    {
     "name": "stdout",
     "output_type": "stream",
     "text": [
      "\n"
     ]
    }
   ],
   "source": [
    "wdir = '/home/rodrigo7/Apsim_test/MASAGRO/DAYMET_TILE'\n",
    "pxy = np.stack(np.meshgrid(np.arange(40), np.arange(40)), -1).reshape(-1, 2)\n",
    "wfiles = [f'{wdir}/DAYMET_9584_{px:02d}_{py:02d}.csv' for px, py in pxy]\n",
    "\n",
    "sim_ww = []\n",
    "sim_yy = []\n",
    "\n",
    "wfile = wfiles[10]\n",
    "for wfile in tqdm(wfiles):   \n",
    "    site = os.path.basename(wfile).replace('.csv', '')\n",
    "\n",
    "    w = pd.read_csv(wfile, skiprows = 13)\n",
    "    w.DAY = pd.to_datetime(w.DAY, format = '%Y%m%d').dt.date\n",
    "\n",
    "    sydf = ydf.loc[site]\n",
    "    sim_yy.append(sydf.Yield.values)\n",
    "\n",
    "    wwf = []\n",
    "    for crop_start_date in sydf.SIM_DATE:\n",
    "        cs_date = np.where(w.DAY == crop_start_date)[0][0]\n",
    "        wrng = slice(cs_date-90, cs_date+210)\n",
    "        ww = w.iloc[wrng,[1,2,3,4,6]].values / ws\n",
    "        wwf.append(ww)\n",
    "\n",
    "    sim_ww.append(np.concatenate(wwf))\n",
    "    \n",
    "sim_ww = np.stack(sim_ww)\n",
    "sim_yy = np.stack(sim_yy)"
   ]
  },
  {
   "cell_type": "code",
   "execution_count": 14,
   "metadata": {},
   "outputs": [],
   "source": [
    "wd = np.zeros_like(sim_ww[:,:,:,[0]])\n",
    "wd = wd + np.linspace(-0.9,2.1,300)[None,None,:,None]\n",
    "W = np.concatenate([sim_ww, wd], -1)\n",
    "W = np.moveaxis(W, -1, -2)"
   ]
  },
  {
   "cell_type": "code",
   "execution_count": 16,
   "metadata": {},
   "outputs": [
    {
     "name": "stdout",
     "output_type": "stream",
     "text": [
      "(1400,) (200,)\n"
     ]
    }
   ],
   "source": [
    "pred_idx = np.arange(len(sim_yy))\n",
    "val_idx = np.random.choice(pred_idx, size=200, replace=False)\n",
    "train_idx = np.setdiff1d(pred_idx, val_idx)\n",
    "print(train_idx.shape, val_idx.shape)"
   ]
  },
  {
   "cell_type": "code",
   "execution_count": 19,
   "metadata": {},
   "outputs": [
    {
     "name": "stdout",
     "output_type": "stream",
     "text": [
      "2\n"
     ]
    }
   ],
   "source": [
    "batch_size = 2000\n",
    "\n",
    "pred_dataset = MyDataset(W, sim_yy, pred_idx)\n",
    "train_dataset = MyDataset(W, sim_yy, train_idx)\n",
    "val_dataset = MyDataset(W, sim_yy, val_idx)\n",
    "\n",
    "\n",
    "pred_loader = DataLoader(pred_dataset, batch_size=batch_size, shuffle=False)\n",
    "train_loader = DataLoader(train_dataset, batch_size=batch_size, shuffle=True)\n",
    "val_loader = DataLoader(val_dataset, batch_size=batch_size, shuffle=True)\n",
    "\n",
    "data_inputs = iter(train_loader).next()\n",
    "print(len(train_loader))\n",
    "\n"
   ]
  },
  {
   "cell_type": "code",
   "execution_count": 79,
   "metadata": {},
   "outputs": [
    {
     "name": "stdout",
     "output_type": "stream",
     "text": [
      "-----------------------------------------------------------------------------\n",
      "           Layer (type)         Output Shape         Param #     Tr. Param #\n",
      "=============================================================================\n",
      "               Conv1d-1     [1000, 120, 298]           2,280           2,280\n",
      "            AvgPool1d-2     [1000, 120, 149]               0               0\n",
      "            LeakyReLU-3     [1000, 120, 149]               0               0\n",
      "          BatchNorm1d-4     [1000, 120, 149]             240             240\n",
      "              Dropout-5     [1000, 120, 149]               0               0\n",
      "               Conv1d-6     [1000, 150, 145]          90,150          90,150\n",
      "            AvgPool1d-7      [1000, 150, 72]               0               0\n",
      "            LeakyReLU-8      [1000, 150, 72]               0               0\n",
      "          BatchNorm1d-9      [1000, 150, 72]             300             300\n",
      "             Dropout-10      [1000, 150, 72]               0               0\n",
      "              Conv1d-11      [1000, 200, 66]         210,200         210,200\n",
      "           AvgPool1d-12      [1000, 200, 33]               0               0\n",
      "           LeakyReLU-13      [1000, 200, 33]               0               0\n",
      "         BatchNorm1d-14      [1000, 200, 33]             400             400\n",
      "             Dropout-15      [1000, 200, 33]               0               0\n",
      "              Conv1d-16      [1000, 250, 29]         250,250         250,250\n",
      "           AvgPool1d-17      [1000, 250, 14]               0               0\n",
      "           LeakyReLU-18      [1000, 250, 14]               0               0\n",
      "         BatchNorm1d-19      [1000, 250, 14]             500             500\n",
      "             Dropout-20      [1000, 250, 14]               0               0\n",
      "              Conv1d-21     [1000, 1000, 12]         751,000         751,000\n",
      "           AvgPool1d-22      [1000, 1000, 6]               0               0\n",
      "           LeakyReLU-23      [1000, 1000, 6]               0               0\n",
      "         BatchNorm1d-24      [1000, 1000, 6]           2,000           2,000\n",
      "             Dropout-25      [1000, 1000, 6]               0               0\n",
      "   AdaptiveAvgPool1d-26      [1000, 1000, 1]               0               0\n",
      "              Linear-27          [1000, 500]         500,500         500,500\n",
      "           LeakyReLU-28          [1000, 500]               0               0\n",
      "         BatchNorm1d-29          [1000, 500]           1,000           1,000\n",
      "             Dropout-30          [1000, 500]               0               0\n",
      "              Linear-31          [1000, 500]         250,500         250,500\n",
      "           LeakyReLU-32          [1000, 500]               0               0\n",
      "         BatchNorm1d-33          [1000, 500]           1,000           1,000\n",
      "             Dropout-34          [1000, 500]               0               0\n",
      "              Linear-35          [1000, 250]         125,250         125,250\n",
      "           LeakyReLU-36          [1000, 250]               0               0\n",
      "         BatchNorm1d-37          [1000, 250]             500             500\n",
      "             Dropout-38          [1000, 250]               0               0\n",
      "              Linear-39            [1000, 1]             251             251\n",
      "=============================================================================\n",
      "Total params: 2,186,321\n",
      "Trainable params: 2,186,321\n",
      "Non-trainable params: 0\n",
      "-----------------------------------------------------------------------------\n"
     ]
    }
   ],
   "source": [
    "d = 0.0\n",
    "w_layers =  [[6,120,3,d],[120,150,5,d],[150,200,7,d],[200,250,5,d],[250,1000,3,d]]\n",
    "pred_layers = [[1000,500,d],[500,500,d], [500,250,d]]\n",
    "\n",
    "model = MyNet(w_layers, pred_layers)\n",
    "model = model.to(device)\n",
    "    \n",
    "model_file_name = '../data/model_cnn_grd.pth'\n",
    "model.load_state_dict(torch.load(model_file_name, map_location=device))\n",
    "\n",
    "\n",
    "sm = summary(model, data_inputs[0], print_summary=True,  max_depth=1)"
   ]
  },
  {
   "cell_type": "code",
   "execution_count": 80,
   "metadata": {},
   "outputs": [],
   "source": [
    "criterion = nn.MSELoss()\n",
    "optimizer = torch.optim.Adam(model.parameters(), lr=0.001)"
   ]
  },
  {
   "cell_type": "code",
   "execution_count": 81,
   "metadata": {},
   "outputs": [],
   "source": [
    "min_loss = 10\n",
    "bad_epochs = 0\n",
    "liveloss = PlotLosses()"
   ]
  },
  {
   "cell_type": "code",
   "execution_count": 83,
   "metadata": {},
   "outputs": [
    {
     "data": {
      "image/png": "[encoded data removed]",
      "text/plain": [
       "<Figure size 864x576 with 1 Axes>"
      ]
     },
     "metadata": {
      "needs_background": "light"
     },
     "output_type": "display_data"
    },
    {
     "name": "stdout",
     "output_type": "stream",
     "text": [
      "log loss:\n",
      "training   (min:  371.020, max: 2100.001, cur:  527.382)\n",
      "validation (min:  338.802, max: 4441.782, cur:  518.801)\n",
      "[356:999] loss: 0.001 time:0.43\n"
     ]
    }
   ],
   "source": [
    "for epoch in range(1000):\n",
    "    start_time = time.time()\n",
    "    epoch_loss = []\n",
    "    val_loss = []\n",
    "    \n",
    "    model.train()\n",
    "    for i, (Ws, Ys) in enumerate(tqdm(train_loader)):\n",
    "        \n",
    "        # Limpa os gradientes\n",
    "        optimizer.zero_grad()\n",
    "    \n",
    "        # Obtem o output\n",
    "        outputs = model(Ws)\n",
    "\n",
    "        # Caulcula a perda pela loss function\n",
    "        loss = criterion(outputs, Ys[:,None])\n",
    "        \n",
    "        # Obtem os gradientes\n",
    "        loss.backward()\n",
    "\n",
    "        # Atualiza os parâmetros\n",
    "        optimizer.step()\n",
    "        epoch_loss.append(loss.data.item())\n",
    "        \n",
    "    model.eval()\n",
    "    for i, (Ws, Ys) in enumerate(tqdm(val_loader)):\n",
    "        with torch.no_grad():\n",
    "          # Obtem o output\n",
    "          outputs = model(Ws)\n",
    "\n",
    "        # Caulcula a perda pela loss function (MSE)\n",
    "        loss = criterion(outputs, Ys[:,None])\n",
    "\n",
    "        val_loss.append(loss.data.item())\n",
    "        \n",
    "    epoch_loss = np.array(epoch_loss).mean()\n",
    "    val_loss = np.array(val_loss).mean()\n",
    "    time_taken = time.time() - start_time\n",
    "    \n",
    "    if val_loss < min_loss:\n",
    "        # Nome da pasta com o arquivo .pth salvando os pesos do modelo treinado\n",
    "        torch.save(model.state_dict(), model_file_name)\n",
    "        bad_epochs = 0\n",
    "        min_loss = val_loss\n",
    "    else:\n",
    "        bad_epochs += 1\n",
    "    \n",
    "    if bad_epochs > 500:\n",
    "        break\n",
    "\n",
    "    liveloss.update({\n",
    "        'log loss': np.sqrt(epoch_loss) * 2e4,\n",
    "        'val_log loss': np.sqrt(val_loss) * 2e4\n",
    "    })\n",
    "    liveloss.draw() #Apresenta o gráfico log loss\n",
    "    print('[%d:%d] loss: %.3f time:%.2f' % (bad_epochs, epoch, epoch_loss, time_taken))\n"
   ]
  },
  {
   "cell_type": "code",
   "execution_count": 84,
   "metadata": {},
   "outputs": [
    {
     "name": "stdout",
     "output_type": "stream",
     "text": [
      "Model OK\n"
     ]
    }
   ],
   "source": [
    "model.load_state_dict(torch.load(model_file_name, map_location=device))\n",
    "print('Model OK')"
   ]
  },
  {
   "cell_type": "code",
   "execution_count": 85,
   "metadata": {},
   "outputs": [
    {
     "data": {
      "application/vnd.jupyter.widget-view+json": {
       "model_id": "ab8584593b504a429d0230273ff85dee",
       "version_major": 2,
       "version_minor": 0
      },
      "text/plain": [
       "HBox(children=(FloatProgress(value=0.0), HTML(value='')))"
      ]
     },
     "metadata": {},
     "output_type": "display_data"
    },
    {
     "name": "stdout",
     "output_type": "stream",
     "text": [
      "\n",
      "time:3.00\n"
     ]
    }
   ],
   "source": [
    "# Inicia o tempo para contagem\n",
    "start_time = time.time()\n",
    "\n",
    "# Realiza a predição dos dados a partir do modelo treinado - Dados de validação\n",
    "model.eval()\n",
    "obs = []\n",
    "preds = []\n",
    "for k in trange(100):\n",
    "    for i, (Ws, Ys) in enumerate((val_loader)):\n",
    "        obs.append(Ys.cpu().data.numpy())\n",
    "        with torch.no_grad():\n",
    "            pred = model(Ws)\n",
    "        preds.append(pred.cpu().data.numpy())\n",
    "obs = np.concatenate(obs)\n",
    "preds = np.concatenate(preds)\n",
    "\n",
    "# Faz a diferença para calcular o tempo           \n",
    "time_taken = time.time() - start_time\n",
    "# Apresenta o valor do tempo\n",
    "print('time:%.2f' % (time_taken))"
   ]
  },
  {
   "cell_type": "code",
   "execution_count": 86,
   "metadata": {},
   "outputs": [
    {
     "name": "stdout",
     "output_type": "stream",
     "text": [
      "0.9801\n"
     ]
    },
    {
     "data": {
      "image/png": "[encoded data removed]",
      "text/plain": [
       "<Figure size 432x288 with 1 Axes>"
      ]
     },
     "metadata": {
      "needs_background": "light"
     },
     "output_type": "display_data"
    }
   ],
   "source": [
    "x = preds.reshape(-1) * 2e4\n",
    "y = obs.reshape(-1) * 2e4\n",
    "\n",
    "ax = plt.axes()\n",
    "ax.set_aspect('equal', 'datalim')\n",
    "\n",
    "plt.scatter(x, y, 0.1, alpha=0.9)\n",
    "plt.xlabel('Predicted')\n",
    "plt.ylabel('Observed')\n",
    "plt.plot([y.min(), y.max()], [y.min(), y.max()], 'k-', color = 'r')\n",
    "print(np.round(np.corrcoef(x, y, rowvar=False)[1,0],3)**2)\n",
    "plt.show()"
   ]
  },
  {
   "cell_type": "code",
   "execution_count": 87,
   "metadata": {},
   "outputs": [],
   "source": [
    "idx_max = sim_yy.mean(1).argmax()\n",
    "idx_min = sim_yy.mean(1).argmin()"
   ]
  },
  {
   "cell_type": "code",
   "execution_count": 88,
   "metadata": {},
   "outputs": [
    {
     "data": {
      "text/plain": [
       "1182"
      ]
     },
     "execution_count": 88,
     "metadata": {},
     "output_type": "execute_result"
    }
   ],
   "source": [
    "idx_min"
   ]
  },
  {
   "cell_type": "code",
   "execution_count": 89,
   "metadata": {},
   "outputs": [],
   "source": [
    "ymax = pred_dataset[idx_max][1][None].cpu().data.numpy()\n",
    "ymin = pred_dataset[idx_min][1][None].cpu().data.numpy()\n",
    "wmax = pred_dataset[idx_max][0][None]\n",
    "wmin = pred_dataset[idx_min][0][None]\n",
    "wmaxo = wmax.clone()\n",
    "wmino = wmin.clone()\n",
    "\n",
    "wmax.requires_grad = True\n",
    "wmin.requires_grad = True"
   ]
  },
  {
   "cell_type": "code",
   "execution_count": 90,
   "metadata": {},
   "outputs": [],
   "source": [
    "ymax_pred = model(wmax).cpu().data.numpy()\n",
    "ymin_pred = model(wmin).cpu().data.numpy()"
   ]
  },
  {
   "cell_type": "code",
   "execution_count": 91,
   "metadata": {},
   "outputs": [],
   "source": [
    "criterion = nn.MSELoss()\n",
    "optimizer = torch.optim.Adam([wmax], lr=0.1)"
   ]
  },
  {
   "cell_type": "code",
   "execution_count": 92,
   "metadata": {},
   "outputs": [],
   "source": [
    "yield_loss = PlotLosses(skip_first = 0)"
   ]
  },
  {
   "cell_type": "code",
   "execution_count": 93,
   "metadata": {},
   "outputs": [
    {
     "data": {
      "image/png": "[encoded data removed]",
      "text/plain": [
       "<Figure size 864x576 with 1 Axes>"
      ]
     },
     "metadata": {
      "needs_background": "light"
     },
     "output_type": "display_data"
    },
    {
     "name": "stdout",
     "output_type": "stream",
     "text": [
      "log loss:\n",
      "training   (min: 3076.634, max: 16360.878, cur: 16216.838)\n"
     ]
    }
   ],
   "source": [
    "eps = 0.01\n",
    "model.eval()\n",
    "for i in trange(100):\n",
    "\n",
    "    # Limpa os gradientes\n",
    "    optimizer.zero_grad()\n",
    "\n",
    "    # Obtem o output\n",
    "    outputs = model(wmax)\n",
    "\n",
    "    # Caulcula a perda pela loss function\n",
    "    loss = -outputs.mean()\n",
    "    \n",
    "    # Use an l2 penalty:\n",
    "    loss += criterion(wmaxo, wmax)/eps\n",
    "        \n",
    "    # Obtem os gradientes\n",
    "    loss.backward()\n",
    "\n",
    "    # Atualiza os parâmetros\n",
    "    optimizer.step()\n",
    "    \n",
    "    # Clip to the valid range of values:\n",
    "    wmax.data = torch.clamp(wmax.data, 0, 1)\n",
    "    wmax.data[:,-1] = wmaxo[:,-1]\n",
    "\n",
    "    yield_loss.update({\n",
    "        'log loss': 2e4 * outputs.mean().item()\n",
    "    })\n",
    "yield_loss.draw()"
   ]
  },
  {
   "cell_type": "code",
   "execution_count": 94,
   "metadata": {},
   "outputs": [
    {
     "data": {
      "text/plain": [
       "Text(0, 0.5, 'Yield')"
      ]
     },
     "execution_count": 94,
     "metadata": {},
     "output_type": "execute_result"
    },
    {
     "data": {
      "image/png": "[encoded data removed]",
      "text/plain": [
       "<Figure size 432x288 with 1 Axes>"
      ]
     },
     "metadata": {
      "needs_background": "light"
     },
     "output_type": "display_data"
    }
   ],
   "source": [
    "plt.plot(pd.DataFrame(yield_loss.logs).values[:,0])\n",
    "plt.xlabel('Iteration')\n",
    "plt.ylabel('Yield')\n"
   ]
  },
  {
   "cell_type": "code",
   "execution_count": 95,
   "metadata": {},
   "outputs": [],
   "source": [
    "pred = outputs.cpu().data.numpy()"
   ]
  },
  {
   "cell_type": "code",
   "execution_count": 96,
   "metadata": {},
   "outputs": [],
   "source": [
    "wmax_np = wmax.data.cpu().numpy()\n",
    "wmaxo_np = wmaxo.data.cpu().numpy()\n"
   ]
  },
  {
   "cell_type": "code",
   "execution_count": 97,
   "metadata": {},
   "outputs": [
    {
     "data": {
      "image/png": "[encoded data removed]",
      "text/plain": [
       "<Figure size 720x432 with 1 Axes>"
      ]
     },
     "metadata": {
      "needs_background": "light"
     },
     "output_type": "display_data"
    }
   ],
   "source": [
    "plt.figure(figsize=(10,6))\n",
    "xx = np.linspace(-90, 210, 300)\n",
    "plt.plot(xx, 100 * np.stack([wmaxo_np[0,-2], wmax_np[0,-2]], 1))\n",
    "plt.xlabel('Days after emergence')\n",
    "plt.ylabel('Rain (mm/day)')\n",
    "plt.show()"
   ]
  },
  {
   "cell_type": "code",
   "execution_count": 98,
   "metadata": {},
   "outputs": [],
   "source": [
    "# Save weather data in the format needed\n",
    "# Run the WOFOST model and compare the results."
   ]
  },
  {
   "cell_type": "code",
   "execution_count": 99,
   "metadata": {},
   "outputs": [],
   "source": [
    "# Compare adversarial trained vs plain trained model generalization\n",
    "# Using FGSM\n",
    "\n",
    "# Certified robustness wihtin confidence interval"
   ]
  },
  {
   "cell_type": "code",
   "execution_count": null,
   "metadata": {},
   "outputs": [],
   "source": []
  }
 ],
 "metadata": {
  "kernelspec": {
   "display_name": "Python [conda env:GEOANN]",
   "language": "python",
   "name": "conda-env-GEOANN-py"
  },
  "language_info": {
   "codemirror_mode": {
    "name": "ipython",
    "version": 3
   },
   "file_extension": ".py",
   "mimetype": "text/x-python",
   "name": "python",
   "nbconvert_exporter": "python",
   "pygments_lexer": "ipython3",
   "version": "3.7.6"
  },
  "varInspector": {
   "cols": {
    "lenName": 16,
    "lenType": 16,
    "lenVar": 40
   },
   "kernels_config": {
    "python": {
     "delete_cmd_postfix": "",
     "delete_cmd_prefix": "del ",
     "library": "var_list.py",
     "varRefreshCmd": "print(var_dic_list())"
    },
    "r": {
     "delete_cmd_postfix": ") ",
     "delete_cmd_prefix": "rm(",
     "library": "var_list.r",
     "varRefreshCmd": "cat(var_dic_list()) "
    }
   },
   "types_to_exclude": [
    "module",
    "function",
    "builtin_function_or_method",
    "instance",
    "_Feature"
   ],
   "window_display": false
  }
 },
 "nbformat": 4,
 "nbformat_minor": 2
}
