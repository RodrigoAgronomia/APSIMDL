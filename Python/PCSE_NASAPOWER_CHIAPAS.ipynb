{
 "cells": [
  {
   "cell_type": "code",
   "execution_count": 7,
   "metadata": {},
   "outputs": [],
   "source": [
    "import os\n",
    "import pcse\n",
    "import yaml\n",
    "import h5py\n",
    "import numpy as np\n",
    "import pandas as pd\n",
    "import geopandas as gpd\n",
    "import datetime as dt\n",
    "from tqdm.notebook import tqdm, trange\n",
    "import matplotlib.pyplot as plt\n",
    "from pcse.db import NASAPowerWeatherDataProvider\n",
    "from pcse import fileinput as fi"
   ]
  },
  {
   "cell_type": "code",
   "execution_count": 8,
   "metadata": {},
   "outputs": [],
   "source": [
    "pts = gpd.read_file('../../CIAT/data/BEM_2019_Chiapas_Final_Clean.gpkg')\n",
    "pts['site'] = ['CH{0:05d}'.format(i + 1) for i in range(len(pts))]\n",
    "pts['lon'] = pts.centroid.x\n",
    "pts['lat'] = pts.centroid.y\n",
    "pts['ref_date'] = pd.to_datetime(pts.fecha_de_siembra)\n",
    "pts['nrate'] = pts.nitrogen/10\n"
   ]
  },
  {
   "cell_type": "code",
   "execution_count": 9,
   "metadata": {},
   "outputs": [
    {
     "name": "stderr",
     "output_type": "stream",
     "text": [
      "/opt/anaconda3/envs/GEOANN/lib/python3.7/site-packages/pyproj/crs.py:77: FutureWarning: '+init=<authority>:<code>' syntax is deprecated. '<authority>:<code>' is the preferred initialization method.\n",
      "  return _prepare_from_string(\" \".join(pjargs))\n",
      "/opt/anaconda3/envs/GEOANN/lib/python3.7/site-packages/pyproj/crs.py:77: FutureWarning: '+init=<authority>:<code>' syntax is deprecated. '<authority>:<code>' is the preferred initialization method.\n",
      "  return _prepare_from_string(\" \".join(pjargs))\n"
     ]
    }
   ],
   "source": [
    "soilpts = gpd.read_file('../data/CH_Soils.gpkg')\n",
    "soilpts.geometry = soilpts.to_crs('epsg:32715').buffer(5000).to_crs(pts.crs)\n",
    "pts = gpd.sjoin(pts, soilpts, how = 'left')"
   ]
  },
  {
   "cell_type": "code",
   "execution_count": 10,
   "metadata": {},
   "outputs": [
    {
     "data": {
      "application/vnd.jupyter.widget-view+json": {
       "model_id": "21bb7b1537364121b8a0229f324708ee",
       "version_major": 2,
       "version_minor": 0
      },
      "text/plain": [
       "HBox(children=(FloatProgress(value=0.0, max=4908.0), HTML(value='')))"
      ]
     },
     "metadata": {},
     "output_type": "display_data"
    },
    {
     "name": "stdout",
     "output_type": "stream",
     "text": [
      "\n"
     ]
    }
   ],
   "source": [
    "for i in trange(len(pts)):\n",
    "    wdp = NASAPowerWeatherDataProvider(latitude=pts.lat.values[i], longitude=pts.lon.values[i])\n",
    "\n",
    "    save_cols = ['DAY', 'IRRAD', 'TMIN', 'TMAX', 'VAP', 'WIND', 'RAIN']\n",
    "    wdpdf = pd.DataFrame(wdp.export()).loc[:,save_cols]\n",
    "    wdpdf['DAY'] = pd.to_datetime(wdpdf.DAY).dt.strftime('%Y%m%d')\n",
    "    wdpdf['IRRAD'] = wdpdf.IRRAD / 1000\n",
    "    wdpdf['VAP'] = wdpdf.VAP / 10\n",
    "    wdpdf['RAIN'] = wdpdf.RAIN * 10\n",
    "    wdpdf['SNOWDEPTH'] = np.nan\n",
    "\n",
    "\n",
    "    site_c = [\"## Site Characteristics\",\n",
    "              \"Country     = 'Mexico'\",\n",
    "              \"Station     = '{}'\".format(pts.site.values[i]),\n",
    "              \"Description = 'MASAGRO'\",\n",
    "              \"Source      = 'Daymet'\",\n",
    "              \"Contact     = 'Rodrigo'\",\n",
    "              \"Longitude   = {}\".format(wdp.longitude),\n",
    "              \"Latitude    = {}\".format(wdp.latitude),\n",
    "              \"Elevation   = {}\".format(wdp.elevation),\n",
    "              \"AngstromA   = {}\".format(wdp.angstA),\n",
    "              \"AngstromB   = {}\".format(wdp.angstB),\n",
    "              \"HasSunshine = False\",\n",
    "              \"## Daily weather observations\",\n",
    "              ','.join(wdpdf.columns)\n",
    "             ]\n",
    "\n",
    "    wfile_np = '/home/rodrigo7/Apsim_test/MASAGRO/PCSE/{}_np.csv'.format(pts.site.values[i])\n",
    "    with open(wfile_np, 'w') as f:\n",
    "        for r in site_c:\n",
    "            f.writelines(r)\n",
    "            f.writelines('\\n')\n",
    "    wdpdf.to_csv(wfile_np, na_rep = 'NaN', mode = 'a', float_format = '%.3f', header = False, index = False)"
   ]
  },
  {
   "cell_type": "code",
   "execution_count": 11,
   "metadata": {},
   "outputs": [],
   "source": [
    "wdp = fi.CSVWeatherDataProvider(wfile_np)\n"
   ]
  },
  {
   "cell_type": "code",
   "execution_count": 12,
   "metadata": {},
   "outputs": [
    {
     "name": "stdout",
     "output_type": "stream",
     "text": [
      "Weather data provided by: CSVWeatherDataProvider\n",
      "--------Description---------\n",
      "Weather data for:\n",
      "Country: Mexico\n",
      "Station: CH04594\n",
      "Description: MASAGRO\n",
      "Source: Daymet\n",
      "Contact: Rodrigo\n",
      "----Site characteristics----\n",
      "Elevation:  768.5\n",
      "Latitude:  17.200\n",
      "Longitude: -92.700\n",
      "Data available for 1983-07-01 - 2020-02-28\n",
      "Number of missing days: 23\n",
      "\n"
     ]
    }
   ],
   "source": [
    "print(wdp)"
   ]
  },
  {
   "cell_type": "code",
   "execution_count": null,
   "metadata": {},
   "outputs": [],
   "source": []
  }
 ],
 "metadata": {
  "kernelspec": {
   "display_name": "Python [conda env:GEOANN]",
   "language": "python",
   "name": "conda-env-GEOANN-py"
  },
  "language_info": {
   "codemirror_mode": {
    "name": "ipython",
    "version": 3
   },
   "file_extension": ".py",
   "mimetype": "text/x-python",
   "name": "python",
   "nbconvert_exporter": "python",
   "pygments_lexer": "ipython3",
   "version": "3.7.6"
  }
 },
 "nbformat": 4,
 "nbformat_minor": 4
}
